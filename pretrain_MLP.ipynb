{
 "cells": [
  {
   "cell_type": "markdown",
   "metadata": {},
   "source": [
    "# Pretraining `num_rows` vs transfered performance\n",
    "Pretrain fastsim weights for 1M, 2M, 4M, 8M, ... rows\n",
    "\n",
    "Then transfer and do fixed fullsim transfer training"
   ]
  },
  {
   "cell_type": "code",
   "execution_count": 2,
   "metadata": {},
   "outputs": [
    {
     "name": "stdout",
     "output_type": "stream",
     "text": [
      "[PhysicalDevice(name='/physical_device:GPU:0', device_type='GPU')]\n"
     ]
    },
    {
     "name": "stderr",
     "output_type": "stream",
     "text": [
      "2023-05-18 21:45:44.507045: I tensorflow/stream_executor/platform/default/dso_loader.cc:44] Successfully opened dynamic library libcuda.so.1\n",
      "2023-05-18 21:45:44.540868: I tensorflow/core/common_runtime/gpu/gpu_device.cc:1561] Found device 0 with properties: \n",
      "pciBusID: 0000:41:00.0 name: NVIDIA A40 computeCapability: 8.6\n",
      "coreClock: 1.74GHz coreCount: 84 deviceMemorySize: 44.56GiB deviceMemoryBandwidth: 648.29GiB/s\n",
      "2023-05-18 21:45:44.543784: I tensorflow/stream_executor/platform/default/dso_loader.cc:44] Successfully opened dynamic library libcudart.so.10.1\n",
      "2023-05-18 21:45:44.565655: I tensorflow/stream_executor/platform/default/dso_loader.cc:44] Successfully opened dynamic library libcublas.so.10\n",
      "2023-05-18 21:45:44.575753: I tensorflow/stream_executor/platform/default/dso_loader.cc:44] Successfully opened dynamic library libcufft.so.10\n",
      "2023-05-18 21:45:44.596478: I tensorflow/stream_executor/platform/default/dso_loader.cc:44] Successfully opened dynamic library libcurand.so.10\n",
      "2023-05-18 21:45:44.616465: I tensorflow/stream_executor/platform/default/dso_loader.cc:44] Successfully opened dynamic library libcusolver.so.10\n",
      "2023-05-18 21:45:44.626747: I tensorflow/stream_executor/platform/default/dso_loader.cc:44] Successfully opened dynamic library libcusparse.so.10\n",
      "2023-05-18 21:45:44.688755: I tensorflow/stream_executor/platform/default/dso_loader.cc:44] Successfully opened dynamic library libcudnn.so.7\n",
      "2023-05-18 21:45:44.690298: I tensorflow/core/common_runtime/gpu/gpu_device.cc:1703] Adding visible gpu devices: 0\n"
     ]
    }
   ],
   "source": [
    "import sys\n",
    "import os\n",
    "os.environ[\"CUDA_VISIBLE_DEVICES\"] = \"1\"\n",
    "\n",
    "from tqdm import tqdm\n",
    "import h5py\n",
    "import numpy as np\n",
    "import pandas as pd\n",
    "import matplotlib.pyplot as plt\n",
    "from sklearn.preprocessing import StandardScaler\n",
    "\n",
    "import tensorflow as tf\n",
    "from tensorflow import keras\n",
    "from tensorflow.keras.models import Sequential\n",
    "from tensorflow.keras.layers import Dense\n",
    "from tensorflow.keras import initializers\n",
    "\n",
    "import wandb\n",
    "from wandb.keras import WandbCallback\n",
    "\n",
    "# https://gitlab.cern.ch/atlas/ATLAS-top-tagging-open-data/-/blob/master/preprocessing.py\n",
    "import preprocessing\n",
    "\n",
    "np.random.seed(8)\n",
    "tf.random.set_seed(8)\n",
    "\n",
    "physical_devices = tf.config.list_physical_devices('GPU')\n",
    "print(physical_devices)\n",
    "tf.config.experimental.set_memory_growth(physical_devices[0], True)"
   ]
  },
  {
   "cell_type": "code",
   "execution_count": 3,
   "metadata": {},
   "outputs": [
    {
     "data": {
      "text/plain": [
       "['train_0.h5']"
      ]
     },
     "execution_count": 3,
     "metadata": {},
     "output_type": "execute_result"
    }
   ],
   "source": [
    "train_file_names = os.listdir(\"/global/ml4hep/spss/mfong/transfer_learning/delphes_train\")\n",
    "# for i in range(7, 15):\n",
    "for i in range(1, 15):\n",
    "    train_file_names.remove(f\"train_{i}.h5\")\n",
    "train_file_names\n",
    "# f = h5py.File('/clusterfs/ml4hep/mfong/transfer_learning/delphes_train.h5', 'r')\n",
    "# f2 = h5py.File('/clusterfs/ml4hep/mfong/transfer_learning/delphes_test.h5', 'r')"
   ]
  },
  {
   "cell_type": "code",
   "execution_count": 4,
   "metadata": {},
   "outputs": [],
   "source": [
    "num_samples_per_file = []\n",
    "for train_file_name in train_file_names:\n",
    "    f = h5py.File(\"/global/ml4hep/spss/mfong/transfer_learning/delphes_train/\" + train_file_name, 'r')\n",
    "    num_samples_per_file.append(f[\"fjet_clus_eta\"].shape[0])\n",
    "num_samples = sum(num_samples_per_file)\n",
    "feature_keys = ['fjet_clus_eta', 'fjet_clus_phi', 'fjet_clus_pt', 'fjet_clus_E']\n",
    "num_features = 0\n",
    "for k in feature_keys:\n",
    "    num_features += f[k].shape[1]\n",
    "# x = np.empty((num_samples, num_features))"
   ]
  },
  {
   "cell_type": "code",
   "execution_count": 5,
   "metadata": {},
   "outputs": [
    {
     "name": "stderr",
     "output_type": "stream",
     "text": [
      "0it [00:00, ?it/s]/global/home/users/mfong/git/transfer-learning/preprocessing.py:90: RuntimeWarning: divide by zero encountered in log\n",
      "  log_pt = np.log(pt)\n",
      "/global/home/users/mfong/git/transfer-learning/preprocessing.py:91: RuntimeWarning: divide by zero encountered in log\n",
      "  log_energy = np.log(energy)\n",
      "/global/home/users/mfong/git/transfer-learning/preprocessing.py:98: RuntimeWarning: divide by zero encountered in log\n",
      "  lognorm_pt = np.log(pt / sum_pt[:,np.newaxis])\n",
      "/global/home/users/mfong/git/transfer-learning/preprocessing.py:99: RuntimeWarning: divide by zero encountered in log\n",
      "  lognorm_energy = np.log(energy / sum_energy[:,np.newaxis])\n",
      "1it [04:26, 266.52s/it]\n"
     ]
    }
   ],
   "source": [
    "current_row = 0\n",
    "for train_file_name, current_num_samples in tqdm(zip(train_file_names, num_samples_per_file)):\n",
    "    f = h5py.File(\"/global/ml4hep/spss/mfong/transfer_learning/delphes_train/\" + train_file_name, 'r')\n",
    "    \n",
    "    # preprocess\n",
    "    data_dict = {k:v for k, v in f.items() if k in feature_keys}\n",
    "    x = preprocessing.constituent(data_dict, 200)       # TODO need to put these into preallocated x array\n",
    "    x = x.reshape(x.shape[0], x.shape[1]*x.shape[2])\n",
    "    # x = preprocessing.high_level(x)\n",
    "    \n",
    "    # x[current_row:current_row+current_num_samples] = np.concatenate([f[k] for k in feature_keys], axis=1)\n",
    "    current_row += current_num_samples"
   ]
  },
  {
   "cell_type": "code",
   "execution_count": 9,
   "metadata": {},
   "outputs": [
    {
     "name": "stdout",
     "output_type": "stream",
     "text": [
      "fjet_clus_E (5000000, 200)\n",
      "fjet_clus_eta (5000000, 200)\n",
      "fjet_clus_phi (5000000, 200)\n",
      "fjet_clus_pt (5000000, 200)\n",
      "fjet_eta (5000000,)\n",
      "fjet_m (5000000,)\n",
      "fjet_phi (5000000,)\n",
      "fjet_pt (5000000,)\n",
      "labels (5000000,)\n",
      "training_weights (5000000,)\n"
     ]
    }
   ],
   "source": [
    "feature_keys = ['fjet_clus_eta', 'fjet_clus_phi', 'fjet_clus_pt', 'fjet_clus_E']\n",
    "for k in f.keys():\n",
    "    print(k, f[k].shape)"
   ]
  },
  {
   "cell_type": "code",
   "execution_count": 10,
   "metadata": {},
   "outputs": [
    {
     "name": "stderr",
     "output_type": "stream",
     "text": [
      "1it [00:00,  4.56it/s]\n"
     ]
    }
   ],
   "source": [
    "y = np.empty((num_samples))\n",
    "current_row = 0\n",
    "for train_file_name, current_num_samples in tqdm(zip(train_file_names, num_samples_per_file)):\n",
    "    f = h5py.File(\"/global/ml4hep/spss/mfong/transfer_learning/delphes_train/\" + train_file_name, 'r')\n",
    "    y[current_row:current_row+current_num_samples] = f[\"labels\"][:]\n",
    "    current_row += current_num_samples"
   ]
  },
  {
   "cell_type": "code",
   "execution_count": 11,
   "metadata": {},
   "outputs": [
    {
     "data": {
      "text/plain": [
       "(5000000, 1400)"
      ]
     },
     "execution_count": 11,
     "metadata": {},
     "output_type": "execute_result"
    }
   ],
   "source": [
    "x.shape"
   ]
  },
  {
   "cell_type": "code",
   "execution_count": 12,
   "metadata": {},
   "outputs": [
    {
     "data": {
      "text/plain": [
       "(5000000,)"
      ]
     },
     "execution_count": 12,
     "metadata": {},
     "output_type": "execute_result"
    }
   ],
   "source": [
    "y.shape"
   ]
  },
  {
   "cell_type": "code",
   "execution_count": 13,
   "metadata": {},
   "outputs": [],
   "source": [
    "num_samples = len(y)\n",
    "num_train_samples = int(0.8 * num_samples)\n",
    "# num_train_samples = num_samples - 2000000       # save 2M rows for test data\n",
    "x_train = x[:num_train_samples]\n",
    "y_train = y[:num_train_samples]\n",
    "\n",
    "x_test = x[num_train_samples:]\n",
    "y_test = y[num_train_samples:]"
   ]
  },
  {
   "cell_type": "code",
   "execution_count": 18,
   "metadata": {},
   "outputs": [
    {
     "data": {
      "text/plain": [
       "(4000000, 1400)"
      ]
     },
     "execution_count": 18,
     "metadata": {},
     "output_type": "execute_result"
    }
   ],
   "source": [
    "x_train.shape"
   ]
  },
  {
   "cell_type": "code",
   "execution_count": 19,
   "metadata": {},
   "outputs": [
    {
     "data": {
      "text/plain": [
       "(1000000, 1400)"
      ]
     },
     "execution_count": 19,
     "metadata": {},
     "output_type": "execute_result"
    }
   ],
   "source": [
    "x_test.shape"
   ]
  },
  {
   "cell_type": "code",
   "execution_count": 21,
   "metadata": {},
   "outputs": [],
   "source": [
    "# scaler = StandardScaler()\n",
    "# scaler.fit(x_train[:2000000])   # only use first 2M otherwise takes too long\n",
    "\n",
    "# x_train = scaler.transform(x_train, copy=False)\n",
    "# x_test = scaler.transform(x_test, copy=False)"
   ]
  },
  {
   "cell_type": "code",
   "execution_count": 22,
   "metadata": {},
   "outputs": [],
   "source": [
    "os.environ[\"WANDB_NOTEBOOK_NAME\"] = \"pretrain_MLP.ipynb\""
   ]
  },
  {
   "cell_type": "code",
   "execution_count": null,
   "metadata": {
    "scrolled": true,
    "tags": []
   },
   "outputs": [
    {
     "name": "stderr",
     "output_type": "stream",
     "text": [
      "\u001b[34m\u001b[1mwandb\u001b[0m: Currently logged in as: \u001b[33mmingfong\u001b[0m. Use \u001b[1m`wandb login --relogin`\u001b[0m to force relogin\n"
     ]
    },
    {
     "data": {
      "text/html": [
       "wandb version 0.15.3 is available!  To upgrade, please run:\n",
       " $ pip install wandb --upgrade"
      ],
      "text/plain": [
       "<IPython.core.display.HTML object>"
      ]
     },
     "metadata": {},
     "output_type": "display_data"
    },
    {
     "data": {
      "text/html": [
       "Tracking run with wandb version 0.15.0"
      ],
      "text/plain": [
       "<IPython.core.display.HTML object>"
      ]
     },
     "metadata": {},
     "output_type": "display_data"
    },
    {
     "data": {
      "text/html": [
       "Run data is saved locally in <code>/global/home/users/mfong/git/transfer-learning/wandb/run-20230518_223016-wqdlsevu</code>"
      ],
      "text/plain": [
       "<IPython.core.display.HTML object>"
      ]
     },
     "metadata": {},
     "output_type": "display_data"
    },
    {
     "data": {
      "text/html": [
       "Syncing run <strong><a href='https://wandb.ai/mingfong/pretrain_MLP/runs/wqdlsevu' target=\"_blank\">preprocess_fastsim_MLP_1M_rows</a></strong> to <a href='https://wandb.ai/mingfong/pretrain_MLP' target=\"_blank\">Weights & Biases</a> (<a href='https://wandb.me/run' target=\"_blank\">docs</a>)<br/>"
      ],
      "text/plain": [
       "<IPython.core.display.HTML object>"
      ]
     },
     "metadata": {},
     "output_type": "display_data"
    },
    {
     "data": {
      "text/html": [
       " View project at <a href='https://wandb.ai/mingfong/pretrain_MLP' target=\"_blank\">https://wandb.ai/mingfong/pretrain_MLP</a>"
      ],
      "text/plain": [
       "<IPython.core.display.HTML object>"
      ]
     },
     "metadata": {},
     "output_type": "display_data"
    },
    {
     "data": {
      "text/html": [
       " View run at <a href='https://wandb.ai/mingfong/pretrain_MLP/runs/wqdlsevu' target=\"_blank\">https://wandb.ai/mingfong/pretrain_MLP/runs/wqdlsevu</a>"
      ],
      "text/plain": [
       "<IPython.core.display.HTML object>"
      ]
     },
     "metadata": {},
     "output_type": "display_data"
    },
    {
     "name": "stderr",
     "output_type": "stream",
     "text": [
      "2023-05-18 22:30:26.433200: I tensorflow/core/platform/cpu_feature_guard.cc:143] Your CPU supports instructions that this TensorFlow binary was not compiled to use: SSE4.1 SSE4.2 AVX AVX2 FMA\n",
      "2023-05-18 22:30:26.444343: I tensorflow/core/platform/profile_utils/cpu_utils.cc:102] CPU Frequency: 2994330000 Hz\n",
      "2023-05-18 22:30:26.446009: I tensorflow/compiler/xla/service/service.cc:168] XLA service 0x55efbf6e18e0 initialized for platform Host (this does not guarantee that XLA will be used). Devices:\n",
      "2023-05-18 22:30:26.446041: I tensorflow/compiler/xla/service/service.cc:176]   StreamExecutor device (0): Host, Default Version\n",
      "2023-05-18 22:30:26.551619: I tensorflow/compiler/xla/service/service.cc:168] XLA service 0x55efbeadb1f0 initialized for platform CUDA (this does not guarantee that XLA will be used). Devices:\n",
      "2023-05-18 22:30:26.551700: I tensorflow/compiler/xla/service/service.cc:176]   StreamExecutor device (0): NVIDIA A40, Compute Capability 8.6\n",
      "2023-05-18 22:30:26.552671: I tensorflow/core/common_runtime/gpu/gpu_device.cc:1561] Found device 0 with properties: \n",
      "pciBusID: 0000:41:00.0 name: NVIDIA A40 computeCapability: 8.6\n",
      "coreClock: 1.74GHz coreCount: 84 deviceMemorySize: 44.56GiB deviceMemoryBandwidth: 648.29GiB/s\n",
      "2023-05-18 22:30:26.552729: I tensorflow/stream_executor/platform/default/dso_loader.cc:44] Successfully opened dynamic library libcudart.so.10.1\n",
      "2023-05-18 22:30:26.552749: I tensorflow/stream_executor/platform/default/dso_loader.cc:44] Successfully opened dynamic library libcublas.so.10\n",
      "2023-05-18 22:30:26.552766: I tensorflow/stream_executor/platform/default/dso_loader.cc:44] Successfully opened dynamic library libcufft.so.10\n",
      "2023-05-18 22:30:26.552782: I tensorflow/stream_executor/platform/default/dso_loader.cc:44] Successfully opened dynamic library libcurand.so.10\n",
      "2023-05-18 22:30:26.552798: I tensorflow/stream_executor/platform/default/dso_loader.cc:44] Successfully opened dynamic library libcusolver.so.10\n",
      "2023-05-18 22:30:26.552813: I tensorflow/stream_executor/platform/default/dso_loader.cc:44] Successfully opened dynamic library libcusparse.so.10\n",
      "2023-05-18 22:30:26.552829: I tensorflow/stream_executor/platform/default/dso_loader.cc:44] Successfully opened dynamic library libcudnn.so.7\n",
      "2023-05-18 22:30:26.553770: I tensorflow/core/common_runtime/gpu/gpu_device.cc:1703] Adding visible gpu devices: 0\n",
      "2023-05-18 22:30:26.553806: I tensorflow/stream_executor/platform/default/dso_loader.cc:44] Successfully opened dynamic library libcudart.so.10.1\n",
      "2023-05-18 22:30:26.555239: I tensorflow/core/common_runtime/gpu/gpu_device.cc:1102] Device interconnect StreamExecutor with strength 1 edge matrix:\n",
      "2023-05-18 22:30:26.555250: I tensorflow/core/common_runtime/gpu/gpu_device.cc:1108]      0 \n",
      "2023-05-18 22:30:26.555259: I tensorflow/core/common_runtime/gpu/gpu_device.cc:1121] 0:   N \n",
      "2023-05-18 22:30:26.556335: I tensorflow/core/common_runtime/gpu/gpu_device.cc:1247] Created TensorFlow device (/job:localhost/replica:0/task:0/device:GPU:0 with 38562 MB memory) -> physical GPU (device: 0, name: NVIDIA A40, pci bus id: 0000:41:00.0, compute capability: 8.6)\n",
      "\u001b[34m\u001b[1mwandb\u001b[0m: \u001b[33mWARNING\u001b[0m The save_model argument by default saves the model in the HDF5 format that cannot save custom objects like subclassed models and custom layers. This behavior will be deprecated in a future release in favor of the SavedModel format. Meanwhile, the HDF5 model is saved as W&B files and the SavedModel as W&B Artifacts.\n"
     ]
    },
    {
     "name": "stdout",
     "output_type": "stream",
     "text": [
      "Epoch 1/400\n"
     ]
    },
    {
     "name": "stderr",
     "output_type": "stream",
     "text": [
      "2023-05-18 22:36:37.201658: I tensorflow/stream_executor/platform/default/dso_loader.cc:44] Successfully opened dynamic library libcublas.so.10\n"
     ]
    },
    {
     "name": "stdout",
     "output_type": "stream",
     "text": [
      "3903/3907 [============================>.] - ETA: 0s - loss: 0.4649 - accuracy: 0.7870WARNING:tensorflow:From /global/home/users/mfong/anaconda3/lib/python3.8/site-packages/tensorflow/python/ops/resource_variable_ops.py:1813: calling BaseResourceVariable.__init__ (from tensorflow.python.ops.resource_variable_ops) with constraint is deprecated and will be removed in a future version.\n",
      "Instructions for updating:\n",
      "If using Keras pass *_constraint arguments to layers.\n"
     ]
    },
    {
     "name": "stderr",
     "output_type": "stream",
     "text": [
      "2023-05-18 22:38:48.906296: W tensorflow/python/util/util.cc:329] Sets are not currently considered sequences, but this may change in the future, so consider avoiding using them.\n"
     ]
    },
    {
     "name": "stdout",
     "output_type": "stream",
     "text": [
      "INFO:tensorflow:Assets written to: /global/home/users/mfong/git/transfer-learning/wandb/run-20230518_223016-wqdlsevu/files/model-best/assets\n"
     ]
    },
    {
     "name": "stderr",
     "output_type": "stream",
     "text": [
      "\u001b[34m\u001b[1mwandb\u001b[0m: Adding directory to artifact (/global/home/users/mfong/git/transfer-learning/wandb/run-20230518_223016-wqdlsevu/files/model-best)... Done. 0.0s\n"
     ]
    },
    {
     "name": "stdout",
     "output_type": "stream",
     "text": [
      "3907/3907 [==============================] - 20s 5ms/step - loss: 0.4649 - accuracy: 0.7870 - val_loss: 0.4309 - val_accuracy: 0.8052\n",
      "Epoch 2/400\n",
      "3907/3907 [==============================] - 19s 5ms/step - loss: 0.4271 - accuracy: 0.8070 - val_loss: 0.4678 - val_accuracy: 0.7823\n",
      "Epoch 3/400\n",
      "3900/3907 [============================>.] - ETA: 0s - loss: 0.4118 - accuracy: 0.8164INFO:tensorflow:Assets written to: /global/home/users/mfong/git/transfer-learning/wandb/run-20230518_223016-wqdlsevu/files/model-best/assets\n"
     ]
    },
    {
     "name": "stderr",
     "output_type": "stream",
     "text": [
      "\u001b[34m\u001b[1mwandb\u001b[0m: Adding directory to artifact (/global/home/users/mfong/git/transfer-learning/wandb/run-20230518_223016-wqdlsevu/files/model-best)... Done. 0.0s\n"
     ]
    },
    {
     "name": "stdout",
     "output_type": "stream",
     "text": [
      "3907/3907 [==============================] - 20s 5ms/step - loss: 0.4118 - accuracy: 0.8164 - val_loss: 0.4021 - val_accuracy: 0.8227\n",
      "Epoch 4/400\n",
      "3907/3907 [==============================] - 19s 5ms/step - loss: 0.4013 - accuracy: 0.8228 - val_loss: 0.4037 - val_accuracy: 0.8176\n",
      "Epoch 5/400\n",
      "3904/3907 [============================>.] - ETA: 0s - loss: 0.3943 - accuracy: 0.8257INFO:tensorflow:Assets written to: /global/home/users/mfong/git/transfer-learning/wandb/run-20230518_223016-wqdlsevu/files/model-best/assets\n"
     ]
    },
    {
     "name": "stderr",
     "output_type": "stream",
     "text": [
      "\u001b[34m\u001b[1mwandb\u001b[0m: Adding directory to artifact (/global/home/users/mfong/git/transfer-learning/wandb/run-20230518_223016-wqdlsevu/files/model-best)... Done. 0.0s\n"
     ]
    },
    {
     "name": "stdout",
     "output_type": "stream",
     "text": [
      "3907/3907 [==============================] - 24s 6ms/step - loss: 0.3943 - accuracy: 0.8257 - val_loss: 0.3907 - val_accuracy: 0.8259\n",
      "Epoch 6/400\n",
      "3907/3907 [==============================] - 19s 5ms/step - loss: 0.3892 - accuracy: 0.8279 - val_loss: 0.3918 - val_accuracy: 0.8262\n",
      "Epoch 7/400\n",
      "3903/3907 [============================>.] - ETA: 0s - loss: 0.3855 - accuracy: 0.8292INFO:tensorflow:Assets written to: /global/home/users/mfong/git/transfer-learning/wandb/run-20230518_223016-wqdlsevu/files/model-best/assets\n"
     ]
    },
    {
     "name": "stderr",
     "output_type": "stream",
     "text": [
      "\u001b[34m\u001b[1mwandb\u001b[0m: Adding directory to artifact (/global/home/users/mfong/git/transfer-learning/wandb/run-20230518_223016-wqdlsevu/files/model-best)... Done. 0.0s\n"
     ]
    },
    {
     "name": "stdout",
     "output_type": "stream",
     "text": [
      "3907/3907 [==============================] - 20s 5ms/step - loss: 0.3855 - accuracy: 0.8292 - val_loss: 0.3840 - val_accuracy: 0.8292\n",
      "Epoch 8/400\n",
      "3901/3907 [============================>.] - ETA: 0s - loss: 0.3837 - accuracy: 0.8300INFO:tensorflow:Assets written to: /global/home/users/mfong/git/transfer-learning/wandb/run-20230518_223016-wqdlsevu/files/model-best/assets\n"
     ]
    },
    {
     "name": "stderr",
     "output_type": "stream",
     "text": [
      "\u001b[34m\u001b[1mwandb\u001b[0m: Adding directory to artifact (/global/home/users/mfong/git/transfer-learning/wandb/run-20230518_223016-wqdlsevu/files/model-best)... Done. 0.0s\n"
     ]
    },
    {
     "name": "stdout",
     "output_type": "stream",
     "text": [
      "3907/3907 [==============================] - 20s 5ms/step - loss: 0.3836 - accuracy: 0.8300 - val_loss: 0.3835 - val_accuracy: 0.8305\n",
      "Epoch 9/400\n",
      "3893/3907 [============================>.] - ETA: 0s - loss: 0.3808 - accuracy: 0.8310INFO:tensorflow:Assets written to: /global/home/users/mfong/git/transfer-learning/wandb/run-20230518_223016-wqdlsevu/files/model-best/assets\n"
     ]
    },
    {
     "name": "stderr",
     "output_type": "stream",
     "text": [
      "\u001b[34m\u001b[1mwandb\u001b[0m: Adding directory to artifact (/global/home/users/mfong/git/transfer-learning/wandb/run-20230518_223016-wqdlsevu/files/model-best)... Done. 0.0s\n"
     ]
    },
    {
     "name": "stdout",
     "output_type": "stream",
     "text": [
      "3907/3907 [==============================] - 19s 5ms/step - loss: 0.3808 - accuracy: 0.8310 - val_loss: 0.3801 - val_accuracy: 0.8315\n",
      "Epoch 10/400\n",
      "3898/3907 [============================>.] - ETA: 0s - loss: 0.3776 - accuracy: 0.8325INFO:tensorflow:Assets written to: /global/home/users/mfong/git/transfer-learning/wandb/run-20230518_223016-wqdlsevu/files/model-best/assets\n"
     ]
    },
    {
     "name": "stderr",
     "output_type": "stream",
     "text": [
      "\u001b[34m\u001b[1mwandb\u001b[0m: Adding directory to artifact (/global/home/users/mfong/git/transfer-learning/wandb/run-20230518_223016-wqdlsevu/files/model-best)... Done. 0.0s\n"
     ]
    },
    {
     "name": "stdout",
     "output_type": "stream",
     "text": [
      "3907/3907 [==============================] - 20s 5ms/step - loss: 0.3776 - accuracy: 0.8325 - val_loss: 0.3737 - val_accuracy: 0.8349\n",
      "Epoch 11/400\n",
      "3907/3907 [==============================] - 19s 5ms/step - loss: 0.3750 - accuracy: 0.8335 - val_loss: 0.3763 - val_accuracy: 0.8336\n",
      "Epoch 12/400\n",
      "3894/3907 [============================>.] - ETA: 0s - loss: 0.3728 - accuracy: 0.8344INFO:tensorflow:Assets written to: /global/home/users/mfong/git/transfer-learning/wandb/run-20230518_223016-wqdlsevu/files/model-best/assets\n"
     ]
    },
    {
     "name": "stderr",
     "output_type": "stream",
     "text": [
      "\u001b[34m\u001b[1mwandb\u001b[0m: Adding directory to artifact (/global/home/users/mfong/git/transfer-learning/wandb/run-20230518_223016-wqdlsevu/files/model-best)... Done. 0.0s\n"
     ]
    },
    {
     "name": "stdout",
     "output_type": "stream",
     "text": [
      "3907/3907 [==============================] - 20s 5ms/step - loss: 0.3728 - accuracy: 0.8344 - val_loss: 0.3713 - val_accuracy: 0.8363\n",
      "Epoch 13/400\n",
      "3893/3907 [============================>.] - ETA: 0s - loss: 0.3706 - accuracy: 0.8351INFO:tensorflow:Assets written to: /global/home/users/mfong/git/transfer-learning/wandb/run-20230518_223016-wqdlsevu/files/model-best/assets\n"
     ]
    },
    {
     "name": "stderr",
     "output_type": "stream",
     "text": [
      "\u001b[34m\u001b[1mwandb\u001b[0m: Adding directory to artifact (/global/home/users/mfong/git/transfer-learning/wandb/run-20230518_223016-wqdlsevu/files/model-best)... Done. 0.0s\n"
     ]
    },
    {
     "name": "stdout",
     "output_type": "stream",
     "text": [
      "3907/3907 [==============================] - 19s 5ms/step - loss: 0.3706 - accuracy: 0.8351 - val_loss: 0.3680 - val_accuracy: 0.8361\n",
      "Epoch 14/400\n",
      "3897/3907 [============================>.] - ETA: 0s - loss: 0.3682 - accuracy: 0.8368INFO:tensorflow:Assets written to: /global/home/users/mfong/git/transfer-learning/wandb/run-20230518_223016-wqdlsevu/files/model-best/assets\n"
     ]
    },
    {
     "name": "stderr",
     "output_type": "stream",
     "text": [
      "\u001b[34m\u001b[1mwandb\u001b[0m: Adding directory to artifact (/global/home/users/mfong/git/transfer-learning/wandb/run-20230518_223016-wqdlsevu/files/model-best)... Done. 0.0s\n"
     ]
    },
    {
     "name": "stdout",
     "output_type": "stream",
     "text": [
      "3907/3907 [==============================] - 24s 6ms/step - loss: 0.3682 - accuracy: 0.8368 - val_loss: 0.3637 - val_accuracy: 0.8390\n",
      "Epoch 15/400\n",
      "3907/3907 [==============================] - 19s 5ms/step - loss: 0.3665 - accuracy: 0.8376 - val_loss: 0.3651 - val_accuracy: 0.8376\n",
      "Epoch 16/400\n",
      "3907/3907 [==============================] - 19s 5ms/step - loss: 0.3650 - accuracy: 0.8380 - val_loss: 0.3648 - val_accuracy: 0.8376\n",
      "Epoch 17/400\n",
      "3891/3907 [============================>.] - ETA: 0s - loss: 0.3630 - accuracy: 0.8390INFO:tensorflow:Assets written to: /global/home/users/mfong/git/transfer-learning/wandb/run-20230518_223016-wqdlsevu/files/model-best/assets\n"
     ]
    },
    {
     "name": "stderr",
     "output_type": "stream",
     "text": [
      "\u001b[34m\u001b[1mwandb\u001b[0m: Adding directory to artifact (/global/home/users/mfong/git/transfer-learning/wandb/run-20230518_223016-wqdlsevu/files/model-best)... Done. 0.0s\n"
     ]
    },
    {
     "name": "stdout",
     "output_type": "stream",
     "text": [
      "3907/3907 [==============================] - 20s 5ms/step - loss: 0.3631 - accuracy: 0.8390 - val_loss: 0.3631 - val_accuracy: 0.8384\n",
      "Epoch 18/400\n",
      "3890/3907 [============================>.] - ETA: 0s - loss: 0.3612 - accuracy: 0.8397INFO:tensorflow:Assets written to: /global/home/users/mfong/git/transfer-learning/wandb/run-20230518_223016-wqdlsevu/files/model-best/assets\n"
     ]
    },
    {
     "name": "stderr",
     "output_type": "stream",
     "text": [
      "\u001b[34m\u001b[1mwandb\u001b[0m: Adding directory to artifact (/global/home/users/mfong/git/transfer-learning/wandb/run-20230518_223016-wqdlsevu/files/model-best)... Done. 0.0s\n"
     ]
    },
    {
     "name": "stdout",
     "output_type": "stream",
     "text": [
      "3907/3907 [==============================] - 19s 5ms/step - loss: 0.3612 - accuracy: 0.8397 - val_loss: 0.3577 - val_accuracy: 0.8418\n",
      "Epoch 19/400\n",
      "3907/3907 [==============================] - 19s 5ms/step - loss: 0.3602 - accuracy: 0.8404 - val_loss: 0.3591 - val_accuracy: 0.8410\n",
      "Epoch 20/400\n",
      "3907/3907 [==============================] - 19s 5ms/step - loss: 0.3594 - accuracy: 0.8410 - val_loss: 0.3668 - val_accuracy: 0.8376\n",
      "Epoch 21/400\n",
      "3907/3907 [==============================] - 19s 5ms/step - loss: 0.3586 - accuracy: 0.8410 - val_loss: 0.3660 - val_accuracy: 0.8386\n",
      "Epoch 22/400\n",
      "3896/3907 [============================>.] - ETA: 0s - loss: 0.3570 - accuracy: 0.8420INFO:tensorflow:Assets written to: /global/home/users/mfong/git/transfer-learning/wandb/run-20230518_223016-wqdlsevu/files/model-best/assets\n"
     ]
    },
    {
     "name": "stderr",
     "output_type": "stream",
     "text": [
      "\u001b[34m\u001b[1mwandb\u001b[0m: Adding directory to artifact (/global/home/users/mfong/git/transfer-learning/wandb/run-20230518_223016-wqdlsevu/files/model-best)... Done. 0.0s\n"
     ]
    },
    {
     "name": "stdout",
     "output_type": "stream",
     "text": [
      "3907/3907 [==============================] - 20s 5ms/step - loss: 0.3570 - accuracy: 0.8419 - val_loss: 0.3566 - val_accuracy: 0.8430\n",
      "Epoch 23/400\n",
      "3907/3907 [==============================] - ETA: 0s - loss: 0.3561 - accuracy: 0.8425INFO:tensorflow:Assets written to: /global/home/users/mfong/git/transfer-learning/wandb/run-20230518_223016-wqdlsevu/files/model-best/assets\n"
     ]
    },
    {
     "name": "stderr",
     "output_type": "stream",
     "text": [
      "\u001b[34m\u001b[1mwandb\u001b[0m: Adding directory to artifact (/global/home/users/mfong/git/transfer-learning/wandb/run-20230518_223016-wqdlsevu/files/model-best)... Done. 0.0s\n"
     ]
    },
    {
     "name": "stdout",
     "output_type": "stream",
     "text": [
      "3907/3907 [==============================] - 19s 5ms/step - loss: 0.3561 - accuracy: 0.8425 - val_loss: 0.3558 - val_accuracy: 0.8420\n",
      "Epoch 24/400\n",
      "3907/3907 [==============================] - 19s 5ms/step - loss: 0.3549 - accuracy: 0.8431 - val_loss: 0.3622 - val_accuracy: 0.8402\n",
      "Epoch 25/400\n",
      "3895/3907 [============================>.] - ETA: 0s - loss: 0.3542 - accuracy: 0.8437INFO:tensorflow:Assets written to: /global/home/users/mfong/git/transfer-learning/wandb/run-20230518_223016-wqdlsevu/files/model-best/assets\n"
     ]
    },
    {
     "name": "stderr",
     "output_type": "stream",
     "text": [
      "\u001b[34m\u001b[1mwandb\u001b[0m: Adding directory to artifact (/global/home/users/mfong/git/transfer-learning/wandb/run-20230518_223016-wqdlsevu/files/model-best)... Done. 0.0s\n"
     ]
    },
    {
     "name": "stdout",
     "output_type": "stream",
     "text": [
      "3907/3907 [==============================] - 20s 5ms/step - loss: 0.3542 - accuracy: 0.8437 - val_loss: 0.3544 - val_accuracy: 0.8438\n",
      "Epoch 26/400\n",
      "3901/3907 [============================>.] - ETA: 0s - loss: 0.3535 - accuracy: 0.8439INFO:tensorflow:Assets written to: /global/home/users/mfong/git/transfer-learning/wandb/run-20230518_223016-wqdlsevu/files/model-best/assets\n"
     ]
    },
    {
     "name": "stderr",
     "output_type": "stream",
     "text": [
      "\u001b[34m\u001b[1mwandb\u001b[0m: Adding directory to artifact (/global/home/users/mfong/git/transfer-learning/wandb/run-20230518_223016-wqdlsevu/files/model-best)... Done. 0.0s\n"
     ]
    },
    {
     "name": "stdout",
     "output_type": "stream",
     "text": [
      "3907/3907 [==============================] - 20s 5ms/step - loss: 0.3535 - accuracy: 0.8439 - val_loss: 0.3513 - val_accuracy: 0.8446\n",
      "Epoch 27/400\n",
      "3907/3907 [==============================] - 19s 5ms/step - loss: 0.3529 - accuracy: 0.8442 - val_loss: 0.3529 - val_accuracy: 0.8445\n",
      "Epoch 28/400\n",
      "3907/3907 [==============================] - 18s 5ms/step - loss: 0.3525 - accuracy: 0.8443 - val_loss: 0.3537 - val_accuracy: 0.8426\n",
      "Epoch 29/400\n",
      "3899/3907 [============================>.] - ETA: 0s - loss: 0.3517 - accuracy: 0.8448INFO:tensorflow:Assets written to: /global/home/users/mfong/git/transfer-learning/wandb/run-20230518_223016-wqdlsevu/files/model-best/assets\n"
     ]
    },
    {
     "name": "stderr",
     "output_type": "stream",
     "text": [
      "\u001b[34m\u001b[1mwandb\u001b[0m: Adding directory to artifact (/global/home/users/mfong/git/transfer-learning/wandb/run-20230518_223016-wqdlsevu/files/model-best)... Done. 0.0s\n"
     ]
    },
    {
     "name": "stdout",
     "output_type": "stream",
     "text": [
      "3907/3907 [==============================] - 20s 5ms/step - loss: 0.3517 - accuracy: 0.8448 - val_loss: 0.3513 - val_accuracy: 0.8454\n",
      "Epoch 30/400\n",
      "3896/3907 [============================>.] - ETA: 0s - loss: 0.3510 - accuracy: 0.8452INFO:tensorflow:Assets written to: /global/home/users/mfong/git/transfer-learning/wandb/run-20230518_223016-wqdlsevu/files/model-best/assets\n"
     ]
    },
    {
     "name": "stderr",
     "output_type": "stream",
     "text": [
      "\u001b[34m\u001b[1mwandb\u001b[0m: Adding directory to artifact (/global/home/users/mfong/git/transfer-learning/wandb/run-20230518_223016-wqdlsevu/files/model-best)... Done. 0.0s\n"
     ]
    },
    {
     "name": "stdout",
     "output_type": "stream",
     "text": [
      "3907/3907 [==============================] - 20s 5ms/step - loss: 0.3510 - accuracy: 0.8452 - val_loss: 0.3509 - val_accuracy: 0.8451\n",
      "Epoch 31/400\n",
      "3907/3907 [==============================] - 19s 5ms/step - loss: 0.3504 - accuracy: 0.8453 - val_loss: 0.3521 - val_accuracy: 0.8454\n",
      "Epoch 32/400\n",
      "3896/3907 [============================>.] - ETA: 0s - loss: 0.3500 - accuracy: 0.8456INFO:tensorflow:Assets written to: /global/home/users/mfong/git/transfer-learning/wandb/run-20230518_223016-wqdlsevu/files/model-best/assets\n"
     ]
    },
    {
     "name": "stderr",
     "output_type": "stream",
     "text": [
      "\u001b[34m\u001b[1mwandb\u001b[0m: Adding directory to artifact (/global/home/users/mfong/git/transfer-learning/wandb/run-20230518_223016-wqdlsevu/files/model-best)... Done. 0.0s\n"
     ]
    },
    {
     "name": "stdout",
     "output_type": "stream",
     "text": [
      "3907/3907 [==============================] - 20s 5ms/step - loss: 0.3500 - accuracy: 0.8456 - val_loss: 0.3505 - val_accuracy: 0.8448\n",
      "Epoch 33/400\n",
      "3907/3907 [==============================] - 19s 5ms/step - loss: 0.3496 - accuracy: 0.8459 - val_loss: 0.3521 - val_accuracy: 0.8430\n",
      "Epoch 34/400\n",
      "3907/3907 [==============================] - 19s 5ms/step - loss: 0.3492 - accuracy: 0.8459 - val_loss: 0.3599 - val_accuracy: 0.8410\n",
      "Epoch 35/400\n",
      "3888/3907 [============================>.] - ETA: 0s - loss: 0.3485 - accuracy: 0.8463INFO:tensorflow:Assets written to: /global/home/users/mfong/git/transfer-learning/wandb/run-20230518_223016-wqdlsevu/files/model-best/assets\n"
     ]
    },
    {
     "name": "stderr",
     "output_type": "stream",
     "text": [
      "\u001b[34m\u001b[1mwandb\u001b[0m: Adding directory to artifact (/global/home/users/mfong/git/transfer-learning/wandb/run-20230518_223016-wqdlsevu/files/model-best)... Done. 0.0s\n"
     ]
    },
    {
     "name": "stdout",
     "output_type": "stream",
     "text": [
      "3907/3907 [==============================] - 20s 5ms/step - loss: 0.3485 - accuracy: 0.8463 - val_loss: 0.3499 - val_accuracy: 0.8458\n",
      "Epoch 36/400\n",
      "3897/3907 [============================>.] - ETA: 0s - loss: 0.3481 - accuracy: 0.8467INFO:tensorflow:Assets written to: /global/home/users/mfong/git/transfer-learning/wandb/run-20230518_223016-wqdlsevu/files/model-best/assets\n"
     ]
    },
    {
     "name": "stderr",
     "output_type": "stream",
     "text": [
      "\u001b[34m\u001b[1mwandb\u001b[0m: Adding directory to artifact (/global/home/users/mfong/git/transfer-learning/wandb/run-20230518_223016-wqdlsevu/files/model-best)... Done. 0.0s\n"
     ]
    },
    {
     "name": "stdout",
     "output_type": "stream",
     "text": [
      "3907/3907 [==============================] - 20s 5ms/step - loss: 0.3482 - accuracy: 0.8467 - val_loss: 0.3492 - val_accuracy: 0.8470\n",
      "Epoch 37/400\n",
      "3907/3907 [==============================] - 18s 5ms/step - loss: 0.3480 - accuracy: 0.8467 - val_loss: 0.3515 - val_accuracy: 0.8445\n",
      "Epoch 38/400\n",
      "3900/3907 [============================>.] - ETA: 0s - loss: 0.3475 - accuracy: 0.8470INFO:tensorflow:Assets written to: /global/home/users/mfong/git/transfer-learning/wandb/run-20230518_223016-wqdlsevu/files/model-best/assets\n"
     ]
    },
    {
     "name": "stderr",
     "output_type": "stream",
     "text": [
      "\u001b[34m\u001b[1mwandb\u001b[0m: Adding directory to artifact (/global/home/users/mfong/git/transfer-learning/wandb/run-20230518_223016-wqdlsevu/files/model-best)... Done. 0.0s\n"
     ]
    },
    {
     "name": "stdout",
     "output_type": "stream",
     "text": [
      "3907/3907 [==============================] - 19s 5ms/step - loss: 0.3475 - accuracy: 0.8470 - val_loss: 0.3488 - val_accuracy: 0.8475\n",
      "Epoch 39/400\n",
      "3907/3907 [==============================] - 19s 5ms/step - loss: 0.3473 - accuracy: 0.8470 - val_loss: 0.3503 - val_accuracy: 0.8459\n",
      "Epoch 40/400\n",
      "3907/3907 [==============================] - 19s 5ms/step - loss: 0.3466 - accuracy: 0.8470 - val_loss: 0.3491 - val_accuracy: 0.8473\n",
      "Epoch 41/400\n",
      "3907/3907 [==============================] - 18s 5ms/step - loss: 0.3470 - accuracy: 0.8470 - val_loss: 0.3580 - val_accuracy: 0.8411\n",
      "Epoch 42/400\n",
      "3907/3907 [==============================] - 19s 5ms/step - loss: 0.3463 - accuracy: 0.8474 - val_loss: 0.3524 - val_accuracy: 0.8452\n",
      "Epoch 43/400\n",
      "3896/3907 [============================>.] - ETA: 0s - loss: 0.3459 - accuracy: 0.8478INFO:tensorflow:Assets written to: /global/home/users/mfong/git/transfer-learning/wandb/run-20230518_223016-wqdlsevu/files/model-best/assets\n"
     ]
    },
    {
     "name": "stderr",
     "output_type": "stream",
     "text": [
      "\u001b[34m\u001b[1mwandb\u001b[0m: Adding directory to artifact (/global/home/users/mfong/git/transfer-learning/wandb/run-20230518_223016-wqdlsevu/files/model-best)... Done. 0.0s\n"
     ]
    },
    {
     "name": "stdout",
     "output_type": "stream",
     "text": [
      "3907/3907 [==============================] - 21s 5ms/step - loss: 0.3459 - accuracy: 0.8478 - val_loss: 0.3476 - val_accuracy: 0.8479\n",
      "Epoch 44/400\n",
      "3897/3907 [============================>.] - ETA: 0s - loss: 0.3457 - accuracy: 0.8479INFO:tensorflow:Assets written to: /global/home/users/mfong/git/transfer-learning/wandb/run-20230518_223016-wqdlsevu/files/model-best/assets\n"
     ]
    },
    {
     "name": "stderr",
     "output_type": "stream",
     "text": [
      "\u001b[34m\u001b[1mwandb\u001b[0m: Adding directory to artifact (/global/home/users/mfong/git/transfer-learning/wandb/run-20230518_223016-wqdlsevu/files/model-best)... Done. 0.0s\n"
     ]
    },
    {
     "name": "stdout",
     "output_type": "stream",
     "text": [
      "3907/3907 [==============================] - 19s 5ms/step - loss: 0.3456 - accuracy: 0.8479 - val_loss: 0.3450 - val_accuracy: 0.8488\n",
      "Epoch 45/400\n",
      "3907/3907 [==============================] - 19s 5ms/step - loss: 0.3451 - accuracy: 0.8482 - val_loss: 0.3491 - val_accuracy: 0.8469\n",
      "Epoch 46/400\n",
      "3907/3907 [==============================] - 19s 5ms/step - loss: 0.3447 - accuracy: 0.8485 - val_loss: 0.3463 - val_accuracy: 0.8485\n",
      "Epoch 47/400\n",
      "3907/3907 [==============================] - 19s 5ms/step - loss: 0.3445 - accuracy: 0.8487 - val_loss: 0.3479 - val_accuracy: 0.8478\n",
      "Epoch 48/400\n",
      "3907/3907 [==============================] - 18s 5ms/step - loss: 0.3444 - accuracy: 0.8484 - val_loss: 0.3477 - val_accuracy: 0.8476\n",
      "Epoch 49/400\n",
      "3907/3907 [==============================] - 19s 5ms/step - loss: 0.3439 - accuracy: 0.8488 - val_loss: 0.3511 - val_accuracy: 0.8455\n",
      "Epoch 50/400\n",
      "3894/3907 [============================>.] - ETA: 0s - loss: 0.3437 - accuracy: 0.8489INFO:tensorflow:Assets written to: /global/home/users/mfong/git/transfer-learning/wandb/run-20230518_223016-wqdlsevu/files/model-best/assets\n"
     ]
    },
    {
     "name": "stderr",
     "output_type": "stream",
     "text": [
      "\u001b[34m\u001b[1mwandb\u001b[0m: Adding directory to artifact (/global/home/users/mfong/git/transfer-learning/wandb/run-20230518_223016-wqdlsevu/files/model-best)... Done. 0.0s\n"
     ]
    },
    {
     "name": "stdout",
     "output_type": "stream",
     "text": [
      "3907/3907 [==============================] - 20s 5ms/step - loss: 0.3438 - accuracy: 0.8489 - val_loss: 0.3444 - val_accuracy: 0.8485\n",
      "Epoch 51/400\n",
      "3907/3907 [==============================] - 19s 5ms/step - loss: 0.3436 - accuracy: 0.8487 - val_loss: 0.3500 - val_accuracy: 0.8463\n",
      "Epoch 52/400\n",
      "3907/3907 [==============================] - 19s 5ms/step - loss: 0.3434 - accuracy: 0.8489 - val_loss: 0.3507 - val_accuracy: 0.8456\n",
      "Epoch 53/400\n",
      "3897/3907 [============================>.] - ETA: 0s - loss: 0.3429 - accuracy: 0.8494INFO:tensorflow:Assets written to: /global/home/users/mfong/git/transfer-learning/wandb/run-20230518_223016-wqdlsevu/files/model-best/assets\n"
     ]
    },
    {
     "name": "stderr",
     "output_type": "stream",
     "text": [
      "\u001b[34m\u001b[1mwandb\u001b[0m: Adding directory to artifact (/global/home/users/mfong/git/transfer-learning/wandb/run-20230518_223016-wqdlsevu/files/model-best)... Done. 0.0s\n"
     ]
    },
    {
     "name": "stdout",
     "output_type": "stream",
     "text": [
      "3907/3907 [==============================] - 20s 5ms/step - loss: 0.3429 - accuracy: 0.8494 - val_loss: 0.3435 - val_accuracy: 0.8497\n",
      "Epoch 54/400\n",
      "3907/3907 [==============================] - 19s 5ms/step - loss: 0.3428 - accuracy: 0.8491 - val_loss: 0.3483 - val_accuracy: 0.8471\n",
      "Epoch 55/400\n",
      "3907/3907 [==============================] - 19s 5ms/step - loss: 0.3428 - accuracy: 0.8493 - val_loss: 0.3500 - val_accuracy: 0.8469\n",
      "Epoch 56/400\n",
      "3907/3907 [==============================] - 19s 5ms/step - loss: 0.3425 - accuracy: 0.8493 - val_loss: 0.3474 - val_accuracy: 0.8467\n",
      "Epoch 57/400\n",
      "3907/3907 [==============================] - 19s 5ms/step - loss: 0.3425 - accuracy: 0.8496 - val_loss: 0.3540 - val_accuracy: 0.8439\n",
      "Epoch 58/400\n",
      "3907/3907 [==============================] - 19s 5ms/step - loss: 0.3425 - accuracy: 0.8492 - val_loss: 0.3529 - val_accuracy: 0.8432\n",
      "Epoch 59/400\n",
      "3907/3907 [==============================] - 20s 5ms/step - loss: 0.3419 - accuracy: 0.8495 - val_loss: 0.3456 - val_accuracy: 0.8492\n",
      "Epoch 60/400\n",
      "3907/3907 [==============================] - 19s 5ms/step - loss: 0.3421 - accuracy: 0.8494 - val_loss: 0.3459 - val_accuracy: 0.8480\n",
      "Epoch 61/400\n",
      "3907/3907 [==============================] - 18s 5ms/step - loss: 0.3414 - accuracy: 0.8500 - val_loss: 0.3462 - val_accuracy: 0.8486\n",
      "Epoch 62/400\n",
      "3898/3907 [============================>.] - ETA: 0s - loss: 0.3411 - accuracy: 0.8503INFO:tensorflow:Assets written to: /global/home/users/mfong/git/transfer-learning/wandb/run-20230518_223016-wqdlsevu/files/model-best/assets\n"
     ]
    },
    {
     "name": "stderr",
     "output_type": "stream",
     "text": [
      "\u001b[34m\u001b[1mwandb\u001b[0m: Adding directory to artifact (/global/home/users/mfong/git/transfer-learning/wandb/run-20230518_223016-wqdlsevu/files/model-best)... Done. 0.0s\n"
     ]
    },
    {
     "name": "stdout",
     "output_type": "stream",
     "text": [
      "3907/3907 [==============================] - 19s 5ms/step - loss: 0.3411 - accuracy: 0.8503 - val_loss: 0.3414 - val_accuracy: 0.8503\n",
      "Epoch 63/400\n",
      "3907/3907 [==============================] - 19s 5ms/step - loss: 0.3411 - accuracy: 0.8503 - val_loss: 0.3420 - val_accuracy: 0.8507\n",
      "Epoch 64/400\n",
      "3907/3907 [==============================] - 19s 5ms/step - loss: 0.3408 - accuracy: 0.8503 - val_loss: 0.3499 - val_accuracy: 0.8470\n",
      "Epoch 65/400\n",
      "3907/3907 [==============================] - 18s 5ms/step - loss: 0.3409 - accuracy: 0.8502 - val_loss: 0.3435 - val_accuracy: 0.8493\n",
      "Epoch 66/400\n",
      "3907/3907 [==============================] - 19s 5ms/step - loss: 0.3407 - accuracy: 0.8505 - val_loss: 0.3439 - val_accuracy: 0.8489\n",
      "Epoch 67/400\n",
      "3907/3907 [==============================] - 18s 5ms/step - loss: 0.3409 - accuracy: 0.8499 - val_loss: 0.3447 - val_accuracy: 0.8491\n",
      "Epoch 68/400\n",
      "3907/3907 [==============================] - 19s 5ms/step - loss: 0.3401 - accuracy: 0.8510 - val_loss: 0.3456 - val_accuracy: 0.8479\n",
      "Epoch 69/400\n",
      "3907/3907 [==============================] - 19s 5ms/step - loss: 0.3406 - accuracy: 0.8503 - val_loss: 0.3442 - val_accuracy: 0.8492\n",
      "Epoch 70/400\n",
      "3907/3907 [==============================] - 19s 5ms/step - loss: 0.3402 - accuracy: 0.8509 - val_loss: 0.3470 - val_accuracy: 0.8465\n",
      "Epoch 71/400\n",
      "3907/3907 [==============================] - 19s 5ms/step - loss: 0.3400 - accuracy: 0.8505 - val_loss: 0.3436 - val_accuracy: 0.8495\n",
      "Epoch 72/400\n",
      "3907/3907 [==============================] - 19s 5ms/step - loss: 0.3396 - accuracy: 0.8508 - val_loss: 0.3567 - val_accuracy: 0.8424\n",
      "Epoch 73/400\n",
      "3907/3907 [==============================] - 20s 5ms/step - loss: 0.3400 - accuracy: 0.8507 - val_loss: 0.3437 - val_accuracy: 0.8490\n",
      "Epoch 74/400\n",
      "3907/3907 [==============================] - 18s 5ms/step - loss: 0.3396 - accuracy: 0.8508 - val_loss: 0.3448 - val_accuracy: 0.8491\n",
      "Epoch 75/400\n",
      "3907/3907 [==============================] - 19s 5ms/step - loss: 0.3397 - accuracy: 0.8507 - val_loss: 0.3436 - val_accuracy: 0.8495\n",
      "Epoch 76/400\n",
      "3907/3907 [==============================] - 19s 5ms/step - loss: 0.3393 - accuracy: 0.8511 - val_loss: 0.3438 - val_accuracy: 0.8485\n",
      "Epoch 77/400\n",
      "3907/3907 [==============================] - 19s 5ms/step - loss: 0.3393 - accuracy: 0.8509 - val_loss: 0.3417 - val_accuracy: 0.8509\n",
      "Epoch 78/400\n",
      "3907/3907 [==============================] - 19s 5ms/step - loss: 0.3391 - accuracy: 0.8511 - val_loss: 0.3451 - val_accuracy: 0.8486\n",
      "Epoch 79/400\n",
      "3907/3907 [==============================] - 19s 5ms/step - loss: 0.3391 - accuracy: 0.8510 - val_loss: 0.3467 - val_accuracy: 0.8481\n",
      "Epoch 80/400\n",
      "3907/3907 [==============================] - 19s 5ms/step - loss: 0.3387 - accuracy: 0.8515 - val_loss: 0.3441 - val_accuracy: 0.8490\n",
      "Epoch 81/400\n",
      "3907/3907 [==============================] - 19s 5ms/step - loss: 0.3390 - accuracy: 0.8512 - val_loss: 0.3499 - val_accuracy: 0.8458\n",
      "Epoch 82/400\n",
      "3907/3907 [==============================] - 19s 5ms/step - loss: 0.3385 - accuracy: 0.8515 - val_loss: 0.3427 - val_accuracy: 0.8497\n",
      "Epoch 83/400\n",
      "3907/3907 [==============================] - 21s 5ms/step - loss: 0.3383 - accuracy: 0.8516 - val_loss: 0.3484 - val_accuracy: 0.8468\n",
      "Epoch 84/400\n",
      "3907/3907 [==============================] - 19s 5ms/step - loss: 0.3387 - accuracy: 0.8513 - val_loss: 0.3422 - val_accuracy: 0.8499\n",
      "Epoch 85/400\n",
      "3907/3907 [==============================] - 18s 5ms/step - loss: 0.3381 - accuracy: 0.8517 - val_loss: 0.3530 - val_accuracy: 0.8442\n",
      "Epoch 86/400\n",
      "3907/3907 [==============================] - 19s 5ms/step - loss: 0.3384 - accuracy: 0.8515 - val_loss: 0.3416 - val_accuracy: 0.8505\n",
      "Epoch 87/400\n",
      "3907/3907 [==============================] - 19s 5ms/step - loss: 0.3380 - accuracy: 0.8517 - val_loss: 0.3462 - val_accuracy: 0.8486\n",
      "Epoch 88/400\n",
      "3907/3907 [==============================] - 19s 5ms/step - loss: 0.3381 - accuracy: 0.8518 - val_loss: 0.3466 - val_accuracy: 0.8490\n",
      "Epoch 89/400\n",
      "3907/3907 [==============================] - 19s 5ms/step - loss: 0.3378 - accuracy: 0.8520 - val_loss: 0.3454 - val_accuracy: 0.8488\n",
      "Epoch 90/400\n",
      "3907/3907 [==============================] - 19s 5ms/step - loss: 0.3377 - accuracy: 0.8518 - val_loss: 0.3419 - val_accuracy: 0.8512\n",
      "Epoch 91/400\n",
      "3907/3907 [==============================] - 19s 5ms/step - loss: 0.3375 - accuracy: 0.8517 - val_loss: 0.3435 - val_accuracy: 0.8501\n",
      "Epoch 92/400\n",
      "3907/3907 [==============================] - 20s 5ms/step - loss: 0.3377 - accuracy: 0.8517 - val_loss: 0.3422 - val_accuracy: 0.8502\n",
      "Epoch 93/400\n",
      "3907/3907 [==============================] - 19s 5ms/step - loss: 0.3375 - accuracy: 0.8519 - val_loss: 0.3516 - val_accuracy: 0.8452\n",
      "Epoch 94/400\n",
      "3907/3907 [==============================] - 19s 5ms/step - loss: 0.3374 - accuracy: 0.8519 - val_loss: 0.3491 - val_accuracy: 0.8461\n",
      "Epoch 95/400\n",
      "3907/3907 [==============================] - 19s 5ms/step - loss: 0.3377 - accuracy: 0.8517 - val_loss: 0.3435 - val_accuracy: 0.8488\n",
      "Epoch 96/400\n",
      " 858/3907 [=====>........................] - ETA: 7s - loss: 0.3373 - accuracy: 0.8521"
     ]
    }
   ],
   "source": [
    "NUM_PRETRAIN_ROWS_LIST = [1000000, 2000000, 4000000]#, 8000000, 16000000, 32000000]\n",
    "# config = wandb.config\n",
    "# config.batch_size = 256\n",
    "config = {\n",
    "    \"batch_size\": 256,\n",
    "    \"epochs\": 400,\n",
    "}\n",
    "for num_pretrain_rows in NUM_PRETRAIN_ROWS_LIST:\n",
    "    # config.num_pretrain_rows = num_pretrain_rows\n",
    "    config[\"num_pretrain_rows\"] = num_pretrain_rows\n",
    "    run = wandb.init(project=\"pretrain_MLP\", name=f\"preprocess_fastsim_MLP_{int(num_pretrain_rows / 1000000)}M_rows\", config=config, reinit=True)\n",
    "    \n",
    "    model = Sequential()\n",
    "    model.add(Dense(64, input_shape=(x_train.shape[1],), activation='relu'))\n",
    "    model.add(Dense(8, activation='relu'))\n",
    "    model.add(Dense(1, activation='sigmoid'))\n",
    "    model.compile(loss='binary_crossentropy', optimizer='adam', metrics=['accuracy'])\n",
    "    history = model.fit(\n",
    "        x_train[:config[\"num_pretrain_rows\"]],\n",
    "        y_train[:config[\"num_pretrain_rows\"]],\n",
    "        epochs=config[\"epochs\"],\n",
    "        batch_size=config[\"batch_size\"],\n",
    "        shuffle=True,\n",
    "        validation_data=(x_test, y_test),\n",
    "        callbacks=[wandb.keras.WandbCallback()]\n",
    "    )\n",
    "    \n",
    "    plt.figure()\n",
    "    plt.plot(history.history[\"accuracy\"], label=\"acc\")\n",
    "    plt.plot(history.history[\"val_accuracy\"], label=\"val_acc\")\n",
    "    plt.title(f\"Preprocessed Fastsim MLP ({int(num_pretrain_rows / 1000000)}M Rows)\")\n",
    "    plt.ylabel(\"Accuracy\")\n",
    "    plt.xlabel(\"Epoch\")\n",
    "    plt.legend()\n",
    "    plt.savefig(f\"output/preprocess_fastsim_MLP_{int(num_pretrain_rows / 1000000)}M_rows_acc.png\")\n",
    "    \n",
    "    plt.figure()\n",
    "    plt.plot(history.history[\"loss\"], label=\"loss\")\n",
    "    plt.plot(history.history[\"val_loss\"], label=\"val_loss\")\n",
    "    plt.title(f\"Preprocessed Fastsim MLP ({int(num_pretrain_rows / 1000000)}M Rows)\")\n",
    "    plt.ylabel(\"Loss\")\n",
    "    plt.xlabel(\"Epoch\")\n",
    "    plt.legend()\n",
    "    plt.savefig(f\"output/preprocess_fastsim_MLP_{int(num_pretrain_rows / 1000000)}M_rows_loss.png\")\n",
    "    \n",
    "    \n",
    "    \n",
    "    model.save_weights(f\"models/preprocess_fastsim_MLP_{int(num_pretrain_rows / 1000000)}M_rows.h5\")\n",
    "    wandb.finish()"
   ]
  },
  {
   "cell_type": "code",
   "execution_count": null,
   "metadata": {},
   "outputs": [],
   "source": []
  },
  {
   "cell_type": "code",
   "execution_count": null,
   "metadata": {},
   "outputs": [],
   "source": []
  },
  {
   "cell_type": "code",
   "execution_count": null,
   "metadata": {},
   "outputs": [],
   "source": []
  },
  {
   "cell_type": "code",
   "execution_count": null,
   "metadata": {},
   "outputs": [],
   "source": []
  }
 ],
 "metadata": {
  "kernelspec": {
   "display_name": "Python 3 (ipykernel)",
   "language": "python",
   "name": "python3"
  },
  "language_info": {
   "codemirror_mode": {
    "name": "ipython",
    "version": 3
   },
   "file_extension": ".py",
   "mimetype": "text/x-python",
   "name": "python",
   "nbconvert_exporter": "python",
   "pygments_lexer": "ipython3",
   "version": "3.8.5"
  }
 },
 "nbformat": 4,
 "nbformat_minor": 4
}
