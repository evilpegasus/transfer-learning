{
 "cells": [
  {
   "cell_type": "markdown",
   "metadata": {},
   "source": [
    "# Pretraining `num_rows` vs transfered performance\n",
    "Pretrain fastsim weights for 1M, 2M, 4M, 8M, ... rows\n",
    "\n",
    "Then transfer and do fixed fullsim transfer training"
   ]
  },
  {
   "cell_type": "code",
   "execution_count": 1,
   "metadata": {},
   "outputs": [
    {
     "name": "stdout",
     "output_type": "stream",
     "text": [
      "[PhysicalDevice(name='/physical_device:GPU:0', device_type='GPU')]\n"
     ]
    },
    {
     "name": "stderr",
     "output_type": "stream",
     "text": [
      "2023-05-19 02:46:57.046284: I tensorflow/stream_executor/platform/default/dso_loader.cc:44] Successfully opened dynamic library libcuda.so.1\n",
      "2023-05-19 02:46:57.078873: I tensorflow/core/common_runtime/gpu/gpu_device.cc:1561] Found device 0 with properties: \n",
      "pciBusID: 0000:41:00.0 name: NVIDIA A40 computeCapability: 8.6\n",
      "coreClock: 1.74GHz coreCount: 84 deviceMemorySize: 44.56GiB deviceMemoryBandwidth: 648.29GiB/s\n",
      "2023-05-19 02:46:57.079640: I tensorflow/stream_executor/platform/default/dso_loader.cc:44] Successfully opened dynamic library libcudart.so.10.1\n",
      "2023-05-19 02:46:57.083264: I tensorflow/stream_executor/platform/default/dso_loader.cc:44] Successfully opened dynamic library libcublas.so.10\n",
      "2023-05-19 02:46:57.086610: I tensorflow/stream_executor/platform/default/dso_loader.cc:44] Successfully opened dynamic library libcufft.so.10\n",
      "2023-05-19 02:46:57.087622: I tensorflow/stream_executor/platform/default/dso_loader.cc:44] Successfully opened dynamic library libcurand.so.10\n",
      "2023-05-19 02:46:57.091040: I tensorflow/stream_executor/platform/default/dso_loader.cc:44] Successfully opened dynamic library libcusolver.so.10\n",
      "2023-05-19 02:46:57.093115: I tensorflow/stream_executor/platform/default/dso_loader.cc:44] Successfully opened dynamic library libcusparse.so.10\n",
      "2023-05-19 02:46:57.099578: I tensorflow/stream_executor/platform/default/dso_loader.cc:44] Successfully opened dynamic library libcudnn.so.7\n",
      "2023-05-19 02:46:57.101013: I tensorflow/core/common_runtime/gpu/gpu_device.cc:1703] Adding visible gpu devices: 0\n"
     ]
    }
   ],
   "source": [
    "import sys\n",
    "import os\n",
    "os.environ[\"CUDA_VISIBLE_DEVICES\"] = \"1\"\n",
    "\n",
    "from tqdm import tqdm\n",
    "import h5py\n",
    "import numpy as np\n",
    "import pandas as pd\n",
    "import matplotlib.pyplot as plt\n",
    "from sklearn.preprocessing import StandardScaler\n",
    "\n",
    "import tensorflow as tf\n",
    "from tensorflow import keras\n",
    "from tensorflow.keras.models import Sequential\n",
    "from tensorflow.keras.layers import Dense\n",
    "from tensorflow.keras import initializers\n",
    "\n",
    "import wandb\n",
    "from wandb.keras import WandbCallback\n",
    "\n",
    "# https://gitlab.cern.ch/atlas/ATLAS-top-tagging-open-data/-/blob/master/preprocessing.py\n",
    "import preprocessing\n",
    "\n",
    "np.random.seed(8)\n",
    "tf.random.set_seed(8)\n",
    "\n",
    "physical_devices = tf.config.list_physical_devices('GPU')\n",
    "print(physical_devices)\n",
    "tf.config.experimental.set_memory_growth(physical_devices[0], True)"
   ]
  },
  {
   "cell_type": "code",
   "execution_count": 2,
   "metadata": {},
   "outputs": [
    {
     "data": {
      "text/plain": [
       "['train_0.h5']"
      ]
     },
     "execution_count": 2,
     "metadata": {},
     "output_type": "execute_result"
    }
   ],
   "source": [
    "train_file_names = os.listdir(\"/global/ml4hep/spss/mfong/transfer_learning/delphes_train\")\n",
    "# for i in range(7, 15):\n",
    "for i in range(1, 15):\n",
    "    train_file_names.remove(f\"train_{i}.h5\")\n",
    "train_file_names\n",
    "# f = h5py.File('/clusterfs/ml4hep/mfong/transfer_learning/delphes_train.h5', 'r')\n",
    "# f2 = h5py.File('/clusterfs/ml4hep/mfong/transfer_learning/delphes_test.h5', 'r')"
   ]
  },
  {
   "cell_type": "code",
   "execution_count": 3,
   "metadata": {},
   "outputs": [],
   "source": [
    "num_samples_per_file = []\n",
    "for train_file_name in train_file_names:\n",
    "    f = h5py.File(\"/global/ml4hep/spss/mfong/transfer_learning/delphes_train/\" + train_file_name, 'r')\n",
    "    num_samples_per_file.append(f[\"fjet_clus_eta\"].shape[0])\n",
    "num_samples = sum(num_samples_per_file)\n",
    "feature_keys = ['fjet_clus_eta', 'fjet_clus_phi', 'fjet_clus_pt', 'fjet_clus_E']\n",
    "num_features = 7*200\n",
    "# for k in feature_keys:\n",
    "#     num_features += f[k].shape[1]\n",
    "x = np.empty((num_samples, num_features))"
   ]
  },
  {
   "cell_type": "code",
   "execution_count": 4,
   "metadata": {},
   "outputs": [
    {
     "data": {
      "text/plain": [
       "(5000000, 1400)"
      ]
     },
     "execution_count": 4,
     "metadata": {},
     "output_type": "execute_result"
    }
   ],
   "source": [
    "x.shape"
   ]
  },
  {
   "cell_type": "code",
   "execution_count": 5,
   "metadata": {},
   "outputs": [
    {
     "name": "stderr",
     "output_type": "stream",
     "text": [
      "0it [00:00, ?it/s]/global/home/users/mfong/git/transfer-learning/preprocessing.py:90: RuntimeWarning: divide by zero encountered in log\n",
      "  log_pt = np.log(pt)\n",
      "/global/home/users/mfong/git/transfer-learning/preprocessing.py:91: RuntimeWarning: divide by zero encountered in log\n",
      "  log_energy = np.log(energy)\n",
      "/global/home/users/mfong/git/transfer-learning/preprocessing.py:98: RuntimeWarning: divide by zero encountered in log\n",
      "  lognorm_pt = np.log(pt / sum_pt[:,np.newaxis])\n",
      "/global/home/users/mfong/git/transfer-learning/preprocessing.py:99: RuntimeWarning: divide by zero encountered in log\n",
      "  lognorm_energy = np.log(energy / sum_energy[:,np.newaxis])\n",
      "1it [04:42, 282.67s/it]\n"
     ]
    }
   ],
   "source": [
    "current_row = 0\n",
    "for train_file_name, current_num_samples in tqdm(zip(train_file_names, num_samples_per_file)):\n",
    "    f = h5py.File(\"/global/ml4hep/spss/mfong/transfer_learning/delphes_train/\" + train_file_name, 'r')\n",
    "    \n",
    "    # preprocess\n",
    "    data_dict = {k:v for k, v in f.items() if k in feature_keys}\n",
    "    x[current_row:current_row+current_num_samples] = preprocessing.constituent(data_dict, 200).reshape(f[\"fjet_clus_eta\"].shape[0], x.shape[1])       # TODO need to put these into preallocated x array\n",
    "    # x = preprocessing.high_level(x)\n",
    "    \n",
    "    # x[current_row:current_row+current_num_samples] = np.concatenate([f[k] for k in feature_keys], axis=1)\n",
    "    current_row += current_num_samples"
   ]
  },
  {
   "cell_type": "code",
   "execution_count": 6,
   "metadata": {},
   "outputs": [
    {
     "name": "stdout",
     "output_type": "stream",
     "text": [
      "fjet_clus_E (5000000, 200)\n",
      "fjet_clus_eta (5000000, 200)\n",
      "fjet_clus_phi (5000000, 200)\n",
      "fjet_clus_pt (5000000, 200)\n",
      "fjet_eta (5000000,)\n",
      "fjet_m (5000000,)\n",
      "fjet_phi (5000000,)\n",
      "fjet_pt (5000000,)\n",
      "labels (5000000,)\n",
      "training_weights (5000000,)\n"
     ]
    }
   ],
   "source": [
    "feature_keys = ['fjet_clus_eta', 'fjet_clus_phi', 'fjet_clus_pt', 'fjet_clus_E']\n",
    "for k in f.keys():\n",
    "    print(k, f[k].shape)"
   ]
  },
  {
   "cell_type": "code",
   "execution_count": 7,
   "metadata": {},
   "outputs": [
    {
     "name": "stderr",
     "output_type": "stream",
     "text": [
      "1it [00:00,  1.92it/s]\n"
     ]
    }
   ],
   "source": [
    "y = np.empty((num_samples))\n",
    "current_row = 0\n",
    "for train_file_name, current_num_samples in tqdm(zip(train_file_names, num_samples_per_file)):\n",
    "    f = h5py.File(\"/global/ml4hep/spss/mfong/transfer_learning/delphes_train/\" + train_file_name, 'r')\n",
    "    y[current_row:current_row+current_num_samples] = f[\"labels\"][:]\n",
    "    current_row += current_num_samples"
   ]
  },
  {
   "cell_type": "code",
   "execution_count": 8,
   "metadata": {},
   "outputs": [
    {
     "data": {
      "text/plain": [
       "(5000000, 1400)"
      ]
     },
     "execution_count": 8,
     "metadata": {},
     "output_type": "execute_result"
    }
   ],
   "source": [
    "x.shape"
   ]
  },
  {
   "cell_type": "code",
   "execution_count": 9,
   "metadata": {},
   "outputs": [
    {
     "data": {
      "text/plain": [
       "(5000000,)"
      ]
     },
     "execution_count": 9,
     "metadata": {},
     "output_type": "execute_result"
    }
   ],
   "source": [
    "y.shape"
   ]
  },
  {
   "cell_type": "code",
   "execution_count": 10,
   "metadata": {},
   "outputs": [],
   "source": [
    "num_samples = len(y)\n",
    "num_train_samples = int(0.8 * num_samples)\n",
    "# num_train_samples = num_samples - 2000000       # save 2M rows for test data\n",
    "x_train = x[:num_train_samples]\n",
    "y_train = y[:num_train_samples]\n",
    "\n",
    "x_test = x[num_train_samples:]\n",
    "y_test = y[num_train_samples:]"
   ]
  },
  {
   "cell_type": "code",
   "execution_count": 11,
   "metadata": {},
   "outputs": [
    {
     "data": {
      "text/plain": [
       "(4000000, 1400)"
      ]
     },
     "execution_count": 11,
     "metadata": {},
     "output_type": "execute_result"
    }
   ],
   "source": [
    "x_train.shape"
   ]
  },
  {
   "cell_type": "code",
   "execution_count": 12,
   "metadata": {},
   "outputs": [
    {
     "data": {
      "text/plain": [
       "(1000000, 1400)"
      ]
     },
     "execution_count": 12,
     "metadata": {},
     "output_type": "execute_result"
    }
   ],
   "source": [
    "x_test.shape"
   ]
  },
  {
   "cell_type": "code",
   "execution_count": 13,
   "metadata": {},
   "outputs": [],
   "source": [
    "# scaler = StandardScaler()\n",
    "# scaler.fit(x_train[:2000000])   # only use first 2M otherwise takes too long\n",
    "\n",
    "# x_train = scaler.transform(x_train, copy=False)\n",
    "# x_test = scaler.transform(x_test, copy=False)"
   ]
  },
  {
   "cell_type": "code",
   "execution_count": 14,
   "metadata": {},
   "outputs": [],
   "source": [
    "os.environ[\"WANDB_NOTEBOOK_NAME\"] = \"pretrain_MLP.ipynb\""
   ]
  },
  {
   "cell_type": "code",
   "execution_count": null,
   "metadata": {
    "scrolled": true,
    "tags": []
   },
   "outputs": [
    {
     "name": "stderr",
     "output_type": "stream",
     "text": [
      "\u001b[34m\u001b[1mwandb\u001b[0m: Currently logged in as: \u001b[33mmingfong\u001b[0m. Use \u001b[1m`wandb login --relogin`\u001b[0m to force relogin\n"
     ]
    },
    {
     "data": {
      "text/html": [
       "wandb version 0.15.3 is available!  To upgrade, please run:\n",
       " $ pip install wandb --upgrade"
      ],
      "text/plain": [
       "<IPython.core.display.HTML object>"
      ]
     },
     "metadata": {},
     "output_type": "display_data"
    },
    {
     "data": {
      "text/html": [
       "Tracking run with wandb version 0.15.0"
      ],
      "text/plain": [
       "<IPython.core.display.HTML object>"
      ]
     },
     "metadata": {},
     "output_type": "display_data"
    },
    {
     "data": {
      "text/html": [
       "Run data is saved locally in <code>/global/home/users/mfong/git/transfer-learning/wandb/run-20230519_025153-ckir1988</code>"
      ],
      "text/plain": [
       "<IPython.core.display.HTML object>"
      ]
     },
     "metadata": {},
     "output_type": "display_data"
    },
    {
     "data": {
      "text/html": [
       "Syncing run <strong><a href='https://wandb.ai/mingfong/pretrain_MLP/runs/ckir1988' target=\"_blank\">preprocess_fastsim_MLP_100K_rows</a></strong> to <a href='https://wandb.ai/mingfong/pretrain_MLP' target=\"_blank\">Weights & Biases</a> (<a href='https://wandb.me/run' target=\"_blank\">docs</a>)<br/>"
      ],
      "text/plain": [
       "<IPython.core.display.HTML object>"
      ]
     },
     "metadata": {},
     "output_type": "display_data"
    },
    {
     "data": {
      "text/html": [
       " View project at <a href='https://wandb.ai/mingfong/pretrain_MLP' target=\"_blank\">https://wandb.ai/mingfong/pretrain_MLP</a>"
      ],
      "text/plain": [
       "<IPython.core.display.HTML object>"
      ]
     },
     "metadata": {},
     "output_type": "display_data"
    },
    {
     "data": {
      "text/html": [
       " View run at <a href='https://wandb.ai/mingfong/pretrain_MLP/runs/ckir1988' target=\"_blank\">https://wandb.ai/mingfong/pretrain_MLP/runs/ckir1988</a>"
      ],
      "text/plain": [
       "<IPython.core.display.HTML object>"
      ]
     },
     "metadata": {},
     "output_type": "display_data"
    },
    {
     "name": "stderr",
     "output_type": "stream",
     "text": [
      "2023-05-19 02:52:04.621494: I tensorflow/core/platform/cpu_feature_guard.cc:143] Your CPU supports instructions that this TensorFlow binary was not compiled to use: SSE4.1 SSE4.2 AVX AVX2 FMA\n",
      "2023-05-19 02:52:04.637520: I tensorflow/core/platform/profile_utils/cpu_utils.cc:102] CPU Frequency: 2994330000 Hz\n",
      "2023-05-19 02:52:04.639499: I tensorflow/compiler/xla/service/service.cc:168] XLA service 0x55a0b000aa00 initialized for platform Host (this does not guarantee that XLA will be used). Devices:\n",
      "2023-05-19 02:52:04.639543: I tensorflow/compiler/xla/service/service.cc:176]   StreamExecutor device (0): Host, Default Version\n",
      "2023-05-19 02:52:04.783329: I tensorflow/compiler/xla/service/service.cc:168] XLA service 0x55a0b0074a20 initialized for platform CUDA (this does not guarantee that XLA will be used). Devices:\n",
      "2023-05-19 02:52:04.783399: I tensorflow/compiler/xla/service/service.cc:176]   StreamExecutor device (0): NVIDIA A40, Compute Capability 8.6\n",
      "2023-05-19 02:52:04.784475: I tensorflow/core/common_runtime/gpu/gpu_device.cc:1561] Found device 0 with properties: \n",
      "pciBusID: 0000:41:00.0 name: NVIDIA A40 computeCapability: 8.6\n",
      "coreClock: 1.74GHz coreCount: 84 deviceMemorySize: 44.56GiB deviceMemoryBandwidth: 648.29GiB/s\n",
      "2023-05-19 02:52:04.784534: I tensorflow/stream_executor/platform/default/dso_loader.cc:44] Successfully opened dynamic library libcudart.so.10.1\n",
      "2023-05-19 02:52:04.784554: I tensorflow/stream_executor/platform/default/dso_loader.cc:44] Successfully opened dynamic library libcublas.so.10\n",
      "2023-05-19 02:52:04.784571: I tensorflow/stream_executor/platform/default/dso_loader.cc:44] Successfully opened dynamic library libcufft.so.10\n",
      "2023-05-19 02:52:04.784587: I tensorflow/stream_executor/platform/default/dso_loader.cc:44] Successfully opened dynamic library libcurand.so.10\n",
      "2023-05-19 02:52:04.784602: I tensorflow/stream_executor/platform/default/dso_loader.cc:44] Successfully opened dynamic library libcusolver.so.10\n",
      "2023-05-19 02:52:04.784617: I tensorflow/stream_executor/platform/default/dso_loader.cc:44] Successfully opened dynamic library libcusparse.so.10\n",
      "2023-05-19 02:52:04.784633: I tensorflow/stream_executor/platform/default/dso_loader.cc:44] Successfully opened dynamic library libcudnn.so.7\n",
      "2023-05-19 02:52:04.785606: I tensorflow/core/common_runtime/gpu/gpu_device.cc:1703] Adding visible gpu devices: 0\n",
      "2023-05-19 02:52:04.785642: I tensorflow/stream_executor/platform/default/dso_loader.cc:44] Successfully opened dynamic library libcudart.so.10.1\n",
      "2023-05-19 02:52:04.787062: I tensorflow/core/common_runtime/gpu/gpu_device.cc:1102] Device interconnect StreamExecutor with strength 1 edge matrix:\n",
      "2023-05-19 02:52:04.787073: I tensorflow/core/common_runtime/gpu/gpu_device.cc:1108]      0 \n",
      "2023-05-19 02:52:04.787082: I tensorflow/core/common_runtime/gpu/gpu_device.cc:1121] 0:   N \n",
      "2023-05-19 02:52:04.788144: I tensorflow/core/common_runtime/gpu/gpu_device.cc:1247] Created TensorFlow device (/job:localhost/replica:0/task:0/device:GPU:0 with 38562 MB memory) -> physical GPU (device: 0, name: NVIDIA A40, pci bus id: 0000:41:00.0, compute capability: 8.6)\n",
      "\u001b[34m\u001b[1mwandb\u001b[0m: \u001b[33mWARNING\u001b[0m The save_model argument by default saves the model in the HDF5 format that cannot save custom objects like subclassed models and custom layers. This behavior will be deprecated in a future release in favor of the SavedModel format. Meanwhile, the HDF5 model is saved as W&B files and the SavedModel as W&B Artifacts.\n"
     ]
    },
    {
     "name": "stdout",
     "output_type": "stream",
     "text": [
      "Epoch 1/400\n"
     ]
    },
    {
     "name": "stderr",
     "output_type": "stream",
     "text": [
      "2023-05-19 02:58:08.166282: I tensorflow/stream_executor/platform/default/dso_loader.cc:44] Successfully opened dynamic library libcublas.so.10\n"
     ]
    },
    {
     "name": "stdout",
     "output_type": "stream",
     "text": [
      "378/391 [============================>.] - ETA: 0s - loss: 0.4953 - accuracy: 0.7578WARNING:tensorflow:From /global/home/users/mfong/anaconda3/lib/python3.8/site-packages/tensorflow/python/ops/resource_variable_ops.py:1813: calling BaseResourceVariable.__init__ (from tensorflow.python.ops.resource_variable_ops) with constraint is deprecated and will be removed in a future version.\n",
      "Instructions for updating:\n",
      "If using Keras pass *_constraint arguments to layers.\n"
     ]
    },
    {
     "name": "stderr",
     "output_type": "stream",
     "text": [
      "2023-05-19 03:00:14.259797: W tensorflow/python/util/util.cc:329] Sets are not currently considered sequences, but this may change in the future, so consider avoiding using them.\n"
     ]
    },
    {
     "name": "stdout",
     "output_type": "stream",
     "text": [
      "INFO:tensorflow:Assets written to: /global/home/users/mfong/git/transfer-learning/wandb/run-20230519_025153-ckir1988/files/model-best/assets\n"
     ]
    },
    {
     "name": "stderr",
     "output_type": "stream",
     "text": [
      "\u001b[34m\u001b[1mwandb\u001b[0m: Adding directory to artifact (/global/home/users/mfong/git/transfer-learning/wandb/run-20230519_025153-ckir1988/files/model-best)... Done. 0.0s\n"
     ]
    },
    {
     "name": "stdout",
     "output_type": "stream",
     "text": [
      "391/391 [==============================] - 13s 33ms/step - loss: 0.4945 - accuracy: 0.7586 - val_loss: 0.4665 - val_accuracy: 0.7821\n",
      "Epoch 2/400\n",
      "377/391 [===========================>..] - ETA: 0s - loss: 0.4621 - accuracy: 0.7796INFO:tensorflow:Assets written to: /global/home/users/mfong/git/transfer-learning/wandb/run-20230519_025153-ckir1988/files/model-best/assets\n"
     ]
    },
    {
     "name": "stderr",
     "output_type": "stream",
     "text": [
      "\u001b[34m\u001b[1mwandb\u001b[0m: Adding directory to artifact (/global/home/users/mfong/git/transfer-learning/wandb/run-20230519_025153-ckir1988/files/model-best)... Done. 0.0s\n"
     ]
    },
    {
     "name": "stdout",
     "output_type": "stream",
     "text": [
      "391/391 [==============================] - 12s 30ms/step - loss: 0.4617 - accuracy: 0.7801 - val_loss: 0.4500 - val_accuracy: 0.7910\n",
      "Epoch 3/400\n",
      "391/391 [==============================] - 12s 30ms/step - loss: 0.4488 - accuracy: 0.7883 - val_loss: 0.4517 - val_accuracy: 0.7887\n",
      "Epoch 4/400\n",
      "391/391 [==============================] - 12s 31ms/step - loss: 0.4486 - accuracy: 0.7865 - val_loss: 0.4988 - val_accuracy: 0.7404\n",
      "Epoch 5/400\n",
      "391/391 [==============================] - 12s 29ms/step - loss: 0.4414 - accuracy: 0.7933 - val_loss: 0.4654 - val_accuracy: 0.7787\n",
      "Epoch 6/400\n",
      "376/391 [===========================>..] - ETA: 0s - loss: 0.4361 - accuracy: 0.7951INFO:tensorflow:Assets written to: /global/home/users/mfong/git/transfer-learning/wandb/run-20230519_025153-ckir1988/files/model-best/assets\n"
     ]
    },
    {
     "name": "stderr",
     "output_type": "stream",
     "text": [
      "\u001b[34m\u001b[1mwandb\u001b[0m: Adding directory to artifact (/global/home/users/mfong/git/transfer-learning/wandb/run-20230519_025153-ckir1988/files/model-best)... Done. 0.0s\n"
     ]
    },
    {
     "name": "stdout",
     "output_type": "stream",
     "text": [
      "391/391 [==============================] - 13s 32ms/step - loss: 0.4360 - accuracy: 0.7952 - val_loss: 0.4345 - val_accuracy: 0.7975\n",
      "Epoch 7/400\n",
      "387/391 [============================>.] - ETA: 0s - loss: 0.4309 - accuracy: 0.8001INFO:tensorflow:Assets written to: /global/home/users/mfong/git/transfer-learning/wandb/run-20230519_025153-ckir1988/files/model-best/assets\n"
     ]
    },
    {
     "name": "stderr",
     "output_type": "stream",
     "text": [
      "\u001b[34m\u001b[1mwandb\u001b[0m: Adding directory to artifact (/global/home/users/mfong/git/transfer-learning/wandb/run-20230519_025153-ckir1988/files/model-best)... Done. 0.0s\n"
     ]
    },
    {
     "name": "stdout",
     "output_type": "stream",
     "text": [
      "391/391 [==============================] - 12s 32ms/step - loss: 0.4308 - accuracy: 0.8001 - val_loss: 0.4303 - val_accuracy: 0.8006\n",
      "Epoch 8/400\n",
      "391/391 [==============================] - 12s 30ms/step - loss: 0.4322 - accuracy: 0.7989 - val_loss: 0.4313 - val_accuracy: 0.8005\n",
      "Epoch 9/400\n",
      "391/391 [==============================] - 12s 30ms/step - loss: 0.4246 - accuracy: 0.8032 - val_loss: 0.4363 - val_accuracy: 0.7934\n",
      "Epoch 10/400\n",
      "391/391 [==============================] - 12s 30ms/step - loss: 0.4240 - accuracy: 0.8038 - val_loss: 0.4384 - val_accuracy: 0.7946\n",
      "Epoch 11/400\n",
      "380/391 [============================>.] - ETA: 0s - loss: 0.4213 - accuracy: 0.8060INFO:tensorflow:Assets written to: /global/home/users/mfong/git/transfer-learning/wandb/run-20230519_025153-ckir1988/files/model-best/assets\n"
     ]
    },
    {
     "name": "stderr",
     "output_type": "stream",
     "text": [
      "\u001b[34m\u001b[1mwandb\u001b[0m: Adding directory to artifact (/global/home/users/mfong/git/transfer-learning/wandb/run-20230519_025153-ckir1988/files/model-best)... Done. 0.0s\n"
     ]
    },
    {
     "name": "stdout",
     "output_type": "stream",
     "text": [
      "391/391 [==============================] - 13s 32ms/step - loss: 0.4211 - accuracy: 0.8063 - val_loss: 0.4200 - val_accuracy: 0.8076\n",
      "Epoch 12/400\n",
      "391/391 [==============================] - 12s 30ms/step - loss: 0.4189 - accuracy: 0.8062 - val_loss: 0.4270 - val_accuracy: 0.7970\n",
      "Epoch 13/400\n",
      "383/391 [============================>.] - ETA: 0s - loss: 0.4170 - accuracy: 0.8083INFO:tensorflow:Assets written to: /global/home/users/mfong/git/transfer-learning/wandb/run-20230519_025153-ckir1988/files/model-best/assets\n"
     ]
    },
    {
     "name": "stderr",
     "output_type": "stream",
     "text": [
      "\u001b[34m\u001b[1mwandb\u001b[0m: Adding directory to artifact (/global/home/users/mfong/git/transfer-learning/wandb/run-20230519_025153-ckir1988/files/model-best)... Done. 0.0s\n"
     ]
    },
    {
     "name": "stdout",
     "output_type": "stream",
     "text": [
      "391/391 [==============================] - 12s 31ms/step - loss: 0.4168 - accuracy: 0.8083 - val_loss: 0.4106 - val_accuracy: 0.8136\n",
      "Epoch 14/400\n",
      "391/391 [==============================] - 11s 29ms/step - loss: 0.4133 - accuracy: 0.8108 - val_loss: 0.4500 - val_accuracy: 0.7910\n",
      "Epoch 15/400\n",
      "391/391 [==============================] - 12s 30ms/step - loss: 0.4108 - accuracy: 0.8116 - val_loss: 0.4113 - val_accuracy: 0.8130\n",
      "Epoch 16/400\n",
      "375/391 [===========================>..] - ETA: 0s - loss: 0.4122 - accuracy: 0.8116INFO:tensorflow:Assets written to: /global/home/users/mfong/git/transfer-learning/wandb/run-20230519_025153-ckir1988/files/model-best/assets\n"
     ]
    },
    {
     "name": "stderr",
     "output_type": "stream",
     "text": [
      "\u001b[34m\u001b[1mwandb\u001b[0m: Adding directory to artifact (/global/home/users/mfong/git/transfer-learning/wandb/run-20230519_025153-ckir1988/files/model-best)... Done. 0.0s\n"
     ]
    },
    {
     "name": "stdout",
     "output_type": "stream",
     "text": [
      "391/391 [==============================] - 13s 32ms/step - loss: 0.4118 - accuracy: 0.8118 - val_loss: 0.4098 - val_accuracy: 0.8133\n",
      "Epoch 17/400\n",
      "378/391 [============================>.] - ETA: 0s - loss: 0.4030 - accuracy: 0.8167INFO:tensorflow:Assets written to: /global/home/users/mfong/git/transfer-learning/wandb/run-20230519_025153-ckir1988/files/model-best/assets\n"
     ]
    },
    {
     "name": "stderr",
     "output_type": "stream",
     "text": [
      "\u001b[34m\u001b[1mwandb\u001b[0m: Adding directory to artifact (/global/home/users/mfong/git/transfer-learning/wandb/run-20230519_025153-ckir1988/files/model-best)... Done. 0.0s\n"
     ]
    },
    {
     "name": "stdout",
     "output_type": "stream",
     "text": [
      "391/391 [==============================] - 12s 30ms/step - loss: 0.4037 - accuracy: 0.8164 - val_loss: 0.4030 - val_accuracy: 0.8161\n",
      "Epoch 18/400\n",
      "391/391 [==============================] - 12s 30ms/step - loss: 0.4037 - accuracy: 0.8154 - val_loss: 0.4088 - val_accuracy: 0.8142\n",
      "Epoch 19/400\n",
      "391/391 [==============================] - 11s 29ms/step - loss: 0.4026 - accuracy: 0.8166 - val_loss: 0.4205 - val_accuracy: 0.8060\n",
      "Epoch 20/400\n",
      "389/391 [============================>.] - ETA: 0s - loss: 0.3994 - accuracy: 0.8180INFO:tensorflow:Assets written to: /global/home/users/mfong/git/transfer-learning/wandb/run-20230519_025153-ckir1988/files/model-best/assets\n"
     ]
    },
    {
     "name": "stderr",
     "output_type": "stream",
     "text": [
      "\u001b[34m\u001b[1mwandb\u001b[0m: Adding directory to artifact (/global/home/users/mfong/git/transfer-learning/wandb/run-20230519_025153-ckir1988/files/model-best)... Done. 0.0s\n"
     ]
    },
    {
     "name": "stdout",
     "output_type": "stream",
     "text": [
      "391/391 [==============================] - 21s 53ms/step - loss: 0.3996 - accuracy: 0.8178 - val_loss: 0.4004 - val_accuracy: 0.8192\n",
      "Epoch 21/400\n",
      "380/391 [============================>.] - ETA: 0s - loss: 0.3971 - accuracy: 0.8204INFO:tensorflow:Assets written to: /global/home/users/mfong/git/transfer-learning/wandb/run-20230519_025153-ckir1988/files/model-best/assets\n"
     ]
    },
    {
     "name": "stderr",
     "output_type": "stream",
     "text": [
      "\u001b[34m\u001b[1mwandb\u001b[0m: Adding directory to artifact (/global/home/users/mfong/git/transfer-learning/wandb/run-20230519_025153-ckir1988/files/model-best)... Done. 0.0s\n"
     ]
    },
    {
     "name": "stdout",
     "output_type": "stream",
     "text": [
      "391/391 [==============================] - 12s 31ms/step - loss: 0.3974 - accuracy: 0.8201 - val_loss: 0.3977 - val_accuracy: 0.8213\n",
      "Epoch 22/400\n",
      "391/391 [==============================] - 12s 30ms/step - loss: 0.3954 - accuracy: 0.8202 - val_loss: 0.4059 - val_accuracy: 0.8147\n",
      "Epoch 23/400\n",
      "378/391 [============================>.] - ETA: 0s - loss: 0.3958 - accuracy: 0.8207INFO:tensorflow:Assets written to: /global/home/users/mfong/git/transfer-learning/wandb/run-20230519_025153-ckir1988/files/model-best/assets\n"
     ]
    },
    {
     "name": "stderr",
     "output_type": "stream",
     "text": [
      "\u001b[34m\u001b[1mwandb\u001b[0m: Adding directory to artifact (/global/home/users/mfong/git/transfer-learning/wandb/run-20230519_025153-ckir1988/files/model-best)... Done. 0.0s\n"
     ]
    },
    {
     "name": "stdout",
     "output_type": "stream",
     "text": [
      "391/391 [==============================] - 12s 32ms/step - loss: 0.3964 - accuracy: 0.8206 - val_loss: 0.3974 - val_accuracy: 0.8213\n",
      "Epoch 24/400\n",
      "391/391 [==============================] - 12s 30ms/step - loss: 0.3908 - accuracy: 0.8233 - val_loss: 0.4060 - val_accuracy: 0.8160\n",
      "Epoch 25/400\n",
      "391/391 [==============================] - 12s 29ms/step - loss: 0.3944 - accuracy: 0.8223 - val_loss: 0.4045 - val_accuracy: 0.8162\n",
      "Epoch 26/400\n",
      "380/391 [============================>.] - ETA: 0s - loss: 0.3932 - accuracy: 0.8212INFO:tensorflow:Assets written to: /global/home/users/mfong/git/transfer-learning/wandb/run-20230519_025153-ckir1988/files/model-best/assets\n"
     ]
    },
    {
     "name": "stderr",
     "output_type": "stream",
     "text": [
      "\u001b[34m\u001b[1mwandb\u001b[0m: Adding directory to artifact (/global/home/users/mfong/git/transfer-learning/wandb/run-20230519_025153-ckir1988/files/model-best)... Done. 0.0s\n"
     ]
    },
    {
     "name": "stdout",
     "output_type": "stream",
     "text": [
      "391/391 [==============================] - 14s 35ms/step - loss: 0.3927 - accuracy: 0.8216 - val_loss: 0.3961 - val_accuracy: 0.8215\n",
      "Epoch 27/400\n",
      "391/391 [==============================] - 12s 30ms/step - loss: 0.3872 - accuracy: 0.8259 - val_loss: 0.4017 - val_accuracy: 0.8177\n",
      "Epoch 28/400\n",
      "380/391 [============================>.] - ETA: 0s - loss: 0.3882 - accuracy: 0.8250INFO:tensorflow:Assets written to: /global/home/users/mfong/git/transfer-learning/wandb/run-20230519_025153-ckir1988/files/model-best/assets\n"
     ]
    },
    {
     "name": "stderr",
     "output_type": "stream",
     "text": [
      "\u001b[34m\u001b[1mwandb\u001b[0m: Adding directory to artifact (/global/home/users/mfong/git/transfer-learning/wandb/run-20230519_025153-ckir1988/files/model-best)... Done. 0.0s\n"
     ]
    },
    {
     "name": "stdout",
     "output_type": "stream",
     "text": [
      "391/391 [==============================] - 13s 33ms/step - loss: 0.3879 - accuracy: 0.8253 - val_loss: 0.3911 - val_accuracy: 0.8242\n",
      "Epoch 29/400\n",
      "391/391 [==============================] - 12s 30ms/step - loss: 0.3873 - accuracy: 0.8250 - val_loss: 0.3927 - val_accuracy: 0.8234\n",
      "Epoch 30/400\n",
      "391/391 [==============================] - 12s 30ms/step - loss: 0.3837 - accuracy: 0.8283 - val_loss: 0.3972 - val_accuracy: 0.8239\n",
      "Epoch 31/400\n",
      "378/391 [============================>.] - ETA: 0s - loss: 0.3873 - accuracy: 0.8257INFO:tensorflow:Assets written to: /global/home/users/mfong/git/transfer-learning/wandb/run-20230519_025153-ckir1988/files/model-best/assets\n"
     ]
    },
    {
     "name": "stderr",
     "output_type": "stream",
     "text": [
      "\u001b[34m\u001b[1mwandb\u001b[0m: Adding directory to artifact (/global/home/users/mfong/git/transfer-learning/wandb/run-20230519_025153-ckir1988/files/model-best)... Done. 0.0s\n"
     ]
    },
    {
     "name": "stdout",
     "output_type": "stream",
     "text": [
      "391/391 [==============================] - 13s 32ms/step - loss: 0.3877 - accuracy: 0.8253 - val_loss: 0.3885 - val_accuracy: 0.8256\n",
      "Epoch 32/400\n",
      "391/391 [==============================] - 12s 30ms/step - loss: 0.3851 - accuracy: 0.8271 - val_loss: 0.3952 - val_accuracy: 0.8219\n",
      "Epoch 33/400\n",
      "391/391 [==============================] - 12s 30ms/step - loss: 0.3833 - accuracy: 0.8281 - val_loss: 0.4170 - val_accuracy: 0.8097\n",
      "Epoch 34/400\n",
      "391/391 [==============================] - 12s 30ms/step - loss: 0.3809 - accuracy: 0.8304 - val_loss: 0.3933 - val_accuracy: 0.8229\n",
      "Epoch 35/400\n",
      "373/391 [===========================>..] - ETA: 0s - loss: 0.3825 - accuracy: 0.8284INFO:tensorflow:Assets written to: /global/home/users/mfong/git/transfer-learning/wandb/run-20230519_025153-ckir1988/files/model-best/assets\n"
     ]
    },
    {
     "name": "stderr",
     "output_type": "stream",
     "text": [
      "\u001b[34m\u001b[1mwandb\u001b[0m: Adding directory to artifact (/global/home/users/mfong/git/transfer-learning/wandb/run-20230519_025153-ckir1988/files/model-best)... Done. 0.0s\n"
     ]
    },
    {
     "name": "stdout",
     "output_type": "stream",
     "text": [
      "391/391 [==============================] - 13s 33ms/step - loss: 0.3824 - accuracy: 0.8285 - val_loss: 0.3863 - val_accuracy: 0.8270\n",
      "Epoch 36/400\n",
      "391/391 [==============================] - 12s 30ms/step - loss: 0.3806 - accuracy: 0.8296 - val_loss: 0.3993 - val_accuracy: 0.8244\n",
      "Epoch 37/400\n",
      "391/391 [==============================] - 12s 30ms/step - loss: 0.3783 - accuracy: 0.8312 - val_loss: 0.3893 - val_accuracy: 0.8260\n",
      "Epoch 38/400\n",
      "391/391 [==============================] - 12s 30ms/step - loss: 0.3782 - accuracy: 0.8319 - val_loss: 0.4043 - val_accuracy: 0.8166\n",
      "Epoch 39/400\n",
      "391/391 [==============================] - 12s 32ms/step - loss: 0.3797 - accuracy: 0.8296 - val_loss: 0.3868 - val_accuracy: 0.8262\n",
      "Epoch 40/400\n",
      "391/391 [==============================] - 12s 30ms/step - loss: 0.3779 - accuracy: 0.8305 - val_loss: 0.3991 - val_accuracy: 0.8168\n",
      "Epoch 41/400\n",
      "381/391 [============================>.] - ETA: 0s - loss: 0.3765 - accuracy: 0.8316INFO:tensorflow:Assets written to: /global/home/users/mfong/git/transfer-learning/wandb/run-20230519_025153-ckir1988/files/model-best/assets\n"
     ]
    },
    {
     "name": "stderr",
     "output_type": "stream",
     "text": [
      "\u001b[34m\u001b[1mwandb\u001b[0m: Adding directory to artifact (/global/home/users/mfong/git/transfer-learning/wandb/run-20230519_025153-ckir1988/files/model-best)... Done. 0.0s\n"
     ]
    },
    {
     "name": "stdout",
     "output_type": "stream",
     "text": [
      "391/391 [==============================] - 13s 32ms/step - loss: 0.3763 - accuracy: 0.8317 - val_loss: 0.3829 - val_accuracy: 0.8281\n",
      "Epoch 42/400\n",
      "391/391 [==============================] - 12s 30ms/step - loss: 0.3772 - accuracy: 0.8312 - val_loss: 0.3951 - val_accuracy: 0.8219\n",
      "Epoch 43/400\n",
      "391/391 [==============================] - 12s 30ms/step - loss: 0.3760 - accuracy: 0.8320 - val_loss: 0.3846 - val_accuracy: 0.8273\n",
      "Epoch 44/400\n",
      "391/391 [==============================] - 12s 30ms/step - loss: 0.3741 - accuracy: 0.8328 - val_loss: 0.3831 - val_accuracy: 0.8285\n",
      "Epoch 45/400\n",
      "391/391 [==============================] - 13s 34ms/step - loss: 0.3735 - accuracy: 0.8328 - val_loss: 0.3881 - val_accuracy: 0.8232\n",
      "Epoch 46/400\n",
      "391/391 [==============================] - 12s 30ms/step - loss: 0.3737 - accuracy: 0.8322 - val_loss: 0.3843 - val_accuracy: 0.8266\n",
      "Epoch 47/400\n",
      "391/391 [==============================] - 12s 30ms/step - loss: 0.3736 - accuracy: 0.8329 - val_loss: 0.3957 - val_accuracy: 0.8236\n",
      "Epoch 48/400\n",
      "377/391 [===========================>..] - ETA: 0s - loss: 0.3740 - accuracy: 0.8336INFO:tensorflow:Assets written to: /global/home/users/mfong/git/transfer-learning/wandb/run-20230519_025153-ckir1988/files/model-best/assets\n"
     ]
    },
    {
     "name": "stderr",
     "output_type": "stream",
     "text": [
      "\u001b[34m\u001b[1mwandb\u001b[0m: Adding directory to artifact (/global/home/users/mfong/git/transfer-learning/wandb/run-20230519_025153-ckir1988/files/model-best)... Done. 0.0s\n"
     ]
    },
    {
     "name": "stdout",
     "output_type": "stream",
     "text": [
      "391/391 [==============================] - 13s 33ms/step - loss: 0.3741 - accuracy: 0.8335 - val_loss: 0.3817 - val_accuracy: 0.8296\n",
      "Epoch 49/400\n",
      "391/391 [==============================] - 11s 29ms/step - loss: 0.3748 - accuracy: 0.8325 - val_loss: 0.3880 - val_accuracy: 0.8267\n",
      "Epoch 50/400\n",
      "391/391 [==============================] - 12s 30ms/step - loss: 0.3718 - accuracy: 0.8335 - val_loss: 0.3972 - val_accuracy: 0.8211\n",
      "Epoch 51/400\n",
      "391/391 [==============================] - 12s 30ms/step - loss: 0.3701 - accuracy: 0.8354 - val_loss: 0.3868 - val_accuracy: 0.8245\n",
      "Epoch 52/400\n",
      "391/391 [==============================] - 12s 30ms/step - loss: 0.3711 - accuracy: 0.8339 - val_loss: 0.3877 - val_accuracy: 0.8275\n",
      "Epoch 53/400\n",
      "391/391 [==============================] - 12s 30ms/step - loss: 0.3695 - accuracy: 0.8356 - val_loss: 0.3855 - val_accuracy: 0.8283\n",
      "Epoch 54/400\n",
      "391/391 [==============================] - 12s 30ms/step - loss: 0.3695 - accuracy: 0.8358 - val_loss: 0.3974 - val_accuracy: 0.8208\n",
      "Epoch 55/400\n",
      "391/391 [==============================] - 13s 32ms/step - loss: 0.3692 - accuracy: 0.8347 - val_loss: 0.3868 - val_accuracy: 0.8269\n",
      "Epoch 56/400\n",
      "391/391 [==============================] - 12s 30ms/step - loss: 0.3699 - accuracy: 0.8340 - val_loss: 0.3906 - val_accuracy: 0.8262\n",
      "Epoch 57/400\n",
      "391/391 [==============================] - 12s 30ms/step - loss: 0.3714 - accuracy: 0.8332 - val_loss: 0.3915 - val_accuracy: 0.8219\n",
      "Epoch 58/400\n",
      "380/391 [============================>.] - ETA: 0s - loss: 0.3671 - accuracy: 0.8367INFO:tensorflow:Assets written to: /global/home/users/mfong/git/transfer-learning/wandb/run-20230519_025153-ckir1988/files/model-best/assets\n"
     ]
    },
    {
     "name": "stderr",
     "output_type": "stream",
     "text": [
      "\u001b[34m\u001b[1mwandb\u001b[0m: Adding directory to artifact (/global/home/users/mfong/git/transfer-learning/wandb/run-20230519_025153-ckir1988/files/model-best)... Done. 0.0s\n"
     ]
    },
    {
     "name": "stdout",
     "output_type": "stream",
     "text": [
      "391/391 [==============================] - 13s 34ms/step - loss: 0.3675 - accuracy: 0.8367 - val_loss: 0.3786 - val_accuracy: 0.8298\n",
      "Epoch 59/400\n",
      "391/391 [==============================] - 12s 30ms/step - loss: 0.3672 - accuracy: 0.8366 - val_loss: 0.3866 - val_accuracy: 0.8274\n",
      "Epoch 60/400\n",
      "391/391 [==============================] - 12s 30ms/step - loss: 0.3652 - accuracy: 0.8367 - val_loss: 0.3931 - val_accuracy: 0.8221\n",
      "Epoch 61/400\n",
      "391/391 [==============================] - 12s 30ms/step - loss: 0.3634 - accuracy: 0.8385 - val_loss: 0.3915 - val_accuracy: 0.8241\n",
      "Epoch 62/400\n",
      "391/391 [==============================] - 12s 30ms/step - loss: 0.3677 - accuracy: 0.8360 - val_loss: 0.3923 - val_accuracy: 0.8234\n",
      "Epoch 63/400\n",
      "391/391 [==============================] - 12s 30ms/step - loss: 0.3641 - accuracy: 0.8376 - val_loss: 0.3833 - val_accuracy: 0.8292\n",
      "Epoch 64/400\n",
      "391/391 [==============================] - 12s 30ms/step - loss: 0.3678 - accuracy: 0.8348 - val_loss: 0.3935 - val_accuracy: 0.8198\n",
      "Epoch 65/400\n",
      "391/391 [==============================] - 12s 30ms/step - loss: 0.3646 - accuracy: 0.8373 - val_loss: 0.4040 - val_accuracy: 0.8161\n",
      "Epoch 66/400\n",
      "380/391 [============================>.] - ETA: 0s - loss: 0.3643 - accuracy: 0.8380INFO:tensorflow:Assets written to: /global/home/users/mfong/git/transfer-learning/wandb/run-20230519_025153-ckir1988/files/model-best/assets\n"
     ]
    },
    {
     "name": "stderr",
     "output_type": "stream",
     "text": [
      "\u001b[34m\u001b[1mwandb\u001b[0m: Adding directory to artifact (/global/home/users/mfong/git/transfer-learning/wandb/run-20230519_025153-ckir1988/files/model-best)... Done. 0.0s\n"
     ]
    },
    {
     "name": "stdout",
     "output_type": "stream",
     "text": [
      "391/391 [==============================] - 14s 35ms/step - loss: 0.3643 - accuracy: 0.8380 - val_loss: 0.3784 - val_accuracy: 0.8320\n",
      "Epoch 67/400\n",
      "391/391 [==============================] - 12s 30ms/step - loss: 0.3630 - accuracy: 0.8389 - val_loss: 0.3826 - val_accuracy: 0.8279\n",
      "Epoch 68/400\n",
      "391/391 [==============================] - 12s 30ms/step - loss: 0.3622 - accuracy: 0.8378 - val_loss: 0.3877 - val_accuracy: 0.8258\n",
      "Epoch 69/400\n",
      "391/391 [==============================] - 12s 30ms/step - loss: 0.3627 - accuracy: 0.8389 - val_loss: 0.3837 - val_accuracy: 0.8291\n",
      "Epoch 70/400\n",
      "391/391 [==============================] - 12s 30ms/step - loss: 0.3608 - accuracy: 0.8397 - val_loss: 0.3863 - val_accuracy: 0.8257\n",
      "Epoch 71/400\n",
      "391/391 [==============================] - 12s 30ms/step - loss: 0.3623 - accuracy: 0.8381 - val_loss: 0.3846 - val_accuracy: 0.8289\n",
      "Epoch 72/400\n",
      "391/391 [==============================] - 12s 30ms/step - loss: 0.3604 - accuracy: 0.8398 - val_loss: 0.3866 - val_accuracy: 0.8277\n",
      "Epoch 73/400\n",
      "391/391 [==============================] - 13s 33ms/step - loss: 0.3591 - accuracy: 0.8403 - val_loss: 0.3836 - val_accuracy: 0.8280\n",
      "Epoch 74/400\n",
      "391/391 [==============================] - 12s 30ms/step - loss: 0.3615 - accuracy: 0.8397 - val_loss: 0.3861 - val_accuracy: 0.8248\n",
      "Epoch 75/400\n",
      "391/391 [==============================] - 12s 30ms/step - loss: 0.3591 - accuracy: 0.8397 - val_loss: 0.3826 - val_accuracy: 0.8295\n",
      "Epoch 76/400\n",
      "391/391 [==============================] - 12s 30ms/step - loss: 0.3635 - accuracy: 0.8369 - val_loss: 0.3863 - val_accuracy: 0.8277\n",
      "Epoch 77/400\n",
      "391/391 [==============================] - 12s 30ms/step - loss: 0.3580 - accuracy: 0.8402 - val_loss: 0.3792 - val_accuracy: 0.8317\n",
      "Epoch 78/400\n",
      "391/391 [==============================] - 12s 30ms/step - loss: 0.3582 - accuracy: 0.8405 - val_loss: 0.3959 - val_accuracy: 0.8233\n",
      "Epoch 79/400\n",
      "391/391 [==============================] - 12s 30ms/step - loss: 0.3571 - accuracy: 0.8414 - val_loss: 0.3824 - val_accuracy: 0.8273\n",
      "Epoch 80/400\n",
      "391/391 [==============================] - 11s 29ms/step - loss: 0.3586 - accuracy: 0.8401 - val_loss: 0.3823 - val_accuracy: 0.8286\n",
      "Epoch 81/400\n",
      "391/391 [==============================] - 12s 31ms/step - loss: 0.3549 - accuracy: 0.8426 - val_loss: 0.3787 - val_accuracy: 0.8330\n",
      "Epoch 82/400\n",
      "391/391 [==============================] - 12s 31ms/step - loss: 0.3559 - accuracy: 0.8420 - val_loss: 0.3809 - val_accuracy: 0.8319\n",
      "Epoch 83/400\n",
      "391/391 [==============================] - 14s 36ms/step - loss: 0.3558 - accuracy: 0.8422 - val_loss: 0.3809 - val_accuracy: 0.8299\n",
      "Epoch 84/400\n",
      "391/391 [==============================] - 12s 30ms/step - loss: 0.3536 - accuracy: 0.8432 - val_loss: 0.3846 - val_accuracy: 0.8288\n",
      "Epoch 85/400\n",
      "391/391 [==============================] - 12s 31ms/step - loss: 0.3560 - accuracy: 0.8419 - val_loss: 0.3815 - val_accuracy: 0.8309\n",
      "Epoch 86/400\n",
      "391/391 [==============================] - 11s 29ms/step - loss: 0.3525 - accuracy: 0.8433 - val_loss: 0.3950 - val_accuracy: 0.8245\n",
      "Epoch 87/400\n",
      "391/391 [==============================] - 12s 31ms/step - loss: 0.3529 - accuracy: 0.8434 - val_loss: 0.3828 - val_accuracy: 0.8288\n",
      "Epoch 88/400\n",
      "391/391 [==============================] - 12s 30ms/step - loss: 0.3512 - accuracy: 0.8447 - val_loss: 0.3794 - val_accuracy: 0.8320\n",
      "Epoch 89/400\n",
      "391/391 [==============================] - 11s 28ms/step - loss: 0.3534 - accuracy: 0.8439 - val_loss: 0.3993 - val_accuracy: 0.8219\n",
      "Epoch 90/400\n",
      "391/391 [==============================] - 12s 31ms/step - loss: 0.3527 - accuracy: 0.8440 - val_loss: 0.3866 - val_accuracy: 0.8299\n",
      "Epoch 91/400\n",
      "391/391 [==============================] - 12s 31ms/step - loss: 0.3529 - accuracy: 0.8429 - val_loss: 0.3837 - val_accuracy: 0.8283\n",
      "Epoch 92/400\n",
      "391/391 [==============================] - 13s 34ms/step - loss: 0.3504 - accuracy: 0.8445 - val_loss: 0.3874 - val_accuracy: 0.8279\n",
      "Epoch 93/400\n",
      "391/391 [==============================] - 12s 30ms/step - loss: 0.3512 - accuracy: 0.8437 - val_loss: 0.3815 - val_accuracy: 0.8299\n",
      "Epoch 94/400\n",
      "391/391 [==============================] - 12s 31ms/step - loss: 0.3495 - accuracy: 0.8454 - val_loss: 0.3802 - val_accuracy: 0.8329\n",
      "Epoch 95/400\n",
      "391/391 [==============================] - 12s 30ms/step - loss: 0.3502 - accuracy: 0.8445 - val_loss: 0.3841 - val_accuracy: 0.8321\n",
      "Epoch 96/400\n",
      "391/391 [==============================] - 12s 30ms/step - loss: 0.3490 - accuracy: 0.8456 - val_loss: 0.3814 - val_accuracy: 0.8327\n",
      "Epoch 97/400\n",
      "391/391 [==============================] - 12s 30ms/step - loss: 0.3465 - accuracy: 0.8467 - val_loss: 0.3852 - val_accuracy: 0.8331\n",
      "Epoch 98/400\n",
      "391/391 [==============================] - 12s 30ms/step - loss: 0.3485 - accuracy: 0.8455 - val_loss: 0.3854 - val_accuracy: 0.8302\n",
      "Epoch 99/400\n",
      "384/391 [============================>.] - ETA: 0s - loss: 0.3463 - accuracy: 0.8470INFO:tensorflow:Assets written to: /global/home/users/mfong/git/transfer-learning/wandb/run-20230519_025153-ckir1988/files/model-best/assets\n"
     ]
    },
    {
     "name": "stderr",
     "output_type": "stream",
     "text": [
      "\u001b[34m\u001b[1mwandb\u001b[0m: Adding directory to artifact (/global/home/users/mfong/git/transfer-learning/wandb/run-20230519_025153-ckir1988/files/model-best)... Done. 0.0s\n"
     ]
    },
    {
     "name": "stdout",
     "output_type": "stream",
     "text": [
      "391/391 [==============================] - 14s 35ms/step - loss: 0.3464 - accuracy: 0.8471 - val_loss: 0.3782 - val_accuracy: 0.8333\n",
      "Epoch 100/400\n",
      "391/391 [==============================] - 12s 30ms/step - loss: 0.3480 - accuracy: 0.8458 - val_loss: 0.3789 - val_accuracy: 0.8332\n",
      "Epoch 101/400\n",
      "391/391 [==============================] - 12s 30ms/step - loss: 0.3454 - accuracy: 0.8463 - val_loss: 0.3870 - val_accuracy: 0.8273\n",
      "Epoch 102/400\n",
      "391/391 [==============================] - 12s 31ms/step - loss: 0.3457 - accuracy: 0.8474 - val_loss: 0.3859 - val_accuracy: 0.8317\n",
      "Epoch 103/400\n",
      "391/391 [==============================] - 12s 31ms/step - loss: 0.3469 - accuracy: 0.8469 - val_loss: 0.3872 - val_accuracy: 0.8292\n",
      "Epoch 104/400\n",
      "391/391 [==============================] - 12s 31ms/step - loss: 0.3456 - accuracy: 0.8471 - val_loss: 0.3822 - val_accuracy: 0.8312\n",
      "Epoch 105/400\n",
      "391/391 [==============================] - 12s 30ms/step - loss: 0.3445 - accuracy: 0.8476 - val_loss: 0.3810 - val_accuracy: 0.8303\n",
      "Epoch 106/400\n",
      "379/391 [============================>.] - ETA: 0s - loss: 0.3450 - accuracy: 0.8478INFO:tensorflow:Assets written to: /global/home/users/mfong/git/transfer-learning/wandb/run-20230519_025153-ckir1988/files/model-best/assets\n"
     ]
    },
    {
     "name": "stderr",
     "output_type": "stream",
     "text": [
      "\u001b[34m\u001b[1mwandb\u001b[0m: Adding directory to artifact (/global/home/users/mfong/git/transfer-learning/wandb/run-20230519_025153-ckir1988/files/model-best)... Done. 0.0s\n"
     ]
    },
    {
     "name": "stdout",
     "output_type": "stream",
     "text": [
      "391/391 [==============================] - 14s 35ms/step - loss: 0.3452 - accuracy: 0.8475 - val_loss: 0.3773 - val_accuracy: 0.8320\n",
      "Epoch 107/400\n",
      "391/391 [==============================] - 12s 30ms/step - loss: 0.3457 - accuracy: 0.8465 - val_loss: 0.3799 - val_accuracy: 0.8320\n",
      "Epoch 108/400\n",
      "391/391 [==============================] - 12s 31ms/step - loss: 0.3433 - accuracy: 0.8490 - val_loss: 0.3810 - val_accuracy: 0.8305\n",
      "Epoch 109/400\n",
      "391/391 [==============================] - 12s 30ms/step - loss: 0.3420 - accuracy: 0.8491 - val_loss: 0.3810 - val_accuracy: 0.8344\n",
      "Epoch 110/400\n",
      "391/391 [==============================] - 12s 30ms/step - loss: 0.3450 - accuracy: 0.8463 - val_loss: 0.3793 - val_accuracy: 0.8323\n",
      "Epoch 111/400\n",
      "391/391 [==============================] - 12s 32ms/step - loss: 0.3421 - accuracy: 0.8488 - val_loss: 0.3911 - val_accuracy: 0.8292\n",
      "Epoch 112/400\n",
      "391/391 [==============================] - 12s 31ms/step - loss: 0.3429 - accuracy: 0.8488 - val_loss: 0.3828 - val_accuracy: 0.8297\n",
      "Epoch 113/400\n",
      "391/391 [==============================] - 12s 31ms/step - loss: 0.3427 - accuracy: 0.8473 - val_loss: 0.3800 - val_accuracy: 0.8323\n",
      "Epoch 114/400\n",
      "391/391 [==============================] - 12s 31ms/step - loss: 0.3393 - accuracy: 0.8506 - val_loss: 0.3808 - val_accuracy: 0.8325\n",
      "Epoch 115/400\n",
      "391/391 [==============================] - 11s 29ms/step - loss: 0.3391 - accuracy: 0.8492 - val_loss: 0.3909 - val_accuracy: 0.8270\n",
      "Epoch 116/400\n",
      "391/391 [==============================] - 12s 31ms/step - loss: 0.3412 - accuracy: 0.8494 - val_loss: 0.3848 - val_accuracy: 0.8329\n",
      "Epoch 117/400\n",
      "391/391 [==============================] - 12s 31ms/step - loss: 0.3407 - accuracy: 0.8496 - val_loss: 0.3834 - val_accuracy: 0.8305\n",
      "Epoch 118/400\n",
      "391/391 [==============================] - 11s 29ms/step - loss: 0.3390 - accuracy: 0.8501 - val_loss: 0.3881 - val_accuracy: 0.8304\n",
      "Epoch 119/400\n",
      "391/391 [==============================] - 12s 30ms/step - loss: 0.3388 - accuracy: 0.8510 - val_loss: 0.3802 - val_accuracy: 0.8335\n",
      "Epoch 120/400\n",
      "391/391 [==============================] - 12s 30ms/step - loss: 0.3369 - accuracy: 0.8514 - val_loss: 0.4035 - val_accuracy: 0.8195\n",
      "Epoch 121/400\n",
      "377/391 [===========================>..] - ETA: 0s - loss: 0.3408 - accuracy: 0.8501"
     ]
    }
   ],
   "source": [
    "# NUM_PRETRAIN_ROWS_LIST = [1000000, 2000000, 4000000, 8000000, 16000000, 32000000]\n",
    "NUM_PRETRAIN_ROWS_LIST = [100000, 200000, 400000, 800000, 1000000]\n",
    "\n",
    "# config = wandb.config\n",
    "# config.batch_size = 256\n",
    "config = {\n",
    "    \"batch_size\": 256,\n",
    "    \"epochs\": 400,\n",
    "}\n",
    "for num_pretrain_rows in NUM_PRETRAIN_ROWS_LIST:\n",
    "    # config.num_pretrain_rows = num_pretrain_rows\n",
    "    config[\"num_pretrain_rows\"] = num_pretrain_rows\n",
    "    run = wandb.init(project=\"pretrain_MLP\", name=f\"preprocess_fastsim_MLP_{int(num_pretrain_rows / 1000)}K_rows\", config=config, reinit=True)\n",
    "    \n",
    "    model = Sequential()\n",
    "    model.add(Dense(64, input_shape=(x_train.shape[1],), activation='relu'))\n",
    "    model.add(Dense(8, activation='relu'))\n",
    "    model.add(Dense(1, activation='sigmoid'))\n",
    "    model.compile(loss='binary_crossentropy', optimizer='adam', metrics=['accuracy'])\n",
    "    history = model.fit(\n",
    "        x_train[:config[\"num_pretrain_rows\"]],\n",
    "        y_train[:config[\"num_pretrain_rows\"]],\n",
    "        epochs=config[\"epochs\"],\n",
    "        batch_size=config[\"batch_size\"],\n",
    "        shuffle=True,\n",
    "        validation_data=(x_test, y_test),\n",
    "        callbacks=[wandb.keras.WandbCallback()]\n",
    "    )\n",
    "    \n",
    "    plt.figure()\n",
    "    plt.plot(history.history[\"accuracy\"], label=\"acc\")\n",
    "    plt.plot(history.history[\"val_accuracy\"], label=\"val_acc\")\n",
    "    plt.title(f\"Preprocessed Fastsim MLP ({int(num_pretrain_rows / 1000)}K Rows)\")\n",
    "    plt.ylabel(\"Accuracy\")\n",
    "    plt.xlabel(\"Epoch\")\n",
    "    plt.legend()\n",
    "    plt.savefig(f\"output/preprocess_fastsim_MLP_{int(num_pretrain_rows / 1000)}K_rows_acc.png\")\n",
    "    \n",
    "    plt.figure()\n",
    "    plt.plot(history.history[\"loss\"], label=\"loss\")\n",
    "    plt.plot(history.history[\"val_loss\"], label=\"val_loss\")\n",
    "    plt.title(f\"Preprocessed Fastsim MLP ({int(num_pretrain_rows / 1000)}K Rows)\")\n",
    "    plt.ylabel(\"Loss\")\n",
    "    plt.xlabel(\"Epoch\")\n",
    "    plt.legend()\n",
    "    plt.savefig(f\"output/preprocess_fastsim_MLP_{int(num_pretrain_rows / 1000)}K_rows_loss.png\")\n",
    "    \n",
    "    \n",
    "    \n",
    "    model.save_weights(f\"models/preprocess_fastsim_MLP_{int(num_pretrain_rows / 1000)}K_rows.h5\")\n",
    "    wandb.finish()"
   ]
  },
  {
   "cell_type": "code",
   "execution_count": null,
   "metadata": {},
   "outputs": [],
   "source": []
  },
  {
   "cell_type": "code",
   "execution_count": null,
   "metadata": {},
   "outputs": [],
   "source": []
  },
  {
   "cell_type": "code",
   "execution_count": null,
   "metadata": {},
   "outputs": [],
   "source": []
  },
  {
   "cell_type": "code",
   "execution_count": null,
   "metadata": {},
   "outputs": [],
   "source": []
  }
 ],
 "metadata": {
  "kernelspec": {
   "display_name": "Python 3 (ipykernel)",
   "language": "python",
   "name": "python3"
  },
  "language_info": {
   "codemirror_mode": {
    "name": "ipython",
    "version": 3
   },
   "file_extension": ".py",
   "mimetype": "text/x-python",
   "name": "python",
   "nbconvert_exporter": "python",
   "pygments_lexer": "ipython3",
   "version": "3.8.5"
  }
 },
 "nbformat": 4,
 "nbformat_minor": 4
}
