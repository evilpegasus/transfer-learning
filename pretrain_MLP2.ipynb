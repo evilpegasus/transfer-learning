{
 "cells": [
  {
   "cell_type": "code",
   "execution_count": 1,
   "id": "d7bfa5d5-6129-4142-bb7d-5572b78c0876",
   "metadata": {},
   "outputs": [
    {
     "name": "stdout",
     "output_type": "stream",
     "text": [
      "Using JAX backend.\n"
     ]
    },
    {
     "name": "stderr",
     "output_type": "stream",
     "text": [
      "2023-10-24 01:22:03.095881: W tensorflow/compiler/tf2tensorrt/utils/py_utils.cc:38] TF-TRT Warning: Could not find TensorRT\n"
     ]
    }
   ],
   "source": [
    "%load_ext autoreload\n",
    "%autoreload 2\n",
    "# pretrain MLP using the new dataloader\n",
    "\n",
    "import sys\n",
    "import os\n",
    "os.environ[\"CUDA_VISIBLE_DEVICES\"] = \"1\"\n",
    "os.environ[\"KERAS_BACKEND\"] = \"jax\"\n",
    "\n",
    "from typing import List\n",
    "import h5py\n",
    "from torch.utils.data import Dataset, DataLoader\n",
    "import numpy as np\n",
    "import preprocessing\n",
    "from tqdm import tqdm\n",
    "import keras_core as keras\n",
    "from keras_core import layers\n",
    "from keras_core import ops\n",
    "import matplotlib.pyplot as plt\n",
    "\n",
    "from data_utils import preprocess_data, H5Dataset"
   ]
  },
  {
   "cell_type": "code",
   "execution_count": 2,
   "id": "7372878f-3077-4cc3-9195-8f7a349bcf6c",
   "metadata": {},
   "outputs": [],
   "source": [
    "train_dir = \"/global/ml4hep/spss/mfong/transfer_learning/delphes_train/\"\n",
    "train_dir_preprocess = \"/global/ml4hep/spss/mfong/transfer_learning/delphes_train_processed/\"\n",
    "train_filepaths = [train_dir + x for x in os.listdir(train_dir)]\n",
    "# preprocess_data(train_filepaths, train_dir_preprocess, force=False)\n",
    "train_preprocess_file_names = os.listdir(train_dir_preprocess)\n",
    "train_preprocess_filepaths = [train_dir_preprocess + name for name in train_preprocess_file_names]"
   ]
  },
  {
   "cell_type": "code",
   "execution_count": 3,
   "id": "25ff82d9-c59b-48d1-a0c7-8022029ad8b7",
   "metadata": {},
   "outputs": [
    {
     "name": "stdout",
     "output_type": "stream",
     "text": [
      "Num train samples: 5000000\n"
     ]
    }
   ],
   "source": [
    "train_dataset = H5Dataset(train_preprocess_filepaths[:1], transform=None)\n",
    "train_dataloader = DataLoader(train_dataset, batch_size=1024, shuffle=False)\n",
    "print(\"Num train samples:\", len(train_dataset))"
   ]
  },
  {
   "cell_type": "code",
   "execution_count": 4,
   "id": "52ae5aa3-34a1-4fc0-8799-eabcbc1b23c9",
   "metadata": {},
   "outputs": [
    {
     "name": "stdout",
     "output_type": "stream",
     "text": [
      "Num test samples 5000000\n"
     ]
    }
   ],
   "source": [
    "test_dataset = H5Dataset(train_preprocess_filepaths[5:6], transform=None)\n",
    "test_dataloader = DataLoader(test_dataset, batch_size=1024, shuffle=False)\n",
    "print(\"Num test samples\", len(test_dataset))"
   ]
  },
  {
   "cell_type": "code",
   "execution_count": null,
   "id": "ea962c7e",
   "metadata": {},
   "outputs": [],
   "source": []
  },
  {
   "cell_type": "code",
   "execution_count": 5,
   "id": "332b2ed0-e2be-4536-b8bc-af847edb3ef6",
   "metadata": {},
   "outputs": [],
   "source": [
    "# import tensorflow as tf\n",
    "# from tensorflow import keras\n",
    "# from tensorflow.keras.models import Sequential\n",
    "# from tensorflow.keras.layers import Dense\n",
    "# from tensorflow.keras.layers import Flatten"
   ]
  },
  {
   "cell_type": "code",
   "execution_count": 6,
   "id": "c0f938a0-a48a-4885-8d4a-36bf69afd596",
   "metadata": {},
   "outputs": [],
   "source": [
    "# model = Sequential()\n",
    "# model.add(Dense(64, input_shape=(200*7,), activation='relu'))\n",
    "# model.add(Flatten())\n",
    "# model.add(Dense(8, activation='relu'))\n",
    "# model.add(Dense(1, activation='sigmoid'))\n",
    "# model.compile(loss='binary_crossentropy', optimizer='adam', metrics=['accuracy', \"AUC\"])"
   ]
  },
  {
   "cell_type": "code",
   "execution_count": 7,
   "id": "ea88f616-bd3e-4378-91ac-acf6aed41413",
   "metadata": {},
   "outputs": [],
   "source": [
    "# history = model.fit(train_dataloader, batch_size=256, validation_data=test_dataloader, epochs=1)"
   ]
  },
  {
   "cell_type": "code",
   "execution_count": 8,
   "id": "7c7269e5-da92-456d-a93a-7818906d28c4",
   "metadata": {},
   "outputs": [
    {
     "name": "stderr",
     "output_type": "stream",
     "text": [
      "2023-10-19 19:33:54.779136: W external/xla/xla/service/gpu/nvptx_compiler.cc:596] The NVIDIA driver's CUDA version is 12.0 which is older than the ptxas CUDA version (12.3.52). Because the driver is older than the ptxas version, XLA is disabling parallel compilation, which may slow down compilation. You should update your NVIDIA driver or use the NVIDIA-provided CUDA forward compatibility packages.\n"
     ]
    }
   ],
   "source": [
    "model = keras.Sequential([\n",
    "  keras.Input(shape=(200 * 7,)),\n",
    "  layers.Flatten(),\n",
    "  layers.Dense(64, activation='relu'),\n",
    "  layers.Dense(8, activation='relu'),\n",
    "  layers.Dense(1, activation='sigmoid'),\n",
    "])\n",
    "model.compile(loss=\"binary_crossentropy\", optimizer=\"adam\", metrics=[\"accuracy\", \"AUC\"])"
   ]
  },
  {
   "cell_type": "code",
   "execution_count": 9,
   "id": "bf47922e-416c-438a-8e99-0e6db5d899bc",
   "metadata": {},
   "outputs": [],
   "source": [
    "history = model.fit(train_dataloader, batch_size=1024, validation_data=test_dataloader, epochs=1)\n",
    "model.evaluate(test_dataloader)"
   ]
  },
  {
   "cell_type": "code",
   "execution_count": null,
   "id": "c2b90e94-3901-49f3-b51c-285d2ea7c7a3",
   "metadata": {},
   "outputs": [],
   "source": [
    "history"
   ]
  }
 ],
 "metadata": {
  "kernelspec": {
   "display_name": "Python 3 (ipykernel)",
   "language": "python",
   "name": "python3"
  },
  "language_info": {
   "codemirror_mode": {
    "name": "ipython",
    "version": 3
   },
   "file_extension": ".py",
   "mimetype": "text/x-python",
   "name": "python",
   "nbconvert_exporter": "python",
   "pygments_lexer": "ipython3",
   "version": "3.8.18"
  }
 },
 "nbformat": 4,
 "nbformat_minor": 5
}
