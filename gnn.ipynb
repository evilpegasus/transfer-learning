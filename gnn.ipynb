{
 "cells": [
  {
   "cell_type": "markdown",
   "metadata": {},
   "source": [
    "# GNN notebook"
   ]
  },
  {
   "cell_type": "code",
   "execution_count": 1,
   "metadata": {},
   "outputs": [],
   "source": [
    "import jax\n",
    "import jax.numpy as jnp\n",
    "import numpy as np\n",
    "import matplotlib.pyplot as plt\n",
    "import jraph\n",
    "import optax\n",
    "import data_utils\n",
    "import os\n",
    "import pathlib\n",
    "import h5py\n",
    "\n",
    "os.environ[\"CUDA_VISIBLE_DEVICES\"] = \"0\""
   ]
  },
  {
   "cell_type": "code",
   "execution_count": 2,
   "metadata": {},
   "outputs": [],
   "source": [
    "train_dir = \"/global/cfs/projectdirs/m3246/mingfong/transfer-learning/delphes_train_set/\"\n",
    "train_path = pathlib.Path(train_dir)\n",
    "# train_file_names = os.listdir(train_dir)\n",
    "train_filepaths = [p for p in train_path.glob(\"*.h5\")]"
   ]
  },
  {
   "cell_type": "code",
   "execution_count": 3,
   "metadata": {},
   "outputs": [
    {
     "name": "stdout",
     "output_type": "stream",
     "text": [
      "fjet_clus_E (5000000, 200)\n",
      "fjet_clus_eta (5000000, 200)\n",
      "fjet_clus_phi (5000000, 200)\n",
      "fjet_clus_pt (5000000, 200)\n",
      "fjet_eta (5000000,)\n",
      "fjet_m (5000000,)\n",
      "fjet_phi (5000000,)\n",
      "fjet_pt (5000000,)\n",
      "labels (5000000,)\n",
      "training_weights (5000000,)\n"
     ]
    }
   ],
   "source": [
    "# create GraphsTuple\n",
    "MAX_CONSTITUENTS = 200\n",
    "\n",
    "with h5py.File(str(train_filepaths[0]), \"r\") as f:\n",
    "  col_names = list(f.keys())\n",
    "  file_len = len(f[\"labels\"])\n",
    "  for col_name in col_names:\n",
    "    print(col_name, f[col_name].shape)\n",
    "  \n",
    "  node_features, edge_features, senders, receivers, globals, targets = None, None, None, None, None, None\n",
    "  \n",
    "  \n",
    "  "
   ]
  },
  {
   "cell_type": "code",
   "execution_count": null,
   "metadata": {},
   "outputs": [],
   "source": [
    "# classification example\n",
    "# https://github.com/google-deepmind/jraph/blob/51f5990104f7374492f8f3ea1cbc47feb411c69c/jraph/ogb_examples/train.py#L89"
   ]
  }
 ],
 "metadata": {
  "kernelspec": {
   "display_name": "jax",
   "language": "python",
   "name": "python3"
  },
  "language_info": {
   "codemirror_mode": {
    "name": "ipython",
    "version": 3
   },
   "file_extension": ".py",
   "mimetype": "text/x-python",
   "name": "python",
   "nbconvert_exporter": "python",
   "pygments_lexer": "ipython3",
   "version": "3.11.5"
  }
 },
 "nbformat": 4,
 "nbformat_minor": 2
}
