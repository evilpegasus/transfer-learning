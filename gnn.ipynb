{
 "cells": [
  {
   "cell_type": "markdown",
   "metadata": {},
   "source": [
    "# GNN notebook"
   ]
  },
  {
   "cell_type": "code",
   "execution_count": 22,
   "metadata": {},
   "outputs": [],
   "source": [
    "from typing import List\n",
    "import jax\n",
    "import jax.numpy as jnp\n",
    "import numpy as np\n",
    "import matplotlib.pyplot as plt\n",
    "import jraph\n",
    "import optax\n",
    "import data_utils\n",
    "import os\n",
    "import pathlib\n",
    "import h5py\n",
    "from torch.utils.data import Dataset, DataLoader, default_collate\n",
    "\n",
    "\n",
    "os.environ[\"CUDA_VISIBLE_DEVICES\"] = \"0\""
   ]
  },
  {
   "cell_type": "code",
   "execution_count": 23,
   "metadata": {},
   "outputs": [
    {
     "data": {
      "text/plain": [
       "[PosixPath('/pscratch/sd/m/mingfong/transfer-learning/fullsim_train_processed/preprocessed_train.h5')]"
      ]
     },
     "execution_count": 23,
     "metadata": {},
     "output_type": "execute_result"
    }
   ],
   "source": [
    "# train_dir = \"/global/cfs/projectdirs/m3246/mingfong/transfer-learning/delphes_train_set/\"   # original fullsim\n",
    "# train_dir = \"/pscratch/sd/m/mingfong/transfer-learning/delphes_train_processed/\"            # pretrain processed\n",
    "train_dir = \"/pscratch/sd/m/mingfong/transfer-learning/fullsim_train_processed/\"              # fullsim processed\n",
    "train_path = pathlib.Path(train_dir)\n",
    "# train_file_names = os.listdir(train_dir)\n",
    "train_filepaths = [p for p in train_path.glob(\"*.h5\")]\n",
    "train_filepaths"
   ]
  },
  {
   "cell_type": "code",
   "execution_count": 24,
   "metadata": {},
   "outputs": [
    {
     "name": "stdout",
     "output_type": "stream",
     "text": [
      "<KeysViewHDF5 ['data', 'labels']>\n"
     ]
    },
    {
     "ename": "AttributeError",
     "evalue": "'Dataset' object has no attribute 'keys'",
     "output_type": "error",
     "traceback": [
      "\u001b[0;31m---------------------------------------------------------------------------\u001b[0m",
      "\u001b[0;31mAttributeError\u001b[0m                            Traceback (most recent call last)",
      "Cell \u001b[0;32mIn[24], line 8\u001b[0m\n\u001b[1;32m      6\u001b[0m labels \u001b[38;5;241m=\u001b[39m f[\u001b[38;5;124m\"\u001b[39m\u001b[38;5;124mlabels\u001b[39m\u001b[38;5;124m\"\u001b[39m]\n\u001b[1;32m      7\u001b[0m \u001b[38;5;28mprint\u001b[39m(f\u001b[38;5;241m.\u001b[39mkeys())\n\u001b[0;32m----> 8\u001b[0m feature_names \u001b[38;5;241m=\u001b[39m \u001b[38;5;28mlist\u001b[39m(\u001b[43mf\u001b[49m\u001b[43m[\u001b[49m\u001b[38;5;124;43m\"\u001b[39;49m\u001b[38;5;124;43mdata\u001b[39;49m\u001b[38;5;124;43m\"\u001b[39;49m\u001b[43m]\u001b[49m\u001b[38;5;241;43m.\u001b[39;49m\u001b[43mkeys\u001b[49m())\n\u001b[1;32m      9\u001b[0m file_len \u001b[38;5;241m=\u001b[39m \u001b[38;5;28mlen\u001b[39m(f[\u001b[38;5;124m\"\u001b[39m\u001b[38;5;124mlabels\u001b[39m\u001b[38;5;124m\"\u001b[39m])\n\u001b[1;32m     10\u001b[0m \u001b[38;5;28mprint\u001b[39m(\u001b[38;5;124mf\u001b[39m\u001b[38;5;124m\"\u001b[39m\u001b[38;5;124mfile_len = \u001b[39m\u001b[38;5;132;01m{\u001b[39;00mfile_len\u001b[38;5;132;01m}\u001b[39;00m\u001b[38;5;124m\"\u001b[39m)\n",
      "\u001b[0;31mAttributeError\u001b[0m: 'Dataset' object has no attribute 'keys'"
     ]
    }
   ],
   "source": [
    "# create GraphsTuple\n",
    "MAX_CONSTITUENTS = 200      # nodes per graph\n",
    "FEATURE_NAME_TO_INDEX = {   # (n, constituent, feature) <- feature index name mapping for data\n",
    "  \"eta_flip\": 0,\n",
    "  \"phi_rot\": 1,\n",
    "  \"log_pt\": 2,\n",
    "  \"log_energy\": 3,\n",
    "  \"lognorm_pt\": 4,\n",
    "  \"lognorm_energy\": 5,\n",
    "  \"radius\": 6,\n",
    "}\n",
    "\n",
    "with h5py.File(train_filepaths[0], \"r\") as f:\n",
    "  data = f[\"data\"]\n",
    "  labels = f[\"labels\"]\n",
    "  print(f.keys())\n",
    "  feature_names = list(f[\"data\"].keys())\n",
    "  file_len = len(f[\"labels\"])\n",
    "  print(f\"file_len = {file_len}\")\n",
    "  for feature_name in feature_names:\n",
    "    print(feature_name, data[feature_name].shape)\n",
    "  \n",
    "  node_features, edge_features, senders, receivers, globals, targets = None, None, None, None, None, None\n",
    "  # for i in range(file_len):\n",
    "    # node_features = \n",
    "  "
   ]
  },
  {
   "cell_type": "code",
   "execution_count": 5,
   "metadata": {},
   "outputs": [],
   "source": [
    "# classification example\n",
    "# https://github.com/google-deepmind/jraph/blob/51f5990104f7374492f8f3ea1cbc47feb411c69c/jraph/ogb_examples/train.py#L89"
   ]
  },
  {
   "cell_type": "code",
   "execution_count": 3,
   "metadata": {},
   "outputs": [],
   "source": [
    "class H5GraphDataset(Dataset):\n",
    "  \"\"\"\n",
    "  Turns h5 files into GraphsTuple objects\n",
    "  \"\"\"\n",
    "  def __init__(self, filepaths: List[str], max_rows:int = None):\n",
    "    self.filepaths = filepaths"
   ]
  },
  {
   "cell_type": "code",
   "execution_count": null,
   "metadata": {},
   "outputs": [],
   "source": []
  }
 ],
 "metadata": {
  "kernelspec": {
   "display_name": "jax",
   "language": "python",
   "name": "python3"
  },
  "language_info": {
   "codemirror_mode": {
    "name": "ipython",
    "version": 3
   },
   "file_extension": ".py",
   "mimetype": "text/x-python",
   "name": "python",
   "nbconvert_exporter": "python",
   "pygments_lexer": "ipython3",
   "version": "3.11.5"
  }
 },
 "nbformat": 4,
 "nbformat_minor": 2
}
