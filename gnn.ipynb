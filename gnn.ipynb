{
 "cells": [
  {
   "cell_type": "markdown",
   "metadata": {},
   "source": [
    "# GNN notebook"
   ]
  },
  {
   "cell_type": "code",
   "execution_count": 5,
   "metadata": {},
   "outputs": [],
   "source": [
    "from typing import List\n",
    "import jax\n",
    "import jax.numpy as jnp\n",
    "import numpy as np\n",
    "import matplotlib.pyplot as plt\n",
    "import jraph\n",
    "import optax\n",
    "import data_utils\n",
    "import os\n",
    "import pathlib\n",
    "import h5py\n",
    "from torch.utils.data import Dataset, DataLoader, default_collate\n",
    "\n",
    "\n",
    "os.environ[\"CUDA_VISIBLE_DEVICES\"] = \"0\""
   ]
  },
  {
   "cell_type": "code",
   "execution_count": 9,
   "metadata": {},
   "outputs": [
    {
     "data": {
      "text/plain": [
       "[PosixPath('/global/cfs/projectdirs/m3246/mingfong/transfer-learning/delphes_train_set/train_6.h5'),\n",
       " PosixPath('/global/cfs/projectdirs/m3246/mingfong/transfer-learning/delphes_train_set/train_2.h5'),\n",
       " PosixPath('/global/cfs/projectdirs/m3246/mingfong/transfer-learning/delphes_train_set/train_8.h5'),\n",
       " PosixPath('/global/cfs/projectdirs/m3246/mingfong/transfer-learning/delphes_train_set/train_12.h5'),\n",
       " PosixPath('/global/cfs/projectdirs/m3246/mingfong/transfer-learning/delphes_train_set/train_4.h5'),\n",
       " PosixPath('/global/cfs/projectdirs/m3246/mingfong/transfer-learning/delphes_train_set/train_11.h5'),\n",
       " PosixPath('/global/cfs/projectdirs/m3246/mingfong/transfer-learning/delphes_train_set/train_5.h5'),\n",
       " PosixPath('/global/cfs/projectdirs/m3246/mingfong/transfer-learning/delphes_train_set/train_7.h5'),\n",
       " PosixPath('/global/cfs/projectdirs/m3246/mingfong/transfer-learning/delphes_train_set/train_14.h5'),\n",
       " PosixPath('/global/cfs/projectdirs/m3246/mingfong/transfer-learning/delphes_train_set/train_9.h5'),\n",
       " PosixPath('/global/cfs/projectdirs/m3246/mingfong/transfer-learning/delphes_train_set/train_3.h5'),\n",
       " PosixPath('/global/cfs/projectdirs/m3246/mingfong/transfer-learning/delphes_train_set/train_0.h5'),\n",
       " PosixPath('/global/cfs/projectdirs/m3246/mingfong/transfer-learning/delphes_train_set/train_1.h5'),\n",
       " PosixPath('/global/cfs/projectdirs/m3246/mingfong/transfer-learning/delphes_train_set/train_13.h5'),\n",
       " PosixPath('/global/cfs/projectdirs/m3246/mingfong/transfer-learning/delphes_train_set/train_10.h5')]"
      ]
     },
     "execution_count": 9,
     "metadata": {},
     "output_type": "execute_result"
    }
   ],
   "source": [
    "train_dir = \"/global/cfs/projectdirs/m3246/mingfong/transfer-learning/delphes_train_set/\"\n",
    "train_path = pathlib.Path(train_dir)\n",
    "# train_file_names = os.listdir(train_dir)\n",
    "train_filepaths = [p for p in train_path.glob(\"*.h5\")]\n",
    "train_filepaths"
   ]
  },
  {
   "cell_type": "code",
   "execution_count": null,
   "metadata": {},
   "outputs": [],
   "source": [
    "class H5GraphDataset(Dataset):\n",
    "  \"\"\"\n",
    "  Turns h5 files into GraphsTuple objects\n",
    "  \"\"\"\n",
    "  def __init__(self, filepaths: List[str], max_rows:int = None):\n",
    "    self.filepaths = filepaths"
   ]
  },
  {
   "cell_type": "code",
   "execution_count": 7,
   "metadata": {},
   "outputs": [
    {
     "name": "stdout",
     "output_type": "stream",
     "text": [
      "fjet_clus_E (5000000, 200)\n",
      "fjet_clus_eta (5000000, 200)\n",
      "fjet_clus_phi (5000000, 200)\n",
      "fjet_clus_pt (5000000, 200)\n",
      "fjet_eta (5000000,)\n",
      "fjet_m (5000000,)\n",
      "fjet_phi (5000000,)\n",
      "fjet_pt (5000000,)\n",
      "labels (5000000,)\n",
      "training_weights (5000000,)\n"
     ]
    }
   ],
   "source": [
    "# create GraphsTuple\n",
    "MAX_CONSTITUENTS = 200      # nodes per graph\n",
    "\n",
    "with h5py.File(str(train_filepaths[0]), \"r\") as f:\n",
    "  col_names = list(f.keys())\n",
    "  file_len = len(f[\"labels\"])\n",
    "  for col_name in col_names:\n",
    "    print(col_name, f[col_name].shape)\n",
    "  \n",
    "  node_features, edge_features, senders, receivers, globals, targets = None, None, None, None, None, None\n",
    "  "
   ]
  },
  {
   "cell_type": "code",
   "execution_count": 8,
   "metadata": {},
   "outputs": [],
   "source": [
    "# classification example\n",
    "# https://github.com/google-deepmind/jraph/blob/51f5990104f7374492f8f3ea1cbc47feb411c69c/jraph/ogb_examples/train.py#L89"
   ]
  },
  {
   "cell_type": "code",
   "execution_count": null,
   "metadata": {},
   "outputs": [],
   "source": []
  }
 ],
 "metadata": {
  "kernelspec": {
   "display_name": "jax",
   "language": "python",
   "name": "python3"
  },
  "language_info": {
   "codemirror_mode": {
    "name": "ipython",
    "version": 3
   },
   "file_extension": ".py",
   "mimetype": "text/x-python",
   "name": "python",
   "nbconvert_exporter": "python",
   "pygments_lexer": "ipython3",
   "version": "3.11.5"
  }
 },
 "nbformat": 4,
 "nbformat_minor": 2
}
