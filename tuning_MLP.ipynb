{
 "cells": [
  {
   "cell_type": "markdown",
   "id": "5d0e987c-ecd9-4d31-8598-af802e74bf85",
   "metadata": {},
   "source": [
    "# Fine tuning the MLP from fastsim to fullsim\n",
    "# Use the old weights from the first run\n",
    "Run this after pretrain_MLP.ipynb"
   ]
  },
  {
   "cell_type": "code",
   "execution_count": 1,
   "id": "f2ea0cae-701e-4b60-9cbe-0a774472c7e0",
   "metadata": {},
   "outputs": [
    {
     "name": "stdout",
     "output_type": "stream",
     "text": [
      "[PhysicalDevice(name='/physical_device:GPU:0', device_type='GPU')]\n"
     ]
    },
    {
     "name": "stderr",
     "output_type": "stream",
     "text": [
      "2023-05-19 11:51:20.791309: I tensorflow/stream_executor/platform/default/dso_loader.cc:44] Successfully opened dynamic library libcuda.so.1\n",
      "2023-05-19 11:51:20.816200: I tensorflow/core/common_runtime/gpu/gpu_device.cc:1561] Found device 0 with properties: \n",
      "pciBusID: 0000:01:00.0 name: NVIDIA A40 computeCapability: 8.6\n",
      "coreClock: 1.74GHz coreCount: 84 deviceMemorySize: 44.56GiB deviceMemoryBandwidth: 648.29GiB/s\n",
      "2023-05-19 11:51:20.816698: I tensorflow/stream_executor/platform/default/dso_loader.cc:44] Successfully opened dynamic library libcudart.so.10.1\n",
      "2023-05-19 11:51:20.818934: I tensorflow/stream_executor/platform/default/dso_loader.cc:44] Successfully opened dynamic library libcublas.so.10\n",
      "2023-05-19 11:51:20.821223: I tensorflow/stream_executor/platform/default/dso_loader.cc:44] Successfully opened dynamic library libcufft.so.10\n",
      "2023-05-19 11:51:20.821719: I tensorflow/stream_executor/platform/default/dso_loader.cc:44] Successfully opened dynamic library libcurand.so.10\n",
      "2023-05-19 11:51:20.823815: I tensorflow/stream_executor/platform/default/dso_loader.cc:44] Successfully opened dynamic library libcusolver.so.10\n",
      "2023-05-19 11:51:20.825075: I tensorflow/stream_executor/platform/default/dso_loader.cc:44] Successfully opened dynamic library libcusparse.so.10\n",
      "2023-05-19 11:51:20.829191: I tensorflow/stream_executor/platform/default/dso_loader.cc:44] Successfully opened dynamic library libcudnn.so.7\n",
      "2023-05-19 11:51:20.830319: I tensorflow/core/common_runtime/gpu/gpu_device.cc:1703] Adding visible gpu devices: 0\n"
     ]
    }
   ],
   "source": [
    "import sys\n",
    "import os\n",
    "import glob\n",
    "os.environ[\"CUDA_VISIBLE_DEVICES\"] = \"0\"\n",
    "\n",
    "from tqdm import tqdm\n",
    "import h5py\n",
    "import numpy as np\n",
    "import pandas as pd\n",
    "import matplotlib.pyplot as plt\n",
    "from sklearn.preprocessing import StandardScaler\n",
    "\n",
    "import tensorflow as tf\n",
    "from tensorflow import keras\n",
    "from tensorflow.keras.models import Sequential\n",
    "from tensorflow.keras.layers import Dense\n",
    "from tensorflow.keras import initializers\n",
    "\n",
    "import wandb\n",
    "from wandb.keras import WandbCallback\n",
    "\n",
    "np.random.seed(8)\n",
    "tf.random.set_seed(8)\n",
    "\n",
    "physical_devices = tf.config.list_physical_devices('GPU')\n",
    "print(physical_devices)\n",
    "tf.config.experimental.set_memory_growth(physical_devices[0], True)"
   ]
  },
  {
   "cell_type": "code",
   "execution_count": 2,
   "id": "2de50f24-3b5a-4c73-b3c5-f5d1fdbad0af",
   "metadata": {},
   "outputs": [],
   "source": [
    "f_full_train = h5py.File(\"/global/ml4hep/spss/mfong/transfer_learning/train.h5\", 'r')\n",
    "f_full_test = h5py.File(\"/global/ml4hep/spss/mfong/transfer_learning/test.h5\", 'r')"
   ]
  },
  {
   "cell_type": "code",
   "execution_count": 3,
   "id": "d7f70538-2e5f-4a10-9310-74cab2527f90",
   "metadata": {},
   "outputs": [
    {
     "name": "stdout",
     "output_type": "stream",
     "text": [
      "Fullsim Train\n",
      "fjet_clus_eta (42233012, 200)\n",
      "fjet_clus_phi (42233012, 200)\n",
      "fjet_clus_pt (42233012, 200)\n",
      "Fullsim Test\n",
      "fjet_clus_eta (2484117, 200)\n",
      "fjet_clus_phi (2484117, 200)\n",
      "fjet_clus_pt (2484117, 200)\n"
     ]
    }
   ],
   "source": [
    "feature_keys = ['fjet_clus_eta', 'fjet_clus_phi', 'fjet_clus_pt']\n",
    "print(\"Fullsim Train\")\n",
    "for k in feature_keys:\n",
    "    print(k, f_full_train[k].shape)\n",
    "print(\"Fullsim Test\")\n",
    "for k in feature_keys:\n",
    "    print(k, f_full_test[k].shape)"
   ]
  },
  {
   "cell_type": "code",
   "execution_count": 4,
   "id": "641e5dc8-040d-4bb4-9da3-ab96cb1f7545",
   "metadata": {},
   "outputs": [
    {
     "data": {
      "text/plain": [
       "(4000000, 600)"
      ]
     },
     "execution_count": 4,
     "metadata": {},
     "output_type": "execute_result"
    }
   ],
   "source": [
    "# num_samples = len(f_full_train[\"labels\"])\n",
    "num_samples = 4000000\n",
    "x_train = np.concatenate([f_full_train[k][:num_samples] for k in feature_keys], axis=1)\n",
    "x_train.shape"
   ]
  },
  {
   "cell_type": "code",
   "execution_count": 5,
   "id": "0f234aa1-939a-49a1-b52b-01771dc66e56",
   "metadata": {},
   "outputs": [
    {
     "data": {
      "text/plain": [
       "(4000000,)"
      ]
     },
     "execution_count": 5,
     "metadata": {},
     "output_type": "execute_result"
    }
   ],
   "source": [
    "y_train = f_full_train[\"labels\"][:num_samples]\n",
    "y_train.shape"
   ]
  },
  {
   "cell_type": "code",
   "execution_count": 6,
   "id": "2e0f07b1-b03c-4b57-a623-ad0a15cb0482",
   "metadata": {},
   "outputs": [
    {
     "data": {
      "text/plain": [
       "(2484117, 600)"
      ]
     },
     "execution_count": 6,
     "metadata": {},
     "output_type": "execute_result"
    }
   ],
   "source": [
    "x_test = np.concatenate([f_full_test[k][:num_samples] for k in feature_keys], axis=1)\n",
    "x_test.shape"
   ]
  },
  {
   "cell_type": "code",
   "execution_count": 7,
   "id": "41365ffd-e5a6-430e-adb4-2588e02e0ee6",
   "metadata": {},
   "outputs": [
    {
     "data": {
      "text/plain": [
       "(2484117,)"
      ]
     },
     "execution_count": 7,
     "metadata": {},
     "output_type": "execute_result"
    }
   ],
   "source": [
    "y_test = f_full_test[\"labels\"][:num_samples]\n",
    "y_test.shape"
   ]
  },
  {
   "cell_type": "code",
   "execution_count": 8,
   "id": "29516897-e0e0-4455-8a86-0398efd1fe71",
   "metadata": {},
   "outputs": [],
   "source": [
    "scaler = StandardScaler()\n",
    "scaler.fit(x_train)\n",
    "\n",
    "x_train = scaler.transform(x_train, copy=False)\n",
    "x_test = scaler.transform(x_test, copy=False)"
   ]
  },
  {
   "cell_type": "code",
   "execution_count": 9,
   "id": "22217273-b633-48d6-88cd-a0d470f75ab4",
   "metadata": {},
   "outputs": [],
   "source": [
    "os.environ[\"WANDB_NOTEBOOK_NAME\"] = \"tuning_MLP.ipynb\""
   ]
  },
  {
   "cell_type": "code",
   "execution_count": null,
   "id": "7d7dfa54-b376-4481-8d12-742797797c05",
   "metadata": {},
   "outputs": [
    {
     "name": "stdout",
     "output_type": "stream",
     "text": [
      "Starting tuning with 4000000 rows\n"
     ]
    },
    {
     "name": "stderr",
     "output_type": "stream",
     "text": [
      "\u001b[34m\u001b[1mwandb\u001b[0m: Currently logged in as: \u001b[33mmingfong\u001b[0m. Use \u001b[1m`wandb login --relogin`\u001b[0m to force relogin\n"
     ]
    },
    {
     "data": {
      "text/html": [
       "wandb version 0.15.3 is available!  To upgrade, please run:\n",
       " $ pip install wandb --upgrade"
      ],
      "text/plain": [
       "<IPython.core.display.HTML object>"
      ]
     },
     "metadata": {},
     "output_type": "display_data"
    },
    {
     "data": {
      "text/html": [
       "Tracking run with wandb version 0.15.0"
      ],
      "text/plain": [
       "<IPython.core.display.HTML object>"
      ]
     },
     "metadata": {},
     "output_type": "display_data"
    },
    {
     "data": {
      "text/html": [
       "Run data is saved locally in <code>/global/home/users/mfong/git/transfer-learning/wandb/run-20230519_031724-r4azjtzy</code>"
      ],
      "text/plain": [
       "<IPython.core.display.HTML object>"
      ]
     },
     "metadata": {},
     "output_type": "display_data"
    },
    {
     "data": {
      "text/html": [
       "Syncing run <strong><a href='https://wandb.ai/mingfong/fullsim_MLP/runs/r4azjtzy' target=\"_blank\">fullsim_MLP_pretrainOld_4M_rows</a></strong> to <a href='https://wandb.ai/mingfong/fullsim_MLP' target=\"_blank\">Weights & Biases</a> (<a href='https://wandb.me/run' target=\"_blank\">docs</a>)<br/>"
      ],
      "text/plain": [
       "<IPython.core.display.HTML object>"
      ]
     },
     "metadata": {},
     "output_type": "display_data"
    },
    {
     "data": {
      "text/html": [
       " View project at <a href='https://wandb.ai/mingfong/fullsim_MLP' target=\"_blank\">https://wandb.ai/mingfong/fullsim_MLP</a>"
      ],
      "text/plain": [
       "<IPython.core.display.HTML object>"
      ]
     },
     "metadata": {},
     "output_type": "display_data"
    },
    {
     "data": {
      "text/html": [
       " View run at <a href='https://wandb.ai/mingfong/fullsim_MLP/runs/r4azjtzy' target=\"_blank\">https://wandb.ai/mingfong/fullsim_MLP/runs/r4azjtzy</a>"
      ],
      "text/plain": [
       "<IPython.core.display.HTML object>"
      ]
     },
     "metadata": {},
     "output_type": "display_data"
    },
    {
     "name": "stderr",
     "output_type": "stream",
     "text": [
      "2023-05-19 03:17:34.212385: I tensorflow/core/platform/cpu_feature_guard.cc:143] Your CPU supports instructions that this TensorFlow binary was not compiled to use: SSE4.1 SSE4.2 AVX AVX2 FMA\n",
      "2023-05-19 03:17:34.228962: I tensorflow/core/platform/profile_utils/cpu_utils.cc:102] CPU Frequency: 2994330000 Hz\n",
      "2023-05-19 03:17:34.231128: I tensorflow/compiler/xla/service/service.cc:168] XLA service 0x55b6dd1f3720 initialized for platform Host (this does not guarantee that XLA will be used). Devices:\n",
      "2023-05-19 03:17:34.231180: I tensorflow/compiler/xla/service/service.cc:176]   StreamExecutor device (0): Host, Default Version\n",
      "2023-05-19 03:17:34.378029: I tensorflow/compiler/xla/service/service.cc:168] XLA service 0x55b6dc503ab0 initialized for platform CUDA (this does not guarantee that XLA will be used). Devices:\n",
      "2023-05-19 03:17:34.378104: I tensorflow/compiler/xla/service/service.cc:176]   StreamExecutor device (0): NVIDIA A40, Compute Capability 8.6\n",
      "2023-05-19 03:17:34.379376: I tensorflow/core/common_runtime/gpu/gpu_device.cc:1561] Found device 0 with properties: \n",
      "pciBusID: 0000:01:00.0 name: NVIDIA A40 computeCapability: 8.6\n",
      "coreClock: 1.74GHz coreCount: 84 deviceMemorySize: 44.56GiB deviceMemoryBandwidth: 648.29GiB/s\n",
      "2023-05-19 03:17:34.379464: I tensorflow/stream_executor/platform/default/dso_loader.cc:44] Successfully opened dynamic library libcudart.so.10.1\n",
      "2023-05-19 03:17:34.379494: I tensorflow/stream_executor/platform/default/dso_loader.cc:44] Successfully opened dynamic library libcublas.so.10\n",
      "2023-05-19 03:17:34.379521: I tensorflow/stream_executor/platform/default/dso_loader.cc:44] Successfully opened dynamic library libcufft.so.10\n",
      "2023-05-19 03:17:34.379547: I tensorflow/stream_executor/platform/default/dso_loader.cc:44] Successfully opened dynamic library libcurand.so.10\n",
      "2023-05-19 03:17:34.379574: I tensorflow/stream_executor/platform/default/dso_loader.cc:44] Successfully opened dynamic library libcusolver.so.10\n",
      "2023-05-19 03:17:34.379600: I tensorflow/stream_executor/platform/default/dso_loader.cc:44] Successfully opened dynamic library libcusparse.so.10\n",
      "2023-05-19 03:17:34.379627: I tensorflow/stream_executor/platform/default/dso_loader.cc:44] Successfully opened dynamic library libcudnn.so.7\n",
      "2023-05-19 03:17:34.380951: I tensorflow/core/common_runtime/gpu/gpu_device.cc:1703] Adding visible gpu devices: 0\n",
      "2023-05-19 03:17:34.381015: I tensorflow/stream_executor/platform/default/dso_loader.cc:44] Successfully opened dynamic library libcudart.so.10.1\n",
      "2023-05-19 03:17:34.383090: I tensorflow/core/common_runtime/gpu/gpu_device.cc:1102] Device interconnect StreamExecutor with strength 1 edge matrix:\n",
      "2023-05-19 03:17:34.383113: I tensorflow/core/common_runtime/gpu/gpu_device.cc:1108]      0 \n",
      "2023-05-19 03:17:34.383127: I tensorflow/core/common_runtime/gpu/gpu_device.cc:1121] 0:   N \n",
      "2023-05-19 03:17:34.384563: I tensorflow/core/common_runtime/gpu/gpu_device.cc:1247] Created TensorFlow device (/job:localhost/replica:0/task:0/device:GPU:0 with 1052 MB memory) -> physical GPU (device: 0, name: NVIDIA A40, pci bus id: 0000:01:00.0, compute capability: 8.6)\n",
      "\u001b[34m\u001b[1mwandb\u001b[0m: \u001b[33mWARNING\u001b[0m The save_model argument by default saves the model in the HDF5 format that cannot save custom objects like subclassed models and custom layers. This behavior will be deprecated in a future release in favor of the SavedModel format. Meanwhile, the HDF5 model is saved as W&B files and the SavedModel as W&B Artifacts.\n",
      "2023-05-19 03:22:53.019457: W tensorflow/core/framework/cpu_allocator_impl.cc:81] Allocation of 9600000000 exceeds 10% of free system memory.\n"
     ]
    },
    {
     "name": "stdout",
     "output_type": "stream",
     "text": [
      "Epoch 1/400\n"
     ]
    },
    {
     "name": "stderr",
     "output_type": "stream",
     "text": [
      "2023-05-19 03:22:56.914787: I tensorflow/stream_executor/platform/default/dso_loader.cc:44] Successfully opened dynamic library libcublas.so.10\n"
     ]
    },
    {
     "name": "stdout",
     "output_type": "stream",
     "text": [
      "15611/15625 [============================>.] - ETA: 0s - loss: 0.4612 - accuracy: 0.7797"
     ]
    },
    {
     "name": "stderr",
     "output_type": "stream",
     "text": [
      "2023-05-19 03:25:22.059023: W tensorflow/core/framework/cpu_allocator_impl.cc:81] Allocation of 5961880800 exceeds 10% of free system memory.\n"
     ]
    },
    {
     "name": "stdout",
     "output_type": "stream",
     "text": [
      "WARNING:tensorflow:From /global/home/users/mfong/anaconda3/lib/python3.8/site-packages/tensorflow/python/ops/resource_variable_ops.py:1813: calling BaseResourceVariable.__init__ (from tensorflow.python.ops.resource_variable_ops) with constraint is deprecated and will be removed in a future version.\n",
      "Instructions for updating:\n",
      "If using Keras pass *_constraint arguments to layers.\n"
     ]
    },
    {
     "name": "stderr",
     "output_type": "stream",
     "text": [
      "2023-05-19 03:25:41.194120: W tensorflow/python/util/util.cc:329] Sets are not currently considered sequences, but this may change in the future, so consider avoiding using them.\n"
     ]
    },
    {
     "name": "stdout",
     "output_type": "stream",
     "text": [
      "INFO:tensorflow:Assets written to: /global/home/users/mfong/git/transfer-learning/wandb/run-20230519_031724-r4azjtzy/files/model-best/assets\n"
     ]
    },
    {
     "name": "stderr",
     "output_type": "stream",
     "text": [
      "\u001b[34m\u001b[1mwandb\u001b[0m: Adding directory to artifact (/global/home/users/mfong/git/transfer-learning/wandb/run-20230519_031724-r4azjtzy/files/model-best)... Done. 0.0s\n"
     ]
    },
    {
     "name": "stdout",
     "output_type": "stream",
     "text": [
      "15625/15625 [==============================] - 51s 3ms/step - loss: 0.4612 - accuracy: 0.7797 - val_loss: 0.4486 - val_accuracy: 0.7868\n",
      "Epoch 2/400\n",
      "15616/15625 [============================>.] - ETA: 0s - loss: 0.4449 - accuracy: 0.7894"
     ]
    },
    {
     "name": "stderr",
     "output_type": "stream",
     "text": [
      "2023-05-19 03:26:13.677443: W tensorflow/core/framework/cpu_allocator_impl.cc:81] Allocation of 5961880800 exceeds 10% of free system memory.\n"
     ]
    },
    {
     "name": "stdout",
     "output_type": "stream",
     "text": [
      "INFO:tensorflow:Assets written to: /global/home/users/mfong/git/transfer-learning/wandb/run-20230519_031724-r4azjtzy/files/model-best/assets\n"
     ]
    },
    {
     "name": "stderr",
     "output_type": "stream",
     "text": [
      "\u001b[34m\u001b[1mwandb\u001b[0m: Adding directory to artifact (/global/home/users/mfong/git/transfer-learning/wandb/run-20230519_031724-r4azjtzy/files/model-best)... Done. 0.0s\n"
     ]
    },
    {
     "name": "stdout",
     "output_type": "stream",
     "text": [
      "15625/15625 [==============================] - 51s 3ms/step - loss: 0.4448 - accuracy: 0.7895 - val_loss: 0.4472 - val_accuracy: 0.7883\n",
      "Epoch 3/400\n",
      "15618/15625 [============================>.] - ETA: 0s - loss: 0.4404 - accuracy: 0.7918"
     ]
    },
    {
     "name": "stderr",
     "output_type": "stream",
     "text": [
      "2023-05-19 03:27:04.488320: W tensorflow/core/framework/cpu_allocator_impl.cc:81] Allocation of 5961880800 exceeds 10% of free system memory.\n"
     ]
    },
    {
     "name": "stdout",
     "output_type": "stream",
     "text": [
      "INFO:tensorflow:Assets written to: /global/home/users/mfong/git/transfer-learning/wandb/run-20230519_031724-r4azjtzy/files/model-best/assets\n"
     ]
    },
    {
     "name": "stderr",
     "output_type": "stream",
     "text": [
      "\u001b[34m\u001b[1mwandb\u001b[0m: Adding directory to artifact (/global/home/users/mfong/git/transfer-learning/wandb/run-20230519_031724-r4azjtzy/files/model-best)... Done. 0.0s\n"
     ]
    },
    {
     "name": "stdout",
     "output_type": "stream",
     "text": [
      "15625/15625 [==============================] - 49s 3ms/step - loss: 0.4404 - accuracy: 0.7918 - val_loss: 0.4391 - val_accuracy: 0.7925\n",
      "Epoch 4/400\n",
      "15621/15625 [============================>.] - ETA: 0s - loss: 0.4378 - accuracy: 0.7934"
     ]
    },
    {
     "name": "stderr",
     "output_type": "stream",
     "text": [
      "2023-05-19 03:27:54.626988: W tensorflow/core/framework/cpu_allocator_impl.cc:81] Allocation of 5961880800 exceeds 10% of free system memory.\n"
     ]
    },
    {
     "name": "stdout",
     "output_type": "stream",
     "text": [
      "INFO:tensorflow:Assets written to: /global/home/users/mfong/git/transfer-learning/wandb/run-20230519_031724-r4azjtzy/files/model-best/assets\n"
     ]
    },
    {
     "name": "stderr",
     "output_type": "stream",
     "text": [
      "\u001b[34m\u001b[1mwandb\u001b[0m: Adding directory to artifact (/global/home/users/mfong/git/transfer-learning/wandb/run-20230519_031724-r4azjtzy/files/model-best)... Done. 0.0s\n"
     ]
    },
    {
     "name": "stdout",
     "output_type": "stream",
     "text": [
      "15625/15625 [==============================] - 52s 3ms/step - loss: 0.4378 - accuracy: 0.7934 - val_loss: 0.4387 - val_accuracy: 0.7929\n",
      "Epoch 5/400\n",
      "15618/15625 [============================>.] - ETA: 0s - loss: 0.4358 - accuracy: 0.7947INFO:tensorflow:Assets written to: /global/home/users/mfong/git/transfer-learning/wandb/run-20230519_031724-r4azjtzy/files/model-best/assets\n"
     ]
    },
    {
     "name": "stderr",
     "output_type": "stream",
     "text": [
      "\u001b[34m\u001b[1mwandb\u001b[0m: Adding directory to artifact (/global/home/users/mfong/git/transfer-learning/wandb/run-20230519_031724-r4azjtzy/files/model-best)... Done. 0.0s\n"
     ]
    },
    {
     "name": "stdout",
     "output_type": "stream",
     "text": [
      "15625/15625 [==============================] - 51s 3ms/step - loss: 0.4358 - accuracy: 0.7947 - val_loss: 0.4361 - val_accuracy: 0.7942\n",
      "Epoch 6/400\n",
      "15603/15625 [============================>.] - ETA: 0s - loss: 0.4340 - accuracy: 0.7958INFO:tensorflow:Assets written to: /global/home/users/mfong/git/transfer-learning/wandb/run-20230519_031724-r4azjtzy/files/model-best/assets\n"
     ]
    },
    {
     "name": "stderr",
     "output_type": "stream",
     "text": [
      "\u001b[34m\u001b[1mwandb\u001b[0m: Adding directory to artifact (/global/home/users/mfong/git/transfer-learning/wandb/run-20230519_031724-r4azjtzy/files/model-best)... Done. 0.0s\n"
     ]
    },
    {
     "name": "stdout",
     "output_type": "stream",
     "text": [
      "15625/15625 [==============================] - 52s 3ms/step - loss: 0.4340 - accuracy: 0.7958 - val_loss: 0.4347 - val_accuracy: 0.7951\n",
      "Epoch 7/400\n",
      "15625/15625 [==============================] - 50s 3ms/step - loss: 0.4324 - accuracy: 0.7968 - val_loss: 0.4366 - val_accuracy: 0.7946\n",
      "Epoch 8/400\n",
      "15624/15625 [============================>.] - ETA: 0s - loss: 0.4309 - accuracy: 0.7976INFO:tensorflow:Assets written to: /global/home/users/mfong/git/transfer-learning/wandb/run-20230519_031724-r4azjtzy/files/model-best/assets\n"
     ]
    },
    {
     "name": "stderr",
     "output_type": "stream",
     "text": [
      "\u001b[34m\u001b[1mwandb\u001b[0m: Adding directory to artifact (/global/home/users/mfong/git/transfer-learning/wandb/run-20230519_031724-r4azjtzy/files/model-best)... Done. 0.0s\n"
     ]
    },
    {
     "name": "stdout",
     "output_type": "stream",
     "text": [
      "15625/15625 [==============================] - 52s 3ms/step - loss: 0.4309 - accuracy: 0.7976 - val_loss: 0.4310 - val_accuracy: 0.7975\n",
      "Epoch 9/400\n",
      "15625/15625 [==============================] - 50s 3ms/step - loss: 0.4294 - accuracy: 0.7985 - val_loss: 0.4328 - val_accuracy: 0.7968\n",
      "Epoch 10/400\n",
      "15604/15625 [============================>.] - ETA: 0s - loss: 0.4281 - accuracy: 0.7993INFO:tensorflow:Assets written to: /global/home/users/mfong/git/transfer-learning/wandb/run-20230519_031724-r4azjtzy/files/model-best/assets\n"
     ]
    },
    {
     "name": "stderr",
     "output_type": "stream",
     "text": [
      "\u001b[34m\u001b[1mwandb\u001b[0m: Adding directory to artifact (/global/home/users/mfong/git/transfer-learning/wandb/run-20230519_031724-r4azjtzy/files/model-best)... Done. 0.0s\n"
     ]
    },
    {
     "name": "stdout",
     "output_type": "stream",
     "text": [
      "15625/15625 [==============================] - 51s 3ms/step - loss: 0.4281 - accuracy: 0.7993 - val_loss: 0.4289 - val_accuracy: 0.7984\n",
      "Epoch 11/400\n",
      "15612/15625 [============================>.] - ETA: 0s - loss: 0.4268 - accuracy: 0.8002INFO:tensorflow:Assets written to: /global/home/users/mfong/git/transfer-learning/wandb/run-20230519_031724-r4azjtzy/files/model-best/assets\n"
     ]
    },
    {
     "name": "stderr",
     "output_type": "stream",
     "text": [
      "\u001b[34m\u001b[1mwandb\u001b[0m: Adding directory to artifact (/global/home/users/mfong/git/transfer-learning/wandb/run-20230519_031724-r4azjtzy/files/model-best)... Done. 0.0s\n"
     ]
    },
    {
     "name": "stdout",
     "output_type": "stream",
     "text": [
      "15625/15625 [==============================] - 50s 3ms/step - loss: 0.4268 - accuracy: 0.8002 - val_loss: 0.4285 - val_accuracy: 0.7991\n",
      "Epoch 12/400\n",
      "15605/15625 [============================>.] - ETA: 0s - loss: 0.4255 - accuracy: 0.8009INFO:tensorflow:Assets written to: /global/home/users/mfong/git/transfer-learning/wandb/run-20230519_031724-r4azjtzy/files/model-best/assets\n"
     ]
    },
    {
     "name": "stderr",
     "output_type": "stream",
     "text": [
      "\u001b[34m\u001b[1mwandb\u001b[0m: Adding directory to artifact (/global/home/users/mfong/git/transfer-learning/wandb/run-20230519_031724-r4azjtzy/files/model-best)... Done. 0.0s\n"
     ]
    },
    {
     "name": "stdout",
     "output_type": "stream",
     "text": [
      "15625/15625 [==============================] - 52s 3ms/step - loss: 0.4255 - accuracy: 0.8009 - val_loss: 0.4270 - val_accuracy: 0.8004\n",
      "Epoch 13/400\n",
      "15601/15625 [============================>.] - ETA: 0s - loss: 0.4242 - accuracy: 0.8017INFO:tensorflow:Assets written to: /global/home/users/mfong/git/transfer-learning/wandb/run-20230519_031724-r4azjtzy/files/model-best/assets\n"
     ]
    },
    {
     "name": "stderr",
     "output_type": "stream",
     "text": [
      "\u001b[34m\u001b[1mwandb\u001b[0m: Adding directory to artifact (/global/home/users/mfong/git/transfer-learning/wandb/run-20230519_031724-r4azjtzy/files/model-best)... Done. 0.0s\n"
     ]
    },
    {
     "name": "stdout",
     "output_type": "stream",
     "text": [
      "15625/15625 [==============================] - 52s 3ms/step - loss: 0.4242 - accuracy: 0.8017 - val_loss: 0.4265 - val_accuracy: 0.8009\n",
      "Epoch 14/400\n",
      "15624/15625 [============================>.] - ETA: 0s - loss: 0.4229 - accuracy: 0.8024INFO:tensorflow:Assets written to: /global/home/users/mfong/git/transfer-learning/wandb/run-20230519_031724-r4azjtzy/files/model-best/assets\n"
     ]
    },
    {
     "name": "stderr",
     "output_type": "stream",
     "text": [
      "\u001b[34m\u001b[1mwandb\u001b[0m: Adding directory to artifact (/global/home/users/mfong/git/transfer-learning/wandb/run-20230519_031724-r4azjtzy/files/model-best)... Done. 0.0s\n"
     ]
    },
    {
     "name": "stdout",
     "output_type": "stream",
     "text": [
      "15625/15625 [==============================] - 52s 3ms/step - loss: 0.4229 - accuracy: 0.8024 - val_loss: 0.4235 - val_accuracy: 0.8023\n",
      "Epoch 15/400\n",
      "15615/15625 [============================>.] - ETA: 0s - loss: 0.4216 - accuracy: 0.8032INFO:tensorflow:Assets written to: /global/home/users/mfong/git/transfer-learning/wandb/run-20230519_031724-r4azjtzy/files/model-best/assets\n"
     ]
    },
    {
     "name": "stderr",
     "output_type": "stream",
     "text": [
      "\u001b[34m\u001b[1mwandb\u001b[0m: Adding directory to artifact (/global/home/users/mfong/git/transfer-learning/wandb/run-20230519_031724-r4azjtzy/files/model-best)... Done. 0.0s\n"
     ]
    },
    {
     "name": "stdout",
     "output_type": "stream",
     "text": [
      "15625/15625 [==============================] - 51s 3ms/step - loss: 0.4216 - accuracy: 0.8032 - val_loss: 0.4230 - val_accuracy: 0.8026\n",
      "Epoch 16/400\n",
      "15613/15625 [============================>.] - ETA: 0s - loss: 0.4203 - accuracy: 0.8040INFO:tensorflow:Assets written to: /global/home/users/mfong/git/transfer-learning/wandb/run-20230519_031724-r4azjtzy/files/model-best/assets\n"
     ]
    },
    {
     "name": "stderr",
     "output_type": "stream",
     "text": [
      "\u001b[34m\u001b[1mwandb\u001b[0m: Adding directory to artifact (/global/home/users/mfong/git/transfer-learning/wandb/run-20230519_031724-r4azjtzy/files/model-best)... Done. 0.0s\n"
     ]
    },
    {
     "name": "stdout",
     "output_type": "stream",
     "text": [
      "15625/15625 [==============================] - 51s 3ms/step - loss: 0.4203 - accuracy: 0.8040 - val_loss: 0.4221 - val_accuracy: 0.8026\n",
      "Epoch 17/400\n",
      "15615/15625 [============================>.] - ETA: 0s - loss: 0.4192 - accuracy: 0.8047INFO:tensorflow:Assets written to: /global/home/users/mfong/git/transfer-learning/wandb/run-20230519_031724-r4azjtzy/files/model-best/assets\n"
     ]
    },
    {
     "name": "stderr",
     "output_type": "stream",
     "text": [
      "\u001b[34m\u001b[1mwandb\u001b[0m: Adding directory to artifact (/global/home/users/mfong/git/transfer-learning/wandb/run-20230519_031724-r4azjtzy/files/model-best)... Done. 0.0s\n"
     ]
    },
    {
     "name": "stdout",
     "output_type": "stream",
     "text": [
      "15625/15625 [==============================] - 51s 3ms/step - loss: 0.4192 - accuracy: 0.8047 - val_loss: 0.4218 - val_accuracy: 0.8032\n",
      "Epoch 18/400\n",
      "15625/15625 [==============================] - 51s 3ms/step - loss: 0.4183 - accuracy: 0.8052 - val_loss: 0.4231 - val_accuracy: 0.8020\n",
      "Epoch 19/400\n",
      "15625/15625 [==============================] - 51s 3ms/step - loss: 0.4174 - accuracy: 0.8057 - val_loss: 0.4252 - val_accuracy: 0.8012\n",
      "Epoch 20/400\n",
      "15616/15625 [============================>.] - ETA: 0s - loss: 0.4166 - accuracy: 0.8061INFO:tensorflow:Assets written to: /global/home/users/mfong/git/transfer-learning/wandb/run-20230519_031724-r4azjtzy/files/model-best/assets\n"
     ]
    },
    {
     "name": "stderr",
     "output_type": "stream",
     "text": [
      "\u001b[34m\u001b[1mwandb\u001b[0m: Adding directory to artifact (/global/home/users/mfong/git/transfer-learning/wandb/run-20230519_031724-r4azjtzy/files/model-best)... Done. 0.0s\n"
     ]
    },
    {
     "name": "stdout",
     "output_type": "stream",
     "text": [
      "15625/15625 [==============================] - 52s 3ms/step - loss: 0.4166 - accuracy: 0.8061 - val_loss: 0.4194 - val_accuracy: 0.8049\n",
      "Epoch 21/400\n",
      "15602/15625 [============================>.] - ETA: 0s - loss: 0.4159 - accuracy: 0.8066INFO:tensorflow:Assets written to: /global/home/users/mfong/git/transfer-learning/wandb/run-20230519_031724-r4azjtzy/files/model-best/assets\n"
     ]
    },
    {
     "name": "stderr",
     "output_type": "stream",
     "text": [
      "\u001b[34m\u001b[1mwandb\u001b[0m: Adding directory to artifact (/global/home/users/mfong/git/transfer-learning/wandb/run-20230519_031724-r4azjtzy/files/model-best)... Done. 0.0s\n"
     ]
    },
    {
     "name": "stdout",
     "output_type": "stream",
     "text": [
      "15625/15625 [==============================] - 52s 3ms/step - loss: 0.4159 - accuracy: 0.8066 - val_loss: 0.4194 - val_accuracy: 0.8043\n",
      "Epoch 22/400\n",
      "15603/15625 [============================>.] - ETA: 0s - loss: 0.4153 - accuracy: 0.8070INFO:tensorflow:Assets written to: /global/home/users/mfong/git/transfer-learning/wandb/run-20230519_031724-r4azjtzy/files/model-best/assets\n"
     ]
    },
    {
     "name": "stderr",
     "output_type": "stream",
     "text": [
      "\u001b[34m\u001b[1mwandb\u001b[0m: Adding directory to artifact (/global/home/users/mfong/git/transfer-learning/wandb/run-20230519_031724-r4azjtzy/files/model-best)... Done. 0.0s\n"
     ]
    },
    {
     "name": "stdout",
     "output_type": "stream",
     "text": [
      "15625/15625 [==============================] - 52s 3ms/step - loss: 0.4153 - accuracy: 0.8069 - val_loss: 0.4186 - val_accuracy: 0.8048\n",
      "Epoch 23/400\n",
      "15616/15625 [============================>.] - ETA: 0s - loss: 0.4146 - accuracy: 0.8074INFO:tensorflow:Assets written to: /global/home/users/mfong/git/transfer-learning/wandb/run-20230519_031724-r4azjtzy/files/model-best/assets\n"
     ]
    },
    {
     "name": "stderr",
     "output_type": "stream",
     "text": [
      "\u001b[34m\u001b[1mwandb\u001b[0m: Adding directory to artifact (/global/home/users/mfong/git/transfer-learning/wandb/run-20230519_031724-r4azjtzy/files/model-best)... Done. 0.0s\n"
     ]
    },
    {
     "name": "stdout",
     "output_type": "stream",
     "text": [
      "15625/15625 [==============================] - 51s 3ms/step - loss: 0.4146 - accuracy: 0.8074 - val_loss: 0.4182 - val_accuracy: 0.8056\n",
      "Epoch 24/400\n",
      "15602/15625 [============================>.] - ETA: 0s - loss: 0.4140 - accuracy: 0.8077INFO:tensorflow:Assets written to: /global/home/users/mfong/git/transfer-learning/wandb/run-20230519_031724-r4azjtzy/files/model-best/assets\n"
     ]
    },
    {
     "name": "stderr",
     "output_type": "stream",
     "text": [
      "\u001b[34m\u001b[1mwandb\u001b[0m: Adding directory to artifact (/global/home/users/mfong/git/transfer-learning/wandb/run-20230519_031724-r4azjtzy/files/model-best)... Done. 0.0s\n"
     ]
    },
    {
     "name": "stdout",
     "output_type": "stream",
     "text": [
      "15625/15625 [==============================] - 52s 3ms/step - loss: 0.4140 - accuracy: 0.8077 - val_loss: 0.4163 - val_accuracy: 0.8063\n",
      "Epoch 25/400\n",
      "15625/15625 [==============================] - 51s 3ms/step - loss: 0.4134 - accuracy: 0.8080 - val_loss: 0.4178 - val_accuracy: 0.8062\n",
      "Epoch 26/400\n",
      "15625/15625 [==============================] - 51s 3ms/step - loss: 0.4127 - accuracy: 0.8085 - val_loss: 0.4169 - val_accuracy: 0.8069\n",
      "Epoch 27/400\n",
      "15621/15625 [============================>.] - ETA: 0s - loss: 0.4121 - accuracy: 0.8088INFO:tensorflow:Assets written to: /global/home/users/mfong/git/transfer-learning/wandb/run-20230519_031724-r4azjtzy/files/model-best/assets\n"
     ]
    },
    {
     "name": "stderr",
     "output_type": "stream",
     "text": [
      "\u001b[34m\u001b[1mwandb\u001b[0m: Adding directory to artifact (/global/home/users/mfong/git/transfer-learning/wandb/run-20230519_031724-r4azjtzy/files/model-best)... Done. 0.0s\n"
     ]
    },
    {
     "name": "stdout",
     "output_type": "stream",
     "text": [
      "15625/15625 [==============================] - 52s 3ms/step - loss: 0.4121 - accuracy: 0.8088 - val_loss: 0.4163 - val_accuracy: 0.8075\n",
      "Epoch 28/400\n",
      "15625/15625 [==============================] - 51s 3ms/step - loss: 0.4117 - accuracy: 0.8092 - val_loss: 0.4166 - val_accuracy: 0.8062\n",
      "Epoch 29/400\n",
      "15620/15625 [============================>.] - ETA: 0s - loss: 0.4112 - accuracy: 0.8094INFO:tensorflow:Assets written to: /global/home/users/mfong/git/transfer-learning/wandb/run-20230519_031724-r4azjtzy/files/model-best/assets\n"
     ]
    },
    {
     "name": "stderr",
     "output_type": "stream",
     "text": [
      "\u001b[34m\u001b[1mwandb\u001b[0m: Adding directory to artifact (/global/home/users/mfong/git/transfer-learning/wandb/run-20230519_031724-r4azjtzy/files/model-best)... Done. 0.0s\n"
     ]
    },
    {
     "name": "stdout",
     "output_type": "stream",
     "text": [
      "15625/15625 [==============================] - 51s 3ms/step - loss: 0.4112 - accuracy: 0.8094 - val_loss: 0.4137 - val_accuracy: 0.8082\n",
      "Epoch 30/400\n",
      "15625/15625 [==============================] - 50s 3ms/step - loss: 0.4105 - accuracy: 0.8098 - val_loss: 0.4168 - val_accuracy: 0.8064\n",
      "Epoch 31/400\n",
      "15602/15625 [============================>.] - ETA: 0s - loss: 0.4098 - accuracy: 0.8102INFO:tensorflow:Assets written to: /global/home/users/mfong/git/transfer-learning/wandb/run-20230519_031724-r4azjtzy/files/model-best/assets\n"
     ]
    },
    {
     "name": "stderr",
     "output_type": "stream",
     "text": [
      "\u001b[34m\u001b[1mwandb\u001b[0m: Adding directory to artifact (/global/home/users/mfong/git/transfer-learning/wandb/run-20230519_031724-r4azjtzy/files/model-best)... Done. 0.0s\n"
     ]
    },
    {
     "name": "stdout",
     "output_type": "stream",
     "text": [
      "15625/15625 [==============================] - 52s 3ms/step - loss: 0.4098 - accuracy: 0.8102 - val_loss: 0.4135 - val_accuracy: 0.8082\n",
      "Epoch 32/400\n",
      "12677/15625 [=======================>......] - ETA: 6s - loss: 0.4089 - accuracy: 0.8106"
     ]
    }
   ],
   "source": [
    "# NUM_PRETRAIN_ROWS_LIST = [0, 1000000, 2000000, 4000000, 8000000, 16000000, 32000000]\n",
    "NUM_PRETRAIN_ROWS_LIST = [4000000]\n",
    "# wandb_run_id_list = [\"5ndumuik\", \"ovkhun2m\", \"cbwykdzs\", \"mfcusa0l\", \"kjyvjndx\", \"suz9cn8k\"]    # wandb id of pretraining runs\n",
    "config = {\n",
    "    \"batch_size\": 256,\n",
    "    \"epochs\": 400,\n",
    "}\n",
    "for num_pretrain_rows in NUM_PRETRAIN_ROWS_LIST:\n",
    "    print(f\"Starting tuning with {num_pretrain_rows} rows\")\n",
    "    config[\"num_pretrain_rows\"] = num_pretrain_rows\n",
    "    run = wandb.init(project=\"fullsim_MLP\", name=f\"fullsim_MLP_pretrainOld_{int(num_pretrain_rows / 1000000)}M_rows\", config=config, reinit=True)\n",
    "    \n",
    "    model = Sequential()\n",
    "    model.add(Dense(64, input_shape=(600,), activation='relu'))\n",
    "    model.add(Dense(8, activation='relu'))\n",
    "    model.add(Dense(1, activation='sigmoid'))\n",
    "    # if num_pretrain_rows != 0:\n",
    "    #     model.load_weights(f\"models/fastsim_MLP_{int(num_pretrain_rows/1000000)}M_rows.h5\")\n",
    "    \n",
    "    # load weights from old model\n",
    "    model.load_weights(f\"models/old_first_experiment/fast_sim_MLP.h5\")\n",
    "    \n",
    "    model.compile(loss='binary_crossentropy', optimizer='adam', metrics=['accuracy'])\n",
    "    history = model.fit(\n",
    "        x_train,\n",
    "        y_train,\n",
    "        epochs=config[\"epochs\"],\n",
    "        batch_size=config[\"batch_size\"],\n",
    "        shuffle=True,\n",
    "        validation_data=(x_test, y_test),\n",
    "        callbacks=[wandb.keras.WandbCallback()]\n",
    "    )\n",
    "    \n",
    "    plt.figure()\n",
    "    plt.plot(history.history[\"accuracy\"], label=\"acc\")\n",
    "    plt.plot(history.history[\"val_accuracy\"], label=\"val_acc\")\n",
    "    plt.title(f\"Fullsim MLP (Pretained (old) for {int(num_pretrain_rows / 1000000)}M Rows)\")\n",
    "    plt.ylabel(\"Accuracy\")\n",
    "    plt.xlabel(\"Epoch\")\n",
    "    plt.legend()\n",
    "    plt.savefig(f\"output/fullsim_MLP_pretrainOld_{int(num_pretrain_rows / 1000000)}M_rows_acc.png\")\n",
    "    \n",
    "    plt.figure()\n",
    "    plt.plot(history.history[\"loss\"], label=\"loss\")\n",
    "    plt.plot(history.history[\"val_loss\"], label=\"val_loss\")\n",
    "    plt.title(f\"Fullsim MLP (Pretrained (old) for {int(num_pretrain_rows / 1000000)}M Rows)\")\n",
    "    plt.ylabel(\"Loss\")\n",
    "    plt.xlabel(\"Epoch\")\n",
    "    plt.legend()\n",
    "    plt.savefig(f\"output/fullsim_MLP_pretrainOld_{int(num_pretrain_rows / 1000000)}M_rows_loss.png\")\n",
    "    \n",
    "    \n",
    "    model.save_weights(f\"models/fullsim_MLP_pretrainOld_{int(num_pretrain_rows / 1000000)}M_rows.h5\")\n",
    "    wandb.finish()"
   ]
  },
  {
   "cell_type": "code",
   "execution_count": null,
   "id": "78434592-0273-4642-9cf2-c67acc13cf9c",
   "metadata": {},
   "outputs": [],
   "source": []
  },
  {
   "cell_type": "code",
   "execution_count": null,
   "id": "8f8b59db-dd05-43eb-85f9-7e53013ba077",
   "metadata": {},
   "outputs": [],
   "source": []
  },
  {
   "cell_type": "code",
   "execution_count": null,
   "id": "b1bede14-309c-491e-93bc-29add657abe5",
   "metadata": {},
   "outputs": [],
   "source": []
  },
  {
   "cell_type": "code",
   "execution_count": null,
   "id": "c39d3063-cb11-4118-a8ad-03f7362e7cdb",
   "metadata": {},
   "outputs": [],
   "source": []
  },
  {
   "cell_type": "code",
   "execution_count": null,
   "id": "bf807d62-c6aa-4836-b080-ef803432bad5",
   "metadata": {},
   "outputs": [],
   "source": []
  }
 ],
 "metadata": {
  "kernelspec": {
   "display_name": "Python 3",
   "language": "python",
   "name": "python3"
  },
  "language_info": {
   "codemirror_mode": {
    "name": "ipython",
    "version": 3
   },
   "file_extension": ".py",
   "mimetype": "text/x-python",
   "name": "python",
   "nbconvert_exporter": "python",
   "pygments_lexer": "ipython3",
   "version": "3.8.13"
  }
 },
 "nbformat": 4,
 "nbformat_minor": 5
}
