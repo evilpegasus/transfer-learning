{
 "cells": [
  {
   "cell_type": "markdown",
   "id": "5d0e987c-ecd9-4d31-8598-af802e74bf85",
   "metadata": {},
   "source": [
    "# Fine tuning the MLP from fastsim to fullsim\n",
    "Run this after pretrain_MLP.ipynb"
   ]
  },
  {
   "cell_type": "code",
   "execution_count": 22,
   "id": "f2ea0cae-701e-4b60-9cbe-0a774472c7e0",
   "metadata": {},
   "outputs": [
    {
     "name": "stdout",
     "output_type": "stream",
     "text": [
      "[PhysicalDevice(name='/physical_device:GPU:0', device_type='GPU')]\n"
     ]
    }
   ],
   "source": [
    "import sys\n",
    "import os\n",
    "import glob\n",
    "os.environ[\"CUDA_VISIBLE_DEVICES\"] = \"1\"\n",
    "\n",
    "from tqdm import tqdm\n",
    "import h5py\n",
    "import numpy as np\n",
    "import pandas as pd\n",
    "import matplotlib.pyplot as plt\n",
    "from sklearn.preprocessing import StandardScaler\n",
    "\n",
    "import tensorflow as tf\n",
    "from tensorflow import keras\n",
    "from tensorflow.keras.models import Sequential\n",
    "from tensorflow.keras.layers import Dense\n",
    "from tensorflow.keras import initializers\n",
    "\n",
    "import wandb\n",
    "from wandb.keras import WandbCallback\n",
    "\n",
    "np.random.seed(8)\n",
    "tf.random.set_seed(8)\n",
    "\n",
    "physical_devices = tf.config.list_physical_devices('GPU')\n",
    "print(physical_devices)\n",
    "tf.config.experimental.set_memory_growth(physical_devices[0], True)"
   ]
  },
  {
   "cell_type": "code",
   "execution_count": 2,
   "id": "2de50f24-3b5a-4c73-b3c5-f5d1fdbad0af",
   "metadata": {},
   "outputs": [],
   "source": [
    "f_full_train = h5py.File(\"/global/ml4hep/spss/mfong/transfer_learning/train.h5\", 'r')\n",
    "f_full_test = h5py.File(\"/global/ml4hep/spss/mfong/transfer_learning/test.h5\", 'r')"
   ]
  },
  {
   "cell_type": "code",
   "execution_count": 9,
   "id": "d7f70538-2e5f-4a10-9310-74cab2527f90",
   "metadata": {},
   "outputs": [
    {
     "name": "stdout",
     "output_type": "stream",
     "text": [
      "Fullsim Train\n",
      "fjet_clus_eta (42233012, 200)\n",
      "fjet_clus_phi (42233012, 200)\n",
      "fjet_clus_pt (42233012, 200)\n",
      "Fullsim Test\n",
      "fjet_clus_eta (2484117, 200)\n",
      "fjet_clus_phi (2484117, 200)\n",
      "fjet_clus_pt (2484117, 200)\n"
     ]
    }
   ],
   "source": [
    "feature_keys = ['fjet_clus_eta', 'fjet_clus_phi', 'fjet_clus_pt']\n",
    "print(\"Fullsim Train\")\n",
    "for k in feature_keys:\n",
    "    print(k, f_full_train[k].shape)\n",
    "print(\"Fullsim Test\")\n",
    "for k in feature_keys:\n",
    "    print(k, f_full_test[k].shape)"
   ]
  },
  {
   "cell_type": "code",
   "execution_count": 14,
   "id": "641e5dc8-040d-4bb4-9da3-ab96cb1f7545",
   "metadata": {},
   "outputs": [
    {
     "data": {
      "text/plain": [
       "(42233012, 600)"
      ]
     },
     "execution_count": 14,
     "metadata": {},
     "output_type": "execute_result"
    }
   ],
   "source": [
    "num_samples = len(f_full_train[\"labels\"])\n",
    "x_train = np.concatenate([f_full_train[k][:num_samples] for k in feature_keys], axis=1)\n",
    "x_train.shape"
   ]
  },
  {
   "cell_type": "code",
   "execution_count": 15,
   "id": "0f234aa1-939a-49a1-b52b-01771dc66e56",
   "metadata": {},
   "outputs": [
    {
     "data": {
      "text/plain": [
       "(42233012,)"
      ]
     },
     "execution_count": 15,
     "metadata": {},
     "output_type": "execute_result"
    }
   ],
   "source": [
    "y_train = f_full_train[\"labels\"][:num_samples]\n",
    "y_train.shape"
   ]
  },
  {
   "cell_type": "code",
   "execution_count": 16,
   "id": "2e0f07b1-b03c-4b57-a623-ad0a15cb0482",
   "metadata": {},
   "outputs": [
    {
     "data": {
      "text/plain": [
       "(2484117, 600)"
      ]
     },
     "execution_count": 16,
     "metadata": {},
     "output_type": "execute_result"
    }
   ],
   "source": [
    "x_test = np.concatenate([f_full_test[k][:num_samples] for k in feature_keys], axis=1)\n",
    "x_test.shape"
   ]
  },
  {
   "cell_type": "code",
   "execution_count": 17,
   "id": "41365ffd-e5a6-430e-adb4-2588e02e0ee6",
   "metadata": {},
   "outputs": [
    {
     "data": {
      "text/plain": [
       "(2484117,)"
      ]
     },
     "execution_count": 17,
     "metadata": {},
     "output_type": "execute_result"
    }
   ],
   "source": [
    "y_test = f_full_test[\"labels\"][:num_samples]\n",
    "y_test.shape"
   ]
  },
  {
   "cell_type": "code",
   "execution_count": 18,
   "id": "29516897-e0e0-4455-8a86-0398efd1fe71",
   "metadata": {},
   "outputs": [],
   "source": [
    "scaler = StandardScaler()\n",
    "scaler.fit(x_train)\n",
    "\n",
    "x_train = scaler.transform(x_train, copy=False)\n",
    "x_test = scaler.transform(x_test, copy=False)"
   ]
  },
  {
   "cell_type": "code",
   "execution_count": 33,
   "id": "22217273-b633-48d6-88cd-a0d470f75ab4",
   "metadata": {},
   "outputs": [],
   "source": [
    "os.environ[\"WANDB_NOTEBOOK_NAME\"] = \"tuning_MLP.ipynb\""
   ]
  },
  {
   "cell_type": "code",
   "execution_count": null,
   "id": "7d7dfa54-b376-4481-8d12-742797797c05",
   "metadata": {},
   "outputs": [
    {
     "name": "stdout",
     "output_type": "stream",
     "text": [
      "Starting tuning with 0 rows\n"
     ]
    },
    {
     "data": {
      "text/html": [
       "wandb version 0.15.1 is available!  To upgrade, please run:\n",
       " $ pip install wandb --upgrade"
      ],
      "text/plain": [
       "<IPython.core.display.HTML object>"
      ]
     },
     "metadata": {},
     "output_type": "display_data"
    },
    {
     "data": {
      "text/html": [
       "Tracking run with wandb version 0.15.0"
      ],
      "text/plain": [
       "<IPython.core.display.HTML object>"
      ]
     },
     "metadata": {},
     "output_type": "display_data"
    },
    {
     "data": {
      "text/html": [
       "Run data is saved locally in <code>/global/home/users/mfong/git/transfer-learning/wandb/run-20230504_163948-g081m91i</code>"
      ],
      "text/plain": [
       "<IPython.core.display.HTML object>"
      ]
     },
     "metadata": {},
     "output_type": "display_data"
    },
    {
     "data": {
      "text/html": [
       "Syncing run <strong><a href='https://wandb.ai/mingfong/fullsim_MLP/runs/g081m91i' target=\"_blank\">fullsim_MLP_pretrain_0M_rows</a></strong> to <a href='https://wandb.ai/mingfong/fullsim_MLP' target=\"_blank\">Weights & Biases</a> (<a href='https://wandb.me/run' target=\"_blank\">docs</a>)<br/>"
      ],
      "text/plain": [
       "<IPython.core.display.HTML object>"
      ]
     },
     "metadata": {},
     "output_type": "display_data"
    },
    {
     "data": {
      "text/html": [
       " View project at <a href='https://wandb.ai/mingfong/fullsim_MLP' target=\"_blank\">https://wandb.ai/mingfong/fullsim_MLP</a>"
      ],
      "text/plain": [
       "<IPython.core.display.HTML object>"
      ]
     },
     "metadata": {},
     "output_type": "display_data"
    },
    {
     "data": {
      "text/html": [
       " View run at <a href='https://wandb.ai/mingfong/fullsim_MLP/runs/g081m91i' target=\"_blank\">https://wandb.ai/mingfong/fullsim_MLP/runs/g081m91i</a>"
      ],
      "text/plain": [
       "<IPython.core.display.HTML object>"
      ]
     },
     "metadata": {},
     "output_type": "display_data"
    },
    {
     "name": "stderr",
     "output_type": "stream",
     "text": [
      "2023-05-04 16:39:58.051295: W tensorflow/core/framework/cpu_allocator_impl.cc:81] Allocation of 101359228800 exceeds 10% of free system memory.\n"
     ]
    },
    {
     "name": "stdout",
     "output_type": "stream",
     "text": [
      "Epoch 1/400\n",
      "164973/164973 [==============================] - ETA: 0s - loss: 0.5092 - accuracy: 0.7482WARNING:tensorflow:From /global/home/users/mfong/anaconda3/lib/python3.8/site-packages/tensorflow/python/ops/resource_variable_ops.py:1813: calling BaseResourceVariable.__init__ (from tensorflow.python.ops.resource_variable_ops) with constraint is deprecated and will be removed in a future version.\n",
      "Instructions for updating:\n",
      "If using Keras pass *_constraint arguments to layers.\n"
     ]
    },
    {
     "name": "stderr",
     "output_type": "stream",
     "text": [
      "2023-05-04 16:48:03.175052: W tensorflow/python/util/util.cc:329] Sets are not currently considered sequences, but this may change in the future, so consider avoiding using them.\n"
     ]
    },
    {
     "name": "stdout",
     "output_type": "stream",
     "text": [
      "INFO:tensorflow:Assets written to: /global/home/users/mfong/git/transfer-learning/wandb/run-20230504_163948-g081m91i/files/model-best/assets\n"
     ]
    },
    {
     "name": "stderr",
     "output_type": "stream",
     "text": [
      "\u001b[34m\u001b[1mwandb\u001b[0m: Adding directory to artifact (/global/home/users/mfong/git/transfer-learning/wandb/run-20230504_163948-g081m91i/files/model-best)... Done. 0.0s\n"
     ]
    },
    {
     "name": "stdout",
     "output_type": "stream",
     "text": [
      "164973/164973 [==============================] - 445s 3ms/step - loss: 0.5092 - accuracy: 0.7482 - val_loss: 0.4945 - val_accuracy: 0.7578\n",
      "Epoch 2/400\n",
      " 36501/164973 [=====>........................] - ETA: 5:19 - loss: 0.4888 - accuracy: 0.7618"
     ]
    }
   ],
   "source": [
    "NUM_PRETRAIN_ROWS_LIST = [0, 1000000, 2000000, 4000000, 8000000, 16000000, 32000000]\n",
    "# wandb_run_id_list = [\"5ndumuik\", \"ovkhun2m\", \"cbwykdzs\", \"mfcusa0l\", \"kjyvjndx\", \"suz9cn8k\"]    # wandb id of pretraining runs\n",
    "config = {\n",
    "    \"batch_size\": 256,\n",
    "    \"epochs\": 400,\n",
    "}\n",
    "for num_pretrain_rows in NUM_PRETRAIN_ROWS_LIST:\n",
    "    print(f\"Starting tuning with {num_pretrain_rows} rows\")\n",
    "    config[\"num_pretrain_rows\"] = num_pretrain_rows\n",
    "    run = wandb.init(project=\"fullsim_MLP\", name=f\"fullsim_MLP_pretrain_{int(num_pretrain_rows / 1000000)}M_rows\", config=config, reinit=True)\n",
    "    \n",
    "    model = Sequential()\n",
    "    model.add(Dense(64, input_shape=(600,), activation='relu'))\n",
    "    model.add(Dense(8, activation='relu'))\n",
    "    model.add(Dense(1, activation='sigmoid'))\n",
    "    if num_pretrain_rows != 0:\n",
    "        model.load_weights(f\"fastsim_MLP_{int(num_pretrain_rows/1000000)}M_rows.h5\")\n",
    "    model.compile(loss='binary_crossentropy', optimizer='adam', metrics=['accuracy'])\n",
    "    history = model.fit(\n",
    "        x_train,\n",
    "        y_train,\n",
    "        epochs=config[\"epochs\"],\n",
    "        batch_size=config[\"batch_size\"],\n",
    "        shuffle=True,\n",
    "        validation_data=(x_test, y_test),\n",
    "        callbacks=[wandb.keras.WandbCallback()]\n",
    "    )\n",
    "    \n",
    "    plt.figure()\n",
    "    plt.plot(history.history[\"accuracy\"], label=\"acc\")\n",
    "    plt.plot(history.history[\"val_accuracy\"], label=\"val_acc\")\n",
    "    plt.title(f\"Fullsim MLP (Pretained for {int(num_pretrain_rows / 1000000)}M Rows)\")\n",
    "    plt.ylabel(\"Accuracy\")\n",
    "    plt.xlabel(\"Epoch\")\n",
    "    plt.legend()\n",
    "    plt.savefig(f\"output/fullsim_MLP_pretrain_{int(num_pretrain_rows / 1000000)}M_rows_acc.png\")\n",
    "    \n",
    "    plt.figure()\n",
    "    plt.plot(history.history[\"loss\"], label=\"loss\")\n",
    "    plt.plot(history.history[\"val_loss\"], label=\"val_loss\")\n",
    "    plt.title(f\"Fullsim MLP (Pretrained for {int(num_pretrain_rows / 1000000)}M Rows)\")\n",
    "    plt.ylabel(\"Loss\")\n",
    "    plt.xlabel(\"Epoch\")\n",
    "    plt.legend()\n",
    "    plt.savefig(f\"output/fullsim_MLP_pretrain_{int(num_pretrain_rows / 1000000)}M_rows_loss.png\")\n",
    "    \n",
    "    \n",
    "    model.save_weights(f\"models/fullsim_MLP_pretrain_{int(num_pretrain_rows / 1000000)}M_rows.h5\")\n",
    "    wandb.finish()\n",
    "    "
   ]
  },
  {
   "cell_type": "code",
   "execution_count": null,
   "id": "9cb1341b-3fd7-4874-8f98-d7bb412d266b",
   "metadata": {},
   "outputs": [],
   "source": []
  },
  {
   "cell_type": "code",
   "execution_count": null,
   "id": "45fa9ef8-f925-41c3-8e81-c8d91062de4b",
   "metadata": {},
   "outputs": [],
   "source": []
  },
  {
   "cell_type": "code",
   "execution_count": null,
   "id": "77f4b389-272e-45fd-b3e1-39015a58aa48",
   "metadata": {},
   "outputs": [],
   "source": []
  },
  {
   "cell_type": "code",
   "execution_count": null,
   "id": "e4a56e79-0640-47ee-9cef-9144890f3551",
   "metadata": {},
   "outputs": [],
   "source": []
  }
 ],
 "metadata": {
  "kernelspec": {
   "display_name": "Python 3 (ipykernel)",
   "language": "python",
   "name": "python3"
  },
  "language_info": {
   "codemirror_mode": {
    "name": "ipython",
    "version": 3
   },
   "file_extension": ".py",
   "mimetype": "text/x-python",
   "name": "python",
   "nbconvert_exporter": "python",
   "pygments_lexer": "ipython3",
   "version": "3.8.5"
  }
 },
 "nbformat": 4,
 "nbformat_minor": 5
}
