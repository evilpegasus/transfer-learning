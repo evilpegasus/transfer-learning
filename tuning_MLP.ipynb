{
 "cells": [
  {
   "cell_type": "markdown",
   "id": "5d0e987c-ecd9-4d31-8598-af802e74bf85",
   "metadata": {},
   "source": [
    "# Fine tuning the MLP from fastsim to fullsim"
   ]
  },
  {
   "cell_type": "code",
   "execution_count": 1,
   "id": "f2ea0cae-701e-4b60-9cbe-0a774472c7e0",
   "metadata": {},
   "outputs": [
    {
     "name": "stdout",
     "output_type": "stream",
     "text": [
      "[PhysicalDevice(name='/physical_device:GPU:0', device_type='GPU')]\n"
     ]
    },
    {
     "name": "stderr",
     "output_type": "stream",
     "text": [
      "2023-05-04 02:32:48.705172: I tensorflow/stream_executor/platform/default/dso_loader.cc:44] Successfully opened dynamic library libcuda.so.1\n",
      "2023-05-04 02:32:48.725798: I tensorflow/core/common_runtime/gpu/gpu_device.cc:1561] Found device 0 with properties: \n",
      "pciBusID: 0000:41:00.0 name: NVIDIA A40 computeCapability: 8.6\n",
      "coreClock: 1.74GHz coreCount: 84 deviceMemorySize: 44.56GiB deviceMemoryBandwidth: 648.29GiB/s\n",
      "2023-05-04 02:32:48.726267: I tensorflow/stream_executor/platform/default/dso_loader.cc:44] Successfully opened dynamic library libcudart.so.10.1\n",
      "2023-05-04 02:32:48.728243: I tensorflow/stream_executor/platform/default/dso_loader.cc:44] Successfully opened dynamic library libcublas.so.10\n",
      "2023-05-04 02:32:48.730216: I tensorflow/stream_executor/platform/default/dso_loader.cc:44] Successfully opened dynamic library libcufft.so.10\n",
      "2023-05-04 02:32:48.730692: I tensorflow/stream_executor/platform/default/dso_loader.cc:44] Successfully opened dynamic library libcurand.so.10\n",
      "2023-05-04 02:32:48.732560: I tensorflow/stream_executor/platform/default/dso_loader.cc:44] Successfully opened dynamic library libcusolver.so.10\n",
      "2023-05-04 02:32:48.733614: I tensorflow/stream_executor/platform/default/dso_loader.cc:44] Successfully opened dynamic library libcusparse.so.10\n",
      "2023-05-04 02:32:48.737137: I tensorflow/stream_executor/platform/default/dso_loader.cc:44] Successfully opened dynamic library libcudnn.so.7\n",
      "2023-05-04 02:32:48.738170: I tensorflow/core/common_runtime/gpu/gpu_device.cc:1703] Adding visible gpu devices: 0\n"
     ]
    }
   ],
   "source": [
    "import sys\n",
    "import os\n",
    "os.environ[\"CUDA_VISIBLE_DEVICES\"] = \"1\"\n",
    "\n",
    "from tqdm import tqdm\n",
    "import h5py\n",
    "import numpy as np\n",
    "import pandas as pd\n",
    "import matplotlib.pyplot as plt\n",
    "from sklearn.preprocessing import StandardScaler\n",
    "\n",
    "import tensorflow as tf\n",
    "from tensorflow import keras\n",
    "from tensorflow.keras.models import Sequential\n",
    "from tensorflow.keras.layers import Dense\n",
    "from tensorflow.keras import initializers\n",
    "\n",
    "import wandb\n",
    "from wandb.keras import WandbCallback\n",
    "\n",
    "np.random.seed(8)\n",
    "tf.random.set_seed(8)\n",
    "\n",
    "physical_devices = tf.config.list_physical_devices('GPU')\n",
    "print(physical_devices)\n",
    "tf.config.experimental.set_memory_growth(physical_devices[0], True)"
   ]
  },
  {
   "cell_type": "code",
   "execution_count": 2,
   "id": "2de50f24-3b5a-4c73-b3c5-f5d1fdbad0af",
   "metadata": {},
   "outputs": [],
   "source": [
    "f_full_train = h5py.File(\"/global/ml4hep/spss/mfong/transfer_learning/train.h5\", 'r')\n",
    "f_full_test = h5py.File(\"/global/ml4hep/spss/mfong/transfer_learning/test.h5\", 'r')"
   ]
  },
  {
   "cell_type": "code",
   "execution_count": 9,
   "id": "d7f70538-2e5f-4a10-9310-74cab2527f90",
   "metadata": {},
   "outputs": [
    {
     "name": "stdout",
     "output_type": "stream",
     "text": [
      "Fullsim Train\n",
      "fjet_clus_eta (42233012, 200)\n",
      "fjet_clus_phi (42233012, 200)\n",
      "fjet_clus_pt (42233012, 200)\n",
      "Fullsim Test\n",
      "fjet_clus_eta (2484117, 200)\n",
      "fjet_clus_phi (2484117, 200)\n",
      "fjet_clus_pt (2484117, 200)\n"
     ]
    }
   ],
   "source": [
    "feature_keys = ['fjet_clus_eta', 'fjet_clus_phi', 'fjet_clus_pt']\n",
    "print(\"Fullsim Train\")\n",
    "for k in feature_keys:\n",
    "    print(k, f_full_train[k].shape)\n",
    "print(\"Fullsim Test\")\n",
    "for k in feature_keys:\n",
    "    print(k, f_full_test[k].shape)"
   ]
  },
  {
   "cell_type": "code",
   "execution_count": 14,
   "id": "641e5dc8-040d-4bb4-9da3-ab96cb1f7545",
   "metadata": {},
   "outputs": [
    {
     "data": {
      "text/plain": [
       "(42233012, 600)"
      ]
     },
     "execution_count": 14,
     "metadata": {},
     "output_type": "execute_result"
    }
   ],
   "source": [
    "num_samples = len(f_full_train[\"labels\"])\n",
    "x_train = np.concatenate([f_full_train[k][:num_samples] for k in feature_keys], axis=1)\n",
    "x_train.shape"
   ]
  },
  {
   "cell_type": "code",
   "execution_count": 15,
   "id": "0f234aa1-939a-49a1-b52b-01771dc66e56",
   "metadata": {},
   "outputs": [
    {
     "data": {
      "text/plain": [
       "(42233012,)"
      ]
     },
     "execution_count": 15,
     "metadata": {},
     "output_type": "execute_result"
    }
   ],
   "source": [
    "y_train = f_full_train[\"labels\"][:num_samples]\n",
    "y_train.shape"
   ]
  },
  {
   "cell_type": "code",
   "execution_count": 16,
   "id": "2e0f07b1-b03c-4b57-a623-ad0a15cb0482",
   "metadata": {},
   "outputs": [
    {
     "data": {
      "text/plain": [
       "(2484117, 600)"
      ]
     },
     "execution_count": 16,
     "metadata": {},
     "output_type": "execute_result"
    }
   ],
   "source": [
    "x_test = np.concatenate([f_full_test[k][:num_samples] for k in feature_keys], axis=1)\n",
    "x_test.shape"
   ]
  },
  {
   "cell_type": "code",
   "execution_count": 17,
   "id": "41365ffd-e5a6-430e-adb4-2588e02e0ee6",
   "metadata": {},
   "outputs": [
    {
     "data": {
      "text/plain": [
       "(2484117,)"
      ]
     },
     "execution_count": 17,
     "metadata": {},
     "output_type": "execute_result"
    }
   ],
   "source": [
    "y_test = f_full_test[\"labels\"][:num_samples]\n",
    "y_test.shape"
   ]
  },
  {
   "cell_type": "code",
   "execution_count": 18,
   "id": "29516897-e0e0-4455-8a86-0398efd1fe71",
   "metadata": {},
   "outputs": [],
   "source": [
    "scaler = StandardScaler()\n",
    "scaler.fit(x_train)\n",
    "\n",
    "x_train = scaler.transform(x_train, copy=False)\n",
    "x_test = scaler.transform(x_test, copy=False)"
   ]
  },
  {
   "cell_type": "code",
   "execution_count": 20,
   "id": "7d7dfa54-b376-4481-8d12-742797797c05",
   "metadata": {},
   "outputs": [],
   "source": [
    "NUM_PRETRAIN_ROWS_LIST = [1000000, 2000000, 4000000, 8000000, 16000000, 32000000]\n",
    "wandb_run_id_list = [\"5ndumuik\", \"ovkhun2m\", \"cbwykdzs\", \"mfcusa0l\", \"kjyvjndx\", \"suz9cn8k\"]"
   ]
  },
  {
   "cell_type": "code",
   "execution_count": null,
   "id": "ffced76e-9420-4717-8fd6-c186fd36b9c8",
   "metadata": {},
   "outputs": [],
   "source": []
  },
  {
   "cell_type": "code",
   "execution_count": null,
   "id": "9cb1341b-3fd7-4874-8f98-d7bb412d266b",
   "metadata": {},
   "outputs": [],
   "source": []
  },
  {
   "cell_type": "code",
   "execution_count": null,
   "id": "45fa9ef8-f925-41c3-8e81-c8d91062de4b",
   "metadata": {},
   "outputs": [],
   "source": []
  },
  {
   "cell_type": "code",
   "execution_count": null,
   "id": "77f4b389-272e-45fd-b3e1-39015a58aa48",
   "metadata": {},
   "outputs": [],
   "source": []
  },
  {
   "cell_type": "code",
   "execution_count": null,
   "id": "e4a56e79-0640-47ee-9cef-9144890f3551",
   "metadata": {},
   "outputs": [],
   "source": []
  }
 ],
 "metadata": {
  "kernelspec": {
   "display_name": "Python 3 (ipykernel)",
   "language": "python",
   "name": "python3"
  },
  "language_info": {
   "codemirror_mode": {
    "name": "ipython",
    "version": 3
   },
   "file_extension": ".py",
   "mimetype": "text/x-python",
   "name": "python",
   "nbconvert_exporter": "python",
   "pygments_lexer": "ipython3",
   "version": "3.8.5"
  }
 },
 "nbformat": 4,
 "nbformat_minor": 5
}
