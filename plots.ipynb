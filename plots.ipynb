{
 "cells": [
  {
   "cell_type": "code",
   "execution_count": 1,
   "metadata": {},
   "outputs": [],
   "source": [
    "import os\n",
    "import pandas as pd\n",
    "import numpy as np\n",
    "import jax\n",
    "import jax.numpy as jnp\n",
    "import optax\n",
    "import matplotlib.pyplot as plt\n",
    "import wandb\n",
    "from pathlib import Path\n",
    "import orbax.checkpoint\n",
    "from flax.training import train_state, orbax_utils\n",
    "from sklearn.metrics import roc_auc_score, roc_curve, auc\n",
    "import models\n",
    "import data_utils\n",
    "from absl import logging, app, flags\n",
    "from tqdm import tqdm"
   ]
  },
  {
   "cell_type": "code",
   "execution_count": 2,
   "metadata": {},
   "outputs": [],
   "source": [
    "# TODO find the epochs with best val AUC to load weights from"
   ]
  },
  {
   "cell_type": "markdown",
   "metadata": {},
   "source": [
    "## Inference Pipeline on TEST dataset"
   ]
  },
  {
   "cell_type": "code",
   "execution_count": 3,
   "metadata": {},
   "outputs": [],
   "source": [
    "def init_train_state(rng_key, model, optimizer, batch):\n",
    "  \"\"\"Initialize training state.\"\"\"\n",
    "  params = model.init(rng_key, batch)\n",
    "  return train_state.TrainState.create(\n",
    "      apply_fn=model.apply,\n",
    "      params=params,\n",
    "      tx=optimizer)\n",
    "\n",
    "@jax.jit\n",
    "def eval_step(\n",
    "  state: train_state.TrainState,\n",
    "  batch: jnp.ndarray,\n",
    "  ):\n",
    "  \"\"\"Perform a single evaluation step.\"\"\"\n",
    "  x, y = batch\n",
    "  logits = state.apply_fn(state.params, x).squeeze()\n",
    "  loss = jnp.mean(optax.sigmoid_binary_cross_entropy(logits=logits, labels=y))\n",
    "  return loss, logits"
   ]
  },
  {
   "cell_type": "code",
   "execution_count": 6,
   "metadata": {},
   "outputs": [],
   "source": [
    "def inference_loop(checkpoint_dir: Path, test_dataloader: data_utils.JaxDataLoader, seed: int=1):\n",
    "  \"\"\"\n",
    "  Gets inference predictions for a given checkpoint directory.\n",
    "  checkpoint_dir example: /pscratch/sd/m/mingfong/transfer-learning/checkpoints/532gak2v/\n",
    "  Output: y_true, y_pred\n",
    "  \"\"\"\n",
    "  rng = np.random.RandomState(seed)\n",
    "  rng_key = jax.random.PRNGKey(rng.randint(2**32))\n",
    "  DNN_LAYERS = [400, 400, 400, 400, 400, 1]\n",
    "  LEARNING_RATE = 0.0001\n",
    "\n",
    "  model = models.MLP(features=DNN_LAYERS)\n",
    "  opt = optax.adam(LEARNING_RATE)\n",
    "  state = init_train_state(rng_key, model, opt, dummy_input)\n",
    "\n",
    "  # load checkpoint for params\n",
    "  ckpt = {\n",
    "    \"step\": 0,\n",
    "    \"state\": state,\n",
    "  }\n",
    "  orbax_checkpointer = orbax.checkpoint.PyTreeCheckpointer()\n",
    "  save_args = orbax_utils.save_args_from_target(ckpt)\n",
    "\n",
    "  CHECKPOINT_DIR = Path(\"/pscratch/sd/m/mingfong/transfer-learning/checkpoints/532gak2v/\")\n",
    "  raw_restored = orbax_checkpointer.restore(CHECKPOINT_DIR, item=ckpt)\n",
    "  state = raw_restored[\"state\"]\n",
    "  start_step = raw_restored[\"step\"] + 1\n",
    "  \n",
    "  test_datagen = iter(test_dataloader)\n",
    "  test_batch_matrics = {\n",
    "    \"loss\": [],\n",
    "    \"accuracy\": [],\n",
    "    \"auc\": [],\n",
    "  }\n",
    "  logits_list = []\n",
    "  y_true_list = []\n",
    "\n",
    "  for batch_step in tqdm(range(len(test_dataloader))):\n",
    "    batch = next(test_datagen)\n",
    "    loss, logits = eval_step(state, batch)\n",
    "    test_batch_matrics[\"loss\"].append(loss)\n",
    "    test_batch_matrics[\"accuracy\"].append(jnp.mean((logits > 0) == batch[1]))\n",
    "    test_batch_matrics[\"auc\"].append(roc_auc_score(batch[1], logits))\n",
    "    logits_list.append(logits)\n",
    "    y_true_list.append(batch[1])\n",
    "    \n",
    "  y_true = np.concatenate(y_true_list)\n",
    "  y_pred = np.concatenate(logits_list)\n",
    "  print(f\"y_true: {y_true.shape}\")\n",
    "  print(f\"y_pred: {y_pred.shape}\")\n",
    "  return y_true, y_pred"
   ]
  },
  {
   "cell_type": "code",
   "execution_count": 5,
   "metadata": {},
   "outputs": [
    {
     "name": "stderr",
     "output_type": "stream",
     "text": [
      "  0%|          | 0/1 [00:00<?, ?it/s]"
     ]
    },
    {
     "name": "stderr",
     "output_type": "stream",
     "text": [
      "  0%|          | 0/1 [00:24<?, ?it/s]"
     ]
    },
    {
     "name": "stdout",
     "output_type": "stream",
     "text": [
      "Num val samples: 2484117\n",
      "Input shape: (1024, 1400)\n"
     ]
    },
    {
     "name": "stderr",
     "output_type": "stream",
     "text": [
      "\n"
     ]
    }
   ],
   "source": [
    "# testing data loading\n",
    "BATCH_SIZE = 1024\n",
    "MAX_ROWS = None # None for all\n",
    "\n",
    "test_dir_preprocess = \"/pscratch/sd/m/mingfong/transfer-learning/fullsim_test_processed/\"\n",
    "test_preprocess_file_names = os.listdir(test_dir_preprocess)\n",
    "test_preprocess_filepaths = [test_dir_preprocess + name for name in test_preprocess_file_names]\n",
    "\n",
    "DatasetClassToUse = data_utils.H5DatasetLoadAll\n",
    "\n",
    "test_dataset = DatasetClassToUse(test_preprocess_filepaths[-1:], max_rows=MAX_ROWS, reverse_data=True)\n",
    "test_dataloader = data_utils.JaxDataLoader(test_dataset, batch_size=BATCH_SIZE, shuffle=False)\n",
    "print(f\"Num val samples: {len(test_dataset)}\")\n",
    "\n",
    "dummy_input = next(iter(test_dataloader))[0]\n",
    "print(f\"Input shape: {dummy_input.shape}\")"
   ]
  },
  {
   "cell_type": "code",
   "execution_count": 7,
   "metadata": {},
   "outputs": [
    {
     "name": "stdout",
     "output_type": "stream",
     "text": [
      "fullsim_transfered1 16M rows: 4rqwunj6 (seed: 1)\n"
     ]
    },
    {
     "name": "stderr",
     "output_type": "stream",
     "text": [
      "\u001b[34m\u001b[1mwandb\u001b[0m:   1 of 1 files downloaded.  \n"
     ]
    },
    {
     "name": "stdout",
     "output_type": "stream",
     "text": [
      "Downloaded 4rqwunj6 to /pscratch/sd/m/mingfong/transfer-learning/checkpoints/4rqwunj6\n"
     ]
    },
    {
     "name": "stderr",
     "output_type": "stream",
     "text": [
      "100%|██████████| 2426/2426 [00:26<00:00, 90.95it/s]\n"
     ]
    },
    {
     "name": "stdout",
     "output_type": "stream",
     "text": [
      "y_true: (2484117,)\n",
      "y_pred: (2484117,)\n",
      "fullsim_transfered1 8M rows: gb736s9n (seed: 1)\n"
     ]
    },
    {
     "name": "stderr",
     "output_type": "stream",
     "text": [
      "\u001b[34m\u001b[1mwandb\u001b[0m:   1 of 1 files downloaded.  \n"
     ]
    },
    {
     "name": "stdout",
     "output_type": "stream",
     "text": [
      "Downloaded gb736s9n to /pscratch/sd/m/mingfong/transfer-learning/checkpoints/gb736s9n\n"
     ]
    },
    {
     "name": "stderr",
     "output_type": "stream",
     "text": [
      "100%|██████████| 2426/2426 [00:25<00:00, 94.41it/s] \n"
     ]
    },
    {
     "name": "stdout",
     "output_type": "stream",
     "text": [
      "y_true: (2484117,)\n",
      "y_pred: (2484117,)\n",
      "fullsim_transfered1 4M rows: a2ypm3lr (seed: 1)\n"
     ]
    },
    {
     "name": "stderr",
     "output_type": "stream",
     "text": [
      "\u001b[34m\u001b[1mwandb\u001b[0m:   1 of 1 files downloaded.  \n"
     ]
    },
    {
     "name": "stdout",
     "output_type": "stream",
     "text": [
      "Downloaded a2ypm3lr to /pscratch/sd/m/mingfong/transfer-learning/checkpoints/a2ypm3lr\n"
     ]
    },
    {
     "name": "stderr",
     "output_type": "stream",
     "text": [
      "100%|██████████| 2426/2426 [00:25<00:00, 94.71it/s] \n"
     ]
    },
    {
     "name": "stdout",
     "output_type": "stream",
     "text": [
      "y_true: (2484117,)\n",
      "y_pred: (2484117,)\n",
      "fullsim_transfered1 2M rows: co3u843s (seed: 1)\n"
     ]
    },
    {
     "name": "stderr",
     "output_type": "stream",
     "text": [
      "\u001b[34m\u001b[1mwandb\u001b[0m:   1 of 1 files downloaded.  \n"
     ]
    },
    {
     "name": "stdout",
     "output_type": "stream",
     "text": [
      "Downloaded co3u843s to /pscratch/sd/m/mingfong/transfer-learning/checkpoints/co3u843s\n"
     ]
    },
    {
     "name": "stderr",
     "output_type": "stream",
     "text": [
      "100%|██████████| 2426/2426 [00:25<00:00, 97.00it/s] \n"
     ]
    },
    {
     "name": "stdout",
     "output_type": "stream",
     "text": [
      "y_true: (2484117,)\n",
      "y_pred: (2484117,)\n",
      "fullsim_only1: ujrwfssb (seed: 1)\n"
     ]
    },
    {
     "name": "stderr",
     "output_type": "stream",
     "text": [
      "\u001b[34m\u001b[1mwandb\u001b[0m:   1 of 1 files downloaded.  \n"
     ]
    },
    {
     "name": "stdout",
     "output_type": "stream",
     "text": [
      "Downloaded ujrwfssb to /pscratch/sd/m/mingfong/transfer-learning/checkpoints/ujrwfssb\n"
     ]
    },
    {
     "name": "stderr",
     "output_type": "stream",
     "text": [
      "100%|██████████| 2426/2426 [00:24<00:00, 98.55it/s] "
     ]
    },
    {
     "name": "stdout",
     "output_type": "stream",
     "text": [
      "y_true: (2484117,)\n",
      "y_pred: (2484117,)\n"
     ]
    },
    {
     "name": "stderr",
     "output_type": "stream",
     "text": [
      "\n"
     ]
    }
   ],
   "source": [
    "CHECKPOINT_DOWNLOAD_DIR = Path(\"/pscratch/sd/m/mingfong/transfer-learning/checkpoints/\")\n",
    "api = wandb.Api()\n",
    "\n",
    "output_dict = {} # {run_id: (y_true, y_pred)}\n",
    "\n",
    "# Project is specified by <entity/project-name>\n",
    "runs = api.runs(\"mingfong/fullsim\")\n",
    "for run in runs:\n",
    "  if run.config[\"seed\"] != 1:\n",
    "    continue\n",
    "  print(f\"{run.name}: {run.id} (seed: {run.config['seed']})\")\n",
    "  artifact = api.artifact(f\"mingfong/fullsim/{run.id}-checkpoint:latest\")   # TODO figure out which checkpoint had best performance to download\n",
    "  artifact_path = CHECKPOINT_DOWNLOAD_DIR / run.id\n",
    "  artifact.download(artifact_path)\n",
    "  print(f\"Downloaded {run.id} to {artifact_path}\")\n",
    "  output_dict[run.id] = inference_loop(artifact_path, test_dataloader, seed=1)"
   ]
  },
  {
   "cell_type": "code",
   "execution_count": 25,
   "metadata": {},
   "outputs": [
    {
     "name": "stdout",
     "output_type": "stream",
     "text": [
      "4rqwunj6\n",
      "gb736s9n\n",
      "a2ypm3lr\n",
      "co3u843s\n",
      "ujrwfssb\n"
     ]
    },
    {
     "data": {
      "image/png": "[encoded data removed]",
      "text/plain": [
       "<Figure size 640x480 with 1 Axes>"
      ]
     },
     "metadata": {},
     "output_type": "display_data"
    }
   ],
   "source": [
    "for run in runs:\n",
    "  if run.id not in output_dict:\n",
    "    continue\n",
    "  print(run.id)\n",
    "  y_true, y_pred = output_dict[run.id]\n",
    "  fpr, tpr, thresholds = roc_curve(y_true, y_pred)\n",
    "  roc_auc = auc(fpr, tpr)\n",
    "  plt.plot(fpr, tpr, 'b', label = 'AUC = %0.5f' % roc_auc)\n",
    "plt.title('Receiver Operating Characteristic')\n",
    "plt.legend(loc = 'lower right')\n",
    "plt.plot([0, 1], [0, 1],'r--')\n",
    "plt.xlim([0, 1])\n",
    "plt.ylim([0, 1])\n",
    "plt.ylabel('True Positive Rate')\n",
    "plt.xlabel('False Positive Rate')\n",
    "plt.show()"
   ]
  },
  {
   "cell_type": "code",
   "execution_count": null,
   "metadata": {},
   "outputs": [],
   "source": [
    "# log(1/fpr) on y\n",
    "# tpr on x axis\n",
    "\n",
    "# fix tpr at {50%} and get get log(1/fpr)\n",
    "# table or plot\n",
    "# error bars std over 5 runs"
   ]
  }
 ],
 "metadata": {
  "kernelspec": {
   "display_name": "jax",
   "language": "python",
   "name": "python3"
  },
  "language_info": {
   "codemirror_mode": {
    "name": "ipython",
    "version": 3
   },
   "file_extension": ".py",
   "mimetype": "text/x-python",
   "name": "python",
   "nbconvert_exporter": "python",
   "pygments_lexer": "ipython3",
   "version": "3.11.5"
  }
 },
 "nbformat": 4,
 "nbformat_minor": 2
}
