{
 "cells": [
  {
   "cell_type": "code",
   "execution_count": 68,
   "id": "30a6c669-c429-45a0-9794-cff289a35c4b",
   "metadata": {},
   "outputs": [],
   "source": [
    "import sys\n",
    "import os\n",
    "os.environ[\"CUDA_VISIBLE_DEVICES\"] = \"1\"\n",
    "\n",
    "import h5py\n",
    "from torch.utils.data import Dataset, DataLoader\n",
    "import numpy as np\n",
    "import preprocessing"
   ]
  },
  {
   "cell_type": "code",
   "execution_count": 13,
   "id": "1a3c576b-9930-4b14-a534-3b73a5ef3d7b",
   "metadata": {},
   "outputs": [],
   "source": [
    "train_dir = \"/global/ml4hep/spss/mfong/transfer_learning/delphes_train/\"\n",
    "train_file_names = os.listdir(train_dir)"
   ]
  },
  {
   "cell_type": "code",
   "execution_count": 14,
   "id": "d3149a61-2e20-4aa9-b9ba-2cf324d01413",
   "metadata": {},
   "outputs": [
    {
     "data": {
      "text/plain": [
       "['train_10.h5',\n",
       " 'train_5.h5',\n",
       " 'train_0.h5',\n",
       " 'train_8.h5',\n",
       " 'train_14.h5',\n",
       " 'train_4.h5',\n",
       " 'train_1.h5',\n",
       " 'train_6.h5',\n",
       " 'train_12.h5',\n",
       " 'train_7.h5',\n",
       " 'train_9.h5',\n",
       " 'train_2.h5',\n",
       " 'train_13.h5',\n",
       " 'train_11.h5',\n",
       " 'train_3.h5']"
      ]
     },
     "execution_count": 14,
     "metadata": {},
     "output_type": "execute_result"
    }
   ],
   "source": [
    "train_file_names"
   ]
  },
  {
   "cell_type": "code",
   "execution_count": 72,
   "id": "7c8b21bc-1d6f-41fc-82ef-83ea9909d3a5",
   "metadata": {},
   "outputs": [],
   "source": [
    "class H5Dataset(Dataset):\n",
    "    def __init__(self, file_paths, batch_size, transform=None):\n",
    "        self.file_paths = file_paths\n",
    "        self.batch_size = batch_size\n",
    "        self.transform = transform\n",
    "        self.sample_indices = []  # Store the indices of samples within each file\n",
    "        self.FEATURE_KEYS = ['fjet_clus_eta', 'fjet_clus_phi', 'fjet_clus_pt', 'fjet_clus_E']\n",
    "\n",
    "        for file_path in file_paths:\n",
    "            with h5py.File(file_path, 'r') as file:\n",
    "                num_samples = len(file[self.FEATURE_KEYS[0]])  # 'data' is the dataset name in your HDF5 file\n",
    "                indices = list(range(num_samples))\n",
    "                self.sample_indices.extend([(file_path, idx) for idx in indices])\n",
    "\n",
    "    def __len__(self):\n",
    "        return len(self.sample_indices)\n",
    "\n",
    "    def __getitem__(self, idx):\n",
    "        file_path, sample_idx = self.sample_indices[idx]\n",
    "        \n",
    "        with h5py.File(file_path, 'r') as file:\n",
    "            # data = file['data'][sample_idx]  # Load a single sample\n",
    "            data = {k: v[sample_idx:sample_idx+1] for k, v in file.items() if k in self.FEATURE_KEYS}\n",
    "\n",
    "        if self.transform:\n",
    "            data = self.transform(data)\n",
    "\n",
    "        return data"
   ]
  },
  {
   "cell_type": "code",
   "execution_count": 73,
   "id": "bae474dc-747c-4f08-9194-417f1530ba6d",
   "metadata": {},
   "outputs": [],
   "source": [
    "dataset = H5Dataset([train_dir + filename for filename in train_file_names[0:1]], batch_size=256, transform=lambda x: preprocessing.constituent(x, 200))"
   ]
  },
  {
   "cell_type": "code",
   "execution_count": 74,
   "id": "39eaa246-fe79-428f-a984-eebaf438a844",
   "metadata": {},
   "outputs": [
    {
     "data": {
      "text/plain": [
       "70871110"
      ]
     },
     "execution_count": 74,
     "metadata": {},
     "output_type": "execute_result"
    }
   ],
   "source": [
    "len(dataset)"
   ]
  },
  {
   "cell_type": "code",
   "execution_count": 83,
   "id": "fc2c1f46-bf3c-4077-baca-06eb301def72",
   "metadata": {},
   "outputs": [
    {
     "data": {
      "text/plain": [
       "array([[[ 0.00000000e+00, -0.00000000e+00,  1.32332802e+01, ...,\n",
       "         -1.59273541e+00, -1.59765470e+00,  0.00000000e+00],\n",
       "        [ 3.72529030e-09, -1.13548025e-01,  1.28406582e+01, ...,\n",
       "         -1.98535752e+00, -1.98184884e+00,  1.13548025e-01],\n",
       "        [ 1.40889362e-03, -1.13734171e-01,  1.25467110e+01, ...,\n",
       "         -2.27930427e+00, -2.27592731e+00,  1.13742895e-01],\n",
       "        ...,\n",
       "        [ 0.00000000e+00,  0.00000000e+00,  0.00000000e+00, ...,\n",
       "          0.00000000e+00,  0.00000000e+00,  0.00000000e+00],\n",
       "        [ 0.00000000e+00,  0.00000000e+00,  0.00000000e+00, ...,\n",
       "          0.00000000e+00,  0.00000000e+00,  0.00000000e+00],\n",
       "        [ 0.00000000e+00,  0.00000000e+00,  0.00000000e+00, ...,\n",
       "          0.00000000e+00,  0.00000000e+00,  0.00000000e+00]]],\n",
       "      dtype=float32)"
      ]
     },
     "execution_count": 83,
     "metadata": {},
     "output_type": "execute_result"
    }
   ],
   "source": [
    "dataset[0]"
   ]
  },
  {
   "cell_type": "code",
   "execution_count": 22,
   "id": "f72fa81e-2a0d-45ba-bf2c-f430a663a380",
   "metadata": {},
   "outputs": [],
   "source": [
    "f = h5py.File(train_dir + train_file_names[0], 'r')"
   ]
  },
  {
   "cell_type": "code",
   "execution_count": 62,
   "id": "ab0f31d5-d2fc-4574-a5cf-3c8740b2278d",
   "metadata": {},
   "outputs": [
    {
     "data": {
      "text/plain": [
       "[('fjet_clus_E',\n",
       "  <HDF5 dataset \"fjet_clus_E\": shape (5000000, 200), type \"<f4\">),\n",
       " ('fjet_clus_eta',\n",
       "  <HDF5 dataset \"fjet_clus_eta\": shape (5000000, 200), type \"<f4\">),\n",
       " ('fjet_clus_phi',\n",
       "  <HDF5 dataset \"fjet_clus_phi\": shape (5000000, 200), type \"<f4\">),\n",
       " ('fjet_clus_pt',\n",
       "  <HDF5 dataset \"fjet_clus_pt\": shape (5000000, 200), type \"<f4\">),\n",
       " ('fjet_eta', <HDF5 dataset \"fjet_eta\": shape (5000000,), type \"<f4\">),\n",
       " ('fjet_m', <HDF5 dataset \"fjet_m\": shape (5000000,), type \"<f4\">),\n",
       " ('fjet_phi', <HDF5 dataset \"fjet_phi\": shape (5000000,), type \"<f4\">),\n",
       " ('fjet_pt', <HDF5 dataset \"fjet_pt\": shape (5000000,), type \"<f4\">),\n",
       " ('labels', <HDF5 dataset \"labels\": shape (5000000,), type \"<i4\">),\n",
       " ('training_weights',\n",
       "  <HDF5 dataset \"training_weights\": shape (5000000,), type \"<f4\">)]"
      ]
     },
     "execution_count": 62,
     "metadata": {},
     "output_type": "execute_result"
    }
   ],
   "source": [
    "[a for a in f.items()]"
   ]
  },
  {
   "cell_type": "code",
   "execution_count": 49,
   "id": "58372b42-e24b-4a7f-b610-836fc79caef4",
   "metadata": {},
   "outputs": [
    {
     "data": {
      "text/plain": [
       "array([[5.6002412e+05, 3.8137597e+05, 2.8420822e+05, 2.0101989e+05,\n",
       "        1.8412698e+05, 1.5626641e+05, 8.8647594e+04, 7.8707836e+04,\n",
       "        7.1114000e+04, 6.3091988e+04, 6.2576590e+04, 5.3210391e+04,\n",
       "        5.2817859e+04, 5.0586125e+04, 3.8327656e+04, 3.8165348e+04,\n",
       "        3.5620992e+04, 3.4259398e+04, 3.3245188e+04, 3.1260291e+04,\n",
       "        2.6229201e+04, 2.2826189e+04, 1.8487025e+04, 1.7112283e+04,\n",
       "        1.5398617e+04, 1.3776995e+04, 1.2058328e+04, 1.0108385e+04,\n",
       "        9.4241221e+03, 9.4153037e+03, 9.4462227e+03, 8.8406191e+03,\n",
       "        8.3386689e+03, 7.6338198e+03, 6.1374756e+03, 5.4986523e+03,\n",
       "        4.9362178e+03, 4.6161245e+03, 4.2351646e+03, 4.1940547e+03,\n",
       "        4.5491201e+03, 4.7815537e+03, 3.4107178e+03, 3.2732021e+03,\n",
       "        3.2599397e+03, 3.1238564e+03, 2.9079082e+03, 2.8839543e+03,\n",
       "        2.5343967e+03, 2.2693206e+03, 2.1025007e+03, 2.1537783e+03,\n",
       "        1.7450792e+03, 2.2507239e+03, 1.7162832e+03, 1.5913851e+03,\n",
       "        1.0824010e+03, 1.5985997e+03, 9.7579523e+02, 8.2630225e+02,\n",
       "        4.6915063e+02, 4.4739301e+02, 0.0000000e+00, 0.0000000e+00,\n",
       "        0.0000000e+00, 0.0000000e+00, 0.0000000e+00, 0.0000000e+00,\n",
       "        0.0000000e+00, 0.0000000e+00, 0.0000000e+00, 0.0000000e+00,\n",
       "        0.0000000e+00, 0.0000000e+00, 0.0000000e+00, 0.0000000e+00,\n",
       "        0.0000000e+00, 0.0000000e+00, 0.0000000e+00, 0.0000000e+00,\n",
       "        0.0000000e+00, 0.0000000e+00, 0.0000000e+00, 0.0000000e+00,\n",
       "        0.0000000e+00, 0.0000000e+00, 0.0000000e+00, 0.0000000e+00,\n",
       "        0.0000000e+00, 0.0000000e+00, 0.0000000e+00, 0.0000000e+00,\n",
       "        0.0000000e+00, 0.0000000e+00, 0.0000000e+00, 0.0000000e+00,\n",
       "        0.0000000e+00, 0.0000000e+00, 0.0000000e+00, 0.0000000e+00,\n",
       "        0.0000000e+00, 0.0000000e+00, 0.0000000e+00, 0.0000000e+00,\n",
       "        0.0000000e+00, 0.0000000e+00, 0.0000000e+00, 0.0000000e+00,\n",
       "        0.0000000e+00, 0.0000000e+00, 0.0000000e+00, 0.0000000e+00,\n",
       "        0.0000000e+00, 0.0000000e+00, 0.0000000e+00, 0.0000000e+00,\n",
       "        0.0000000e+00, 0.0000000e+00, 0.0000000e+00, 0.0000000e+00,\n",
       "        0.0000000e+00, 0.0000000e+00, 0.0000000e+00, 0.0000000e+00,\n",
       "        0.0000000e+00, 0.0000000e+00, 0.0000000e+00, 0.0000000e+00,\n",
       "        0.0000000e+00, 0.0000000e+00, 0.0000000e+00, 0.0000000e+00,\n",
       "        0.0000000e+00, 0.0000000e+00, 0.0000000e+00, 0.0000000e+00,\n",
       "        0.0000000e+00, 0.0000000e+00, 0.0000000e+00, 0.0000000e+00,\n",
       "        0.0000000e+00, 0.0000000e+00, 0.0000000e+00, 0.0000000e+00,\n",
       "        0.0000000e+00, 0.0000000e+00, 0.0000000e+00, 0.0000000e+00,\n",
       "        0.0000000e+00, 0.0000000e+00, 0.0000000e+00, 0.0000000e+00,\n",
       "        0.0000000e+00, 0.0000000e+00, 0.0000000e+00, 0.0000000e+00,\n",
       "        0.0000000e+00, 0.0000000e+00, 0.0000000e+00, 0.0000000e+00,\n",
       "        0.0000000e+00, 0.0000000e+00, 0.0000000e+00, 0.0000000e+00,\n",
       "        0.0000000e+00, 0.0000000e+00, 0.0000000e+00, 0.0000000e+00,\n",
       "        0.0000000e+00, 0.0000000e+00, 0.0000000e+00, 0.0000000e+00,\n",
       "        0.0000000e+00, 0.0000000e+00, 0.0000000e+00, 0.0000000e+00,\n",
       "        0.0000000e+00, 0.0000000e+00, 0.0000000e+00, 0.0000000e+00,\n",
       "        0.0000000e+00, 0.0000000e+00, 0.0000000e+00, 0.0000000e+00,\n",
       "        0.0000000e+00, 0.0000000e+00, 0.0000000e+00, 0.0000000e+00,\n",
       "        0.0000000e+00, 0.0000000e+00, 0.0000000e+00, 0.0000000e+00,\n",
       "        0.0000000e+00, 0.0000000e+00, 0.0000000e+00, 0.0000000e+00,\n",
       "        0.0000000e+00, 0.0000000e+00, 0.0000000e+00, 0.0000000e+00]],\n",
       "      dtype=float32)"
      ]
     },
     "execution_count": 49,
     "metadata": {},
     "output_type": "execute_result"
    }
   ],
   "source": [
    "f['fjet_clus_E'][0:1]"
   ]
  },
  {
   "cell_type": "code",
   "execution_count": 34,
   "id": "50b30a5f-cf95-4b66-8576-8e773563e87b",
   "metadata": {},
   "outputs": [
    {
     "data": {
      "text/plain": [
       "<HDF5 dataset \"fjet_clus_E\": shape (5000000, 200), type \"<f4\">"
      ]
     },
     "execution_count": 34,
     "metadata": {},
     "output_type": "execute_result"
    }
   ],
   "source": [
    "f[\"fjet_clus_E\"]"
   ]
  },
  {
   "cell_type": "code",
   "execution_count": null,
   "id": "cba6afb4-6a63-44dc-ba78-efc4a013833d",
   "metadata": {},
   "outputs": [],
   "source": []
  }
 ],
 "metadata": {
  "kernelspec": {
   "display_name": "Python 3 (ipykernel)",
   "language": "python",
   "name": "python3"
  },
  "language_info": {
   "codemirror_mode": {
    "name": "ipython",
    "version": 3
   },
   "file_extension": ".py",
   "mimetype": "text/x-python",
   "name": "python",
   "nbconvert_exporter": "python",
   "pygments_lexer": "ipython3",
   "version": "3.8.5"
  }
 },
 "nbformat": 4,
 "nbformat_minor": 5
}
