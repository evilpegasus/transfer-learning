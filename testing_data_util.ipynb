{
 "cells": [
  {
   "cell_type": "code",
   "execution_count": 1,
   "id": "30a6c669-c429-45a0-9794-cff289a35c4b",
   "metadata": {},
   "outputs": [],
   "source": [
    "import sys\n",
    "import os\n",
    "os.environ[\"CUDA_VISIBLE_DEVICES\"] = \"1\"\n",
    "\n",
    "from typing import List\n",
    "import h5py\n",
    "from torch.utils.data import Dataset, DataLoader\n",
    "import numpy as np\n",
    "import preprocessing\n",
    "from tqdm import tqdm\n",
    "\n",
    "from data_utils import preprocess_data, H5Dataset"
   ]
  },
  {
   "cell_type": "code",
   "execution_count": 2,
   "id": "8ac5956f-bf95-4e18-8b53-cf1e0539d5f6",
   "metadata": {},
   "outputs": [],
   "source": [
    "train_dir = \"/global/ml4hep/spss/mfong/transfer_learning/delphes_train/\"\n",
    "train_dir_preprocess = \"/global/ml4hep/spss/mfong/transfer_learning/delphes_train_processed/\"\n",
    "# train_dir_preprocess = \"/clusterfs/ml4hep/mfong/delphes_train_preprocessed/\"\n",
    "train_filepaths = [train_dir + x for x in os.listdir(train_dir)]"
   ]
  },
  {
   "cell_type": "code",
   "execution_count": 3,
   "id": "49753ed9-ed57-4d2c-8973-7b892deb8b99",
   "metadata": {},
   "outputs": [
    {
     "name": "stderr",
     "output_type": "stream",
     "text": [
      "100%|██████████| 15/15 [00:00<00:00, 34952.53it/s]"
     ]
    },
    {
     "name": "stdout",
     "output_type": "stream",
     "text": [
      "Starting preprocessing on /global/ml4hep/spss/mfong/transfer_learning/delphes_train/train_10.h5\n",
      "/global/ml4hep/spss/mfong/transfer_learning/delphes_train_processed/preprocessed_train_10.h5 is already in target_dir, skipping this file\n",
      "Starting preprocessing on /global/ml4hep/spss/mfong/transfer_learning/delphes_train/train_5.h5\n",
      "/global/ml4hep/spss/mfong/transfer_learning/delphes_train_processed/preprocessed_train_5.h5 is already in target_dir, skipping this file\n",
      "Starting preprocessing on /global/ml4hep/spss/mfong/transfer_learning/delphes_train/train_0.h5\n",
      "/global/ml4hep/spss/mfong/transfer_learning/delphes_train_processed/preprocessed_train_0.h5 is already in target_dir, skipping this file\n",
      "Starting preprocessing on /global/ml4hep/spss/mfong/transfer_learning/delphes_train/train_8.h5\n",
      "/global/ml4hep/spss/mfong/transfer_learning/delphes_train_processed/preprocessed_train_8.h5 is already in target_dir, skipping this file\n",
      "Starting preprocessing on /global/ml4hep/spss/mfong/transfer_learning/delphes_train/train_14.h5\n",
      "/global/ml4hep/spss/mfong/transfer_learning/delphes_train_processed/preprocessed_train_14.h5 is already in target_dir, skipping this file\n",
      "Starting preprocessing on /global/ml4hep/spss/mfong/transfer_learning/delphes_train/train_4.h5\n",
      "/global/ml4hep/spss/mfong/transfer_learning/delphes_train_processed/preprocessed_train_4.h5 is already in target_dir, skipping this file\n",
      "Starting preprocessing on /global/ml4hep/spss/mfong/transfer_learning/delphes_train/train_1.h5\n",
      "/global/ml4hep/spss/mfong/transfer_learning/delphes_train_processed/preprocessed_train_1.h5 is already in target_dir, skipping this file\n",
      "Starting preprocessing on /global/ml4hep/spss/mfong/transfer_learning/delphes_train/train_6.h5\n",
      "/global/ml4hep/spss/mfong/transfer_learning/delphes_train_processed/preprocessed_train_6.h5 is already in target_dir, skipping this file\n",
      "Starting preprocessing on /global/ml4hep/spss/mfong/transfer_learning/delphes_train/train_12.h5\n",
      "/global/ml4hep/spss/mfong/transfer_learning/delphes_train_processed/preprocessed_train_12.h5 is already in target_dir, skipping this file\n",
      "Starting preprocessing on /global/ml4hep/spss/mfong/transfer_learning/delphes_train/train_7.h5\n",
      "/global/ml4hep/spss/mfong/transfer_learning/delphes_train_processed/preprocessed_train_7.h5 is already in target_dir, skipping this file\n",
      "Starting preprocessing on /global/ml4hep/spss/mfong/transfer_learning/delphes_train/train_9.h5\n",
      "/global/ml4hep/spss/mfong/transfer_learning/delphes_train_processed/preprocessed_train_9.h5 is already in target_dir, skipping this file\n",
      "Starting preprocessing on /global/ml4hep/spss/mfong/transfer_learning/delphes_train/train_2.h5\n",
      "/global/ml4hep/spss/mfong/transfer_learning/delphes_train_processed/preprocessed_train_2.h5 is already in target_dir, skipping this file\n",
      "Starting preprocessing on /global/ml4hep/spss/mfong/transfer_learning/delphes_train/train_13.h5\n",
      "/global/ml4hep/spss/mfong/transfer_learning/delphes_train_processed/preprocessed_train_13.h5 is already in target_dir, skipping this file\n",
      "Starting preprocessing on /global/ml4hep/spss/mfong/transfer_learning/delphes_train/train_11.h5\n",
      "/global/ml4hep/spss/mfong/transfer_learning/delphes_train_processed/preprocessed_train_11.h5 is already in target_dir, skipping this file\n",
      "Starting preprocessing on /global/ml4hep/spss/mfong/transfer_learning/delphes_train/train_3.h5\n",
      "/global/ml4hep/spss/mfong/transfer_learning/delphes_train_processed/preprocessed_train_3.h5 is already in target_dir, skipping this file\n"
     ]
    },
    {
     "name": "stderr",
     "output_type": "stream",
     "text": [
      "\n"
     ]
    }
   ],
   "source": [
    "preprocess_data(train_filepaths, train_dir_preprocess, force=False)\n",
    "train_preprocess_file_names = os.listdir(train_dir_preprocess)\n",
    "train_preprocess_filepaths = [train_dir_preprocess + name for name in train_preprocess_file_names]"
   ]
  },
  {
   "cell_type": "code",
   "execution_count": 4,
   "id": "bae474dc-747c-4f08-9194-417f1530ba6d",
   "metadata": {},
   "outputs": [],
   "source": [
    "dataset = H5Dataset(train_preprocess_filepaths, transform=None)"
   ]
  },
  {
   "cell_type": "code",
   "execution_count": 5,
   "id": "e01d83be-a435-4621-b344-3517bd3989c1",
   "metadata": {},
   "outputs": [],
   "source": [
    "dataloader = DataLoader(dataset, batch_size=256, shuffle=False)"
   ]
  },
  {
   "cell_type": "code",
   "execution_count": 6,
   "id": "39eaa246-fe79-428f-a984-eebaf438a844",
   "metadata": {},
   "outputs": [
    {
     "data": {
      "text/plain": [
       "71742220"
      ]
     },
     "execution_count": 6,
     "metadata": {},
     "output_type": "execute_result"
    }
   ],
   "source": [
    "len(dataset)"
   ]
  },
  {
   "cell_type": "code",
   "execution_count": 104,
   "id": "fc2c1f46-bf3c-4077-baca-06eb301def72",
   "metadata": {},
   "outputs": [],
   "source": [
    "x, y = next(iter(dataloader))"
   ]
  },
  {
   "cell_type": "code",
   "execution_count": 105,
   "id": "3adc023e-85e6-4fd9-b638-0dd77d799318",
   "metadata": {},
   "outputs": [],
   "source": [
    "# for x, y in dataloader:\n",
    "#     print(x.shape)\n",
    "#     print(y.shape)"
   ]
  },
  {
   "cell_type": "code",
   "execution_count": 106,
   "id": "cba6afb4-6a63-44dc-ba78-efc4a013833d",
   "metadata": {},
   "outputs": [
    {
     "data": {
      "text/plain": [
       "torch.Size([256, 200, 7])"
      ]
     },
     "execution_count": 106,
     "metadata": {},
     "output_type": "execute_result"
    }
   ],
   "source": [
    "x.shape"
   ]
  },
  {
   "cell_type": "code",
   "execution_count": 107,
   "id": "537970f4-de4f-4481-9eb6-007e4bfa7d6a",
   "metadata": {},
   "outputs": [
    {
     "data": {
      "text/plain": [
       "torch.Size([256])"
      ]
     },
     "execution_count": 107,
     "metadata": {},
     "output_type": "execute_result"
    }
   ],
   "source": [
    "y.shape"
   ]
  }
 ],
 "metadata": {
  "kernelspec": {
   "display_name": "Python 3 (ipykernel)",
   "language": "python",
   "name": "python3"
  },
  "language_info": {
   "codemirror_mode": {
    "name": "ipython",
    "version": 3
   },
   "file_extension": ".py",
   "mimetype": "text/x-python",
   "name": "python",
   "nbconvert_exporter": "python",
   "pygments_lexer": "ipython3",
   "version": "3.8.5"
  }
 },
 "nbformat": 4,
 "nbformat_minor": 5
}
