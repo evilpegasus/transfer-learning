{
 "cells": [
  {
   "cell_type": "code",
   "execution_count": 1,
   "id": "30a6c669-c429-45a0-9794-cff289a35c4b",
   "metadata": {},
   "outputs": [],
   "source": [
    "import sys\n",
    "import os\n",
    "os.environ[\"CUDA_VISIBLE_DEVICES\"] = \"0\"\n",
    "\n",
    "from typing import List\n",
    "import h5py\n",
    "from torch.utils.data import Dataset, DataLoader\n",
    "import numpy as np\n",
    "import preprocessing\n",
    "from tqdm import tqdm\n",
    "\n",
    "from data_utils import preprocess_data, H5Dataset"
   ]
  },
  {
   "cell_type": "code",
   "execution_count": 4,
   "id": "8ac5956f-bf95-4e18-8b53-cf1e0539d5f6",
   "metadata": {},
   "outputs": [],
   "source": [
    "# train_dir = \"/global/ml4hep/spss/mfong/transfer_learning/delphes_train/\"\n",
    "train_dir = \"/global/cfs/projectdirs/m3246/mingfong/transfer-learning/delphes_train_set/\"\n",
    "# train_dir_preprocess = \"/global/ml4hep/spss/mfong/transfer_learning/delphes_train_processed/\"\n",
    "train_dir_preprocess = \"/global/cfs/projectdirs/m3246/mingfong/transfer-learning/delphes_train_processed/\"\n",
    "# train_dir_preprocess = \"/clusterfs/ml4hep/mfong/delphes_train_preprocessed/\"\n",
    "train_filepaths = [train_dir + x for x in os.listdir(train_dir)]"
   ]
  },
  {
   "cell_type": "code",
   "execution_count": 5,
   "metadata": {},
   "outputs": [
    {
     "data": {
      "text/plain": [
       "['/global/cfs/projectdirs/m3246/mingfong/transfer-learning/delphes_train_set/train_6.h5',\n",
       " '/global/cfs/projectdirs/m3246/mingfong/transfer-learning/delphes_train_set/train_2.h5',\n",
       " '/global/cfs/projectdirs/m3246/mingfong/transfer-learning/delphes_train_set/train_8.h5',\n",
       " '/global/cfs/projectdirs/m3246/mingfong/transfer-learning/delphes_train_set/train_12.h5',\n",
       " '/global/cfs/projectdirs/m3246/mingfong/transfer-learning/delphes_train_set/train_4.h5',\n",
       " '/global/cfs/projectdirs/m3246/mingfong/transfer-learning/delphes_train_set/train_11.h5',\n",
       " '/global/cfs/projectdirs/m3246/mingfong/transfer-learning/delphes_train_set/train_5.h5',\n",
       " '/global/cfs/projectdirs/m3246/mingfong/transfer-learning/delphes_train_set/train_7.h5',\n",
       " '/global/cfs/projectdirs/m3246/mingfong/transfer-learning/delphes_train_set/train_14.h5',\n",
       " '/global/cfs/projectdirs/m3246/mingfong/transfer-learning/delphes_train_set/train_9.h5',\n",
       " '/global/cfs/projectdirs/m3246/mingfong/transfer-learning/delphes_train_set/train_3.h5',\n",
       " '/global/cfs/projectdirs/m3246/mingfong/transfer-learning/delphes_train_set/train_0.h5',\n",
       " '/global/cfs/projectdirs/m3246/mingfong/transfer-learning/delphes_train_set/train_1.h5',\n",
       " '/global/cfs/projectdirs/m3246/mingfong/transfer-learning/delphes_train_set/train_13.h5',\n",
       " '/global/cfs/projectdirs/m3246/mingfong/transfer-learning/delphes_train_set/train_10.h5']"
      ]
     },
     "execution_count": 5,
     "metadata": {},
     "output_type": "execute_result"
    }
   ],
   "source": [
    "train_filepaths"
   ]
  },
  {
   "cell_type": "code",
   "execution_count": 7,
   "id": "49753ed9-ed57-4d2c-8973-7b892deb8b99",
   "metadata": {},
   "outputs": [
    {
     "name": "stderr",
     "output_type": "stream",
     "text": [
      "  0%|          | 0/15 [00:00<?, ?it/s]"
     ]
    },
    {
     "name": "stdout",
     "output_type": "stream",
     "text": [
      "Starting preprocessing on /global/cfs/projectdirs/m3246/mingfong/transfer-learning/delphes_train_set/train_6.h5\n",
      "Working on /global/cfs/projectdirs/m3246/mingfong/transfer-learning/delphes_train_set/train_6.h5\n"
     ]
    },
    {
     "name": "stderr",
     "output_type": "stream",
     "text": [
      "/global/u2/m/mingfong/git/transfer-learning/preprocessing.py:90: RuntimeWarning: divide by zero encountered in log\n",
      "  log_pt = np.log(pt)\n",
      "/global/u2/m/mingfong/git/transfer-learning/preprocessing.py:91: RuntimeWarning: divide by zero encountered in log\n",
      "  log_energy = np.log(energy)\n",
      "/global/u2/m/mingfong/git/transfer-learning/preprocessing.py:98: RuntimeWarning: divide by zero encountered in log\n",
      "  lognorm_pt = np.log(pt / sum_pt[:,np.newaxis])\n"
     ]
    },
    {
     "ename": "",
     "evalue": "",
     "output_type": "error",
     "traceback": [
      "\u001b[1;31mThe Kernel crashed while executing code in the the current cell or a previous cell. Please review the code in the cell(s) to identify a possible cause of the failure. Click <a href='https://aka.ms/vscodeJupyterKernelCrash'>here</a> for more info. View Jupyter <a href='command:jupyter.viewOutput'>log</a> for further details."
     ]
    }
   ],
   "source": [
    "preprocess_data(train_filepaths, train_dir_preprocess, force=False)\n",
    "train_preprocess_file_names = os.listdir(train_dir_preprocess)\n",
    "train_preprocess_filepaths = [train_dir_preprocess + name for name in train_preprocess_file_names]"
   ]
  },
  {
   "cell_type": "code",
   "execution_count": 14,
   "id": "bae474dc-747c-4f08-9194-417f1530ba6d",
   "metadata": {},
   "outputs": [],
   "source": [
    "dataset = H5Dataset(train_preprocess_filepaths, transform=None)"
   ]
  },
  {
   "cell_type": "code",
   "execution_count": 15,
   "id": "e01d83be-a435-4621-b344-3517bd3989c1",
   "metadata": {},
   "outputs": [],
   "source": [
    "dataloader = DataLoader(dataset, batch_size=256, shuffle=False)"
   ]
  },
  {
   "cell_type": "code",
   "execution_count": 17,
   "id": "39eaa246-fe79-428f-a984-eebaf438a844",
   "metadata": {},
   "outputs": [
    {
     "data": {
      "text/plain": [
       "71742220"
      ]
     },
     "execution_count": 17,
     "metadata": {},
     "output_type": "execute_result"
    }
   ],
   "source": [
    "len(dataset)"
   ]
  },
  {
   "cell_type": "code",
   "execution_count": 18,
   "id": "2b934390",
   "metadata": {},
   "outputs": [
    {
     "name": "stdout",
     "output_type": "stream",
     "text": [
      "(42233012, 200)\n"
     ]
    }
   ],
   "source": [
    "with h5py.File(\"/global/ml4hep/spss/mfong/transfer_learning/fullsim_train/train.h5\", \"r\") as f:\n",
    "  print(f[\"fjet_clus_E\"].shape)"
   ]
  },
  {
   "cell_type": "code",
   "execution_count": 22,
   "id": "032734fd",
   "metadata": {},
   "outputs": [],
   "source": [
    "data_iterator = iter(dataloader)"
   ]
  },
  {
   "cell_type": "code",
   "execution_count": 27,
   "id": "fc2c1f46-bf3c-4077-baca-06eb301def72",
   "metadata": {},
   "outputs": [
    {
     "name": "stderr",
     "output_type": "stream",
     "text": [
      "100%|██████████| 1024/1024 [07:10<00:00,  2.38it/s]\n"
     ]
    }
   ],
   "source": [
    "for i in tqdm(range(1024)):\n",
    "  x, y = next(data_iterator)"
   ]
  },
  {
   "cell_type": "code",
   "execution_count": 24,
   "id": "cba6afb4-6a63-44dc-ba78-efc4a013833d",
   "metadata": {},
   "outputs": [
    {
     "data": {
      "text/plain": [
       "torch.Size([256, 1400])"
      ]
     },
     "execution_count": 24,
     "metadata": {},
     "output_type": "execute_result"
    }
   ],
   "source": [
    "x.shape"
   ]
  },
  {
   "cell_type": "code",
   "execution_count": 25,
   "id": "537970f4-de4f-4481-9eb6-007e4bfa7d6a",
   "metadata": {},
   "outputs": [
    {
     "data": {
      "text/plain": [
       "torch.Size([256])"
      ]
     },
     "execution_count": 25,
     "metadata": {},
     "output_type": "execute_result"
    }
   ],
   "source": [
    "y.shape"
   ]
  },
  {
   "cell_type": "code",
   "execution_count": 28,
   "id": "77d40d31",
   "metadata": {},
   "outputs": [],
   "source": [
    "q = np.empty((16000000, 600), dtype=np.float32)"
   ]
  },
  {
   "cell_type": "code",
   "execution_count": null,
   "id": "0307fa4a",
   "metadata": {},
   "outputs": [],
   "source": [
    "# fullsim dataset\n",
    "def FullSimDataset(Dataset):\n",
    "    def __init__(self, filepath: str, transform=None):\n",
    "        self.filepath = filepath\n",
    "        self.transform = transform\n",
    "        with h5py.File(self.filepath, \"r\") as f:\n",
    "            self.x = f['features'][()]\n",
    "            self.y = f['targets'][()]"
   ]
  },
  {
   "cell_type": "code",
   "execution_count": 10,
   "id": "1398b0a9",
   "metadata": {},
   "outputs": [
    {
     "name": "stdout",
     "output_type": "stream",
     "text": [
      "[-0.303  -0.3018 -0.3107 -0.303  -0.3039 -0.3008 -0.3002 -0.3056 -0.3077\n",
      " -0.3021 -0.3167 -0.3919 -0.3069 -0.3122 -0.3345 -0.5938 -0.5504 -0.4069\n",
      " -0.1764 -0.002   0.      0.      0.      0.      0.      0.      0.\n",
      "  0.      0.      0.      0.      0.      0.      0.      0.      0.\n",
      "  0.      0.      0.      0.      0.      0.      0.      0.      0.\n",
      "  0.      0.      0.      0.      0.      0.      0.      0.      0.\n",
      "  0.      0.      0.      0.      0.      0.      0.      0.      0.\n",
      "  0.      0.      0.      0.      0.      0.      0.      0.      0.\n",
      "  0.      0.      0.      0.      0.      0.      0.      0.      0.\n",
      "  0.      0.      0.      0.      0.      0.      0.      0.      0.\n",
      "  0.      0.      0.      0.      0.      0.      0.      0.      0.\n",
      "  0.      0.      0.      0.      0.      0.      0.      0.      0.\n",
      "  0.      0.      0.      0.      0.      0.      0.      0.      0.\n",
      "  0.      0.      0.      0.      0.      0.      0.      0.      0.\n",
      "  0.      0.      0.      0.      0.      0.      0.      0.      0.\n",
      "  0.      0.      0.      0.      0.      0.      0.      0.      0.\n",
      "  0.      0.      0.      0.      0.      0.      0.      0.      0.\n",
      "  0.      0.      0.      0.      0.      0.      0.      0.      0.\n",
      "  0.      0.      0.      0.      0.      0.      0.      0.      0.\n",
      "  0.      0.      0.      0.      0.      0.      0.      0.      0.\n",
      "  0.      0.      0.      0.      0.      0.      0.      0.      0.\n",
      "  0.      0.      0.      0.      0.      0.      0.      0.      0.\n",
      "  0.      0.    ]\n"
     ]
    }
   ],
   "source": [
    "with h5py.File(\"/clusterfs/ml4hep/mfong/transfer_learning/delphes_train.h5\", \"r\") as f:\n",
    "    # ['fjet_clus_eta', 'fjet_clus_phi', 'fjet_clus_pt', 'fjet_clus_E']\n",
    "    print(f[\"fjet_clus_eta\"][0])"
   ]
  },
  {
   "cell_type": "code",
   "execution_count": null,
   "id": "0c3b02c2",
   "metadata": {},
   "outputs": [],
   "source": []
  }
 ],
 "metadata": {
  "kernelspec": {
   "display_name": "Python 3 (ipykernel)",
   "language": "python",
   "name": "python3"
  },
  "language_info": {
   "codemirror_mode": {
    "name": "ipython",
    "version": 3
   },
   "file_extension": ".py",
   "mimetype": "text/x-python",
   "name": "python",
   "nbconvert_exporter": "python",
   "pygments_lexer": "ipython3",
   "version": "3.11.5"
  }
 },
 "nbformat": 4,
 "nbformat_minor": 5
}
