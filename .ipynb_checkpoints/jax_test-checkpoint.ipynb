{
 "cells": [
  {
   "cell_type": "code",
   "execution_count": 11,
   "metadata": {},
   "outputs": [
    {
     "name": "stdout",
     "output_type": "stream",
     "text": [
      "JAX version 0.4.8\n",
      "Haiku version 0.0.9\n"
     ]
    }
   ],
   "source": [
    "import sys\n",
    "import os\n",
    "os.environ[\"CUDA_VISIBLE_DEVICES\"] = \"0\"\n",
    "XLA_PYTHON_CLIENT_PREALLOCATE=False\n",
    "# XLA_PYTHON_CLIENT_MEM_FRACTION=.50\n",
    "\n",
    "from typing import NamedTuple\n",
    "import h5py\n",
    "import numpy as np\n",
    "import jax\n",
    "import jax.numpy as jnp\n",
    "import optax\n",
    "import haiku as hk\n",
    "import pandas as pd\n",
    "import matplotlib.pyplot as plt\n",
    "from sklearn.preprocessing import StandardScaler\n",
    "\n",
    "np.random.seed(8)\n",
    "print(\"JAX version {}\".format(jax.__version__))\n",
    "print(\"Haiku version {}\".format(hk.__version__))"
   ]
  },
  {
   "cell_type": "code",
   "execution_count": 15,
   "metadata": {},
   "outputs": [
    {
     "data": {
      "text/plain": [
       "[StreamExecutorGpuDevice(id=0, process_index=0, slice_index=0)]"
      ]
     },
     "execution_count": 15,
     "metadata": {},
     "output_type": "execute_result"
    }
   ],
   "source": [
    "jax.local_devices()"
   ]
  },
  {
   "cell_type": "code",
   "execution_count": 13,
   "metadata": {},
   "outputs": [],
   "source": [
    "x = jax.device_put(jnp.array([1,2,3,4,5,6,7,8]))"
   ]
  },
  {
   "cell_type": "code",
   "execution_count": 14,
   "metadata": {},
   "outputs": [],
   "source": [
    "key = jax.random.PRNGKey(8)"
   ]
  },
  {
   "cell_type": "markdown",
   "metadata": {},
   "source": [
    "## Read data"
   ]
  },
  {
   "cell_type": "code",
   "execution_count": 5,
   "metadata": {},
   "outputs": [],
   "source": [
    "# read data\n",
    "f = h5py.File('/clusterfs/ml4hep/mfong/transfer_learning/delphes_train.h5', 'r')\n",
    "f2 = h5py.File('/clusterfs/ml4hep/mfong/transfer_learning/delphes_test.h5', 'r')"
   ]
  },
  {
   "cell_type": "code",
   "execution_count": 6,
   "metadata": {},
   "outputs": [
    {
     "name": "stdout",
     "output_type": "stream",
     "text": [
      "fjet_clus_E (4000068, 200)\n",
      "fjet_clus_eta (4000068, 200)\n",
      "fjet_clus_phi (4000068, 200)\n",
      "fjet_clus_pt (4000068, 200)\n",
      "fjet_eta (4000068,)\n",
      "fjet_m (4000068,)\n",
      "fjet_phi (4000068,)\n",
      "fjet_pt (4000068,)\n",
      "labels (4000068,)\n"
     ]
    }
   ],
   "source": [
    "feature_keys = ['fjet_clus_eta', 'fjet_clus_phi', 'fjet_clus_pt']\n",
    "for k in f.keys():\n",
    "    print(k, f[k].shape)"
   ]
  },
  {
   "cell_type": "code",
   "execution_count": 7,
   "metadata": {},
   "outputs": [
    {
     "data": {
      "text/plain": [
       "(4000068, 600)"
      ]
     },
     "execution_count": 7,
     "metadata": {},
     "output_type": "execute_result"
    }
   ],
   "source": [
    "x = np.concatenate([f[k] for k in feature_keys], axis=1)\n",
    "x.shape"
   ]
  },
  {
   "cell_type": "code",
   "execution_count": 8,
   "metadata": {},
   "outputs": [],
   "source": [
    "scaler = StandardScaler()\n",
    "scaler.fit(x)\n",
    "\n",
    "x = scaler.transform(x)"
   ]
  },
  {
   "cell_type": "code",
   "execution_count": 9,
   "metadata": {},
   "outputs": [
    {
     "data": {
      "text/plain": [
       "(4000068,)"
      ]
     },
     "execution_count": 9,
     "metadata": {},
     "output_type": "execute_result"
    }
   ],
   "source": [
    "y = f[\"labels\"][:]\n",
    "y.shape"
   ]
  },
  {
   "cell_type": "markdown",
   "metadata": {},
   "source": [
    "## MLP starter code\n",
    "https://www.kaggle.com/code/alembcke/titanic-multi-layer-perceptron-using-haiku-jax"
   ]
  },
  {
   "cell_type": "code",
   "execution_count": 67,
   "metadata": {},
   "outputs": [],
   "source": [
    "class TrainingState(NamedTuple):\n",
    "    params: hk.Params\n",
    "    # avg_params: hk.Params\n",
    "    opt_state: optax.OptState"
   ]
  },
  {
   "cell_type": "code",
   "execution_count": 68,
   "metadata": {},
   "outputs": [],
   "source": [
    "def net_fn(x: jax.Array) -> jax.Array:\n",
    "  \"\"\"Standard MLP network.\"\"\"\n",
    "  mlp = hk.Sequential([\n",
    "      hk.Flatten(),\n",
    "      hk.Linear(64), jax.nn.relu,\n",
    "      hk.Linear(8), jax.nn.relu,\n",
    "      hk.Linear(1),\n",
    "  ])\n",
    "  return mlp(x)"
   ]
  },
  {
   "cell_type": "code",
   "execution_count": 77,
   "metadata": {},
   "outputs": [],
   "source": [
    "network = hk.without_apply_rng(hk.transform(net_fn))\n",
    "optimiser = optax.adam(1e-2)"
   ]
  },
  {
   "cell_type": "code",
   "execution_count": 78,
   "metadata": {},
   "outputs": [],
   "source": [
    "def loss(params: hk.Params, features: jnp.ndarray, labels: jnp.ndarray):\n",
    "    \"\"\"Loss function, using Sigmoid Binary Cross Entropy loss.\"\"\"\n",
    "    logits = network.apply(params, features)\n",
    "    return optax.sigmoid_binary_cross_entropy(logits, labels).sum(axis=-1).mean()"
   ]
  },
  {
   "cell_type": "code",
   "execution_count": 79,
   "metadata": {},
   "outputs": [],
   "source": [
    "@jax.jit\n",
    "def evaluate(params: hk.Params, features: jnp.ndarray, labels: jnp.ndarray):\n",
    "    \"\"\"Checks the accuracy of predictions compared to labels.\"\"\"\n",
    "    logits = network.apply(params, features)\n",
    "    predictions = jnp.around(logits, 0)\n",
    "    return jnp.mean(predictions == labels)\n",
    "\n",
    "@jax.jit\n",
    "def update(state: TrainingState, features: jnp.ndarray, labels: jnp.ndarray) -> TrainingState:\n",
    "    \"\"\"Learning rule (stochastic gradient descent).\"\"\"\n",
    "    grads = jax.grad(loss)(state.params, features, labels)\n",
    "    updates, opt_state = optimiser.update(grads, state.opt_state)\n",
    "    params = optax.apply_updates(state.params, updates)\n",
    "    # Compute avg_params, the exponential moving average of the \"live\" params.\n",
    "    # We use this only for evaluation (cf. https://doi.org/10.1137/0330046).\n",
    "    # avg_params = optax.incremental_update(params, state.avg_params, step_size=0.001)\n",
    "    # return TrainingState(params, avg_params, opt_state)\n",
    "    return TrainingState(params, opt_state)"
   ]
  },
  {
   "cell_type": "code",
   "execution_count": 80,
   "metadata": {},
   "outputs": [],
   "source": [
    "initial_params = network.init(jax.random.PRNGKey(seed=8), x[0])\n",
    "initial_opt_state = optimiser.init(initial_params)\n",
    "state = TrainingState(initial_params, initial_opt_state)\n",
    "# state = TrainingState(initial_params, initial_params, initial_opt_state)"
   ]
  },
  {
   "cell_type": "code",
   "execution_count": 81,
   "metadata": {},
   "outputs": [
    {
     "name": "stdout",
     "output_type": "stream",
     "text": [
      "+----------------------------+--------------------------------------------------------------------------------+-----------------+----------+----------+---------------+---------------+\n",
      "| Module                     | Config                                                                         | Module params   | Input    | Output   |   Param count |   Param bytes |\n",
      "+============================+================================================================================+=================+==========+==========+===============+===============+\n",
      "| sequential (Sequential)    | Sequential(                                                                    |                 | f32[600] | f32[1]   |        38,993 |     155.97 KB |\n",
      "|                            |     layers=[Flatten(),                                                         |                 |          |          |               |               |\n",
      "|                            |             Linear(output_size=64),                                            |                 |          |          |               |               |\n",
      "|                            |             <jax._src.custom_derivatives.custom_jvp object at 0x7f1f4abafa60>, |                 |          |          |               |               |\n",
      "|                            |             Linear(output_size=8),                                             |                 |          |          |               |               |\n",
      "|                            |             <jax._src.custom_derivatives.custom_jvp object at 0x7f1f4abafa60>, |                 |          |          |               |               |\n",
      "|                            |             Linear(output_size=1)],                                            |                 |          |          |               |               |\n",
      "|                            | )                                                                              |                 |          |          |               |               |\n",
      "+----------------------------+--------------------------------------------------------------------------------+-----------------+----------+----------+---------------+---------------+\n",
      "| flatten (Flatten)          | Flatten()                                                                      |                 | f32[600] | f32[600] |             0 |        0.00 B |\n",
      "|  └ sequential (Sequential) |                                                                                |                 |          |          |               |               |\n",
      "+----------------------------+--------------------------------------------------------------------------------+-----------------+----------+----------+---------------+---------------+\n",
      "| linear (Linear)            | Linear(output_size=64)                                                         | w: f32[600,64]  | f32[600] | f32[64]  |        38,464 |     153.86 KB |\n",
      "|  └ sequential (Sequential) |                                                                                | b: f32[64]      |          |          |               |               |\n",
      "+----------------------------+--------------------------------------------------------------------------------+-----------------+----------+----------+---------------+---------------+\n",
      "| linear_1 (Linear)          | Linear(output_size=8)                                                          | w: f32[64,8]    | f32[64]  | f32[8]   |           520 |       2.08 KB |\n",
      "|  └ sequential (Sequential) |                                                                                | b: f32[8]       |          |          |               |               |\n",
      "+----------------------------+--------------------------------------------------------------------------------+-----------------+----------+----------+---------------+---------------+\n",
      "| linear_2 (Linear)          | Linear(output_size=1)                                                          | w: f32[8,1]     | f32[8]   | f32[1]   |             9 |       36.00 B |\n",
      "|  └ sequential (Sequential) |                                                                                | b: f32[1]       |          |          |               |               |\n",
      "+----------------------------+--------------------------------------------------------------------------------+-----------------+----------+----------+---------------+---------------+\n"
     ]
    }
   ],
   "source": [
    "print(hk.experimental.tabulate(network)(x[0]))"
   ]
  },
  {
   "cell_type": "code",
   "execution_count": 84,
   "metadata": {
    "scrolled": true,
    "tags": []
   },
   "outputs": [
    {
     "name": "stdout",
     "output_type": "stream",
     "text": [
      "{'step': 0, 'accuracy': '0.501'}\n",
      "{'step': 10, 'accuracy': '0.501'}\n",
      "{'step': 20, 'accuracy': '0.501'}\n",
      "{'step': 30, 'accuracy': '0.501'}\n",
      "{'step': 40, 'accuracy': '0.501'}\n",
      "{'step': 50, 'accuracy': '0.501'}\n",
      "{'step': 60, 'accuracy': '0.501'}\n",
      "{'step': 70, 'accuracy': '0.501'}\n",
      "{'step': 80, 'accuracy': '0.501'}\n",
      "{'step': 90, 'accuracy': '0.501'}\n"
     ]
    }
   ],
   "source": [
    "for step in range(100):\n",
    "    if step % 10 == 0:\n",
    "        accuracy = np.array(evaluate(state.params, x[:10000], y[:10000])).item()\n",
    "        print({\"step\": step, \"accuracy\": f\"{accuracy:.3f}\"})\n",
    "\n",
    "    # Do SGD on training examples.\n",
    "    state = update(state, x[:10000], y[:10000])"
   ]
  },
  {
   "cell_type": "code",
   "execution_count": null,
   "metadata": {},
   "outputs": [],
   "source": []
  },
  {
   "cell_type": "code",
   "execution_count": null,
   "metadata": {},
   "outputs": [],
   "source": []
  },
  {
   "cell_type": "code",
   "execution_count": null,
   "metadata": {},
   "outputs": [],
   "source": []
  },
  {
   "cell_type": "code",
   "execution_count": null,
   "metadata": {},
   "outputs": [],
   "source": []
  },
  {
   "cell_type": "code",
   "execution_count": null,
   "metadata": {},
   "outputs": [],
   "source": []
  },
  {
   "cell_type": "code",
   "execution_count": null,
   "metadata": {},
   "outputs": [],
   "source": []
  },
  {
   "cell_type": "code",
   "execution_count": null,
   "metadata": {},
   "outputs": [],
   "source": []
  }
 ],
 "metadata": {
  "kernelspec": {
   "display_name": "Python 3 (ipykernel)",
   "language": "python",
   "name": "python3"
  },
  "language_info": {
   "codemirror_mode": {
    "name": "ipython",
    "version": 3
   },
   "file_extension": ".py",
   "mimetype": "text/x-python",
   "name": "python",
   "nbconvert_exporter": "python",
   "pygments_lexer": "ipython3",
   "version": "3.8.5"
  },
  "toc-autonumbering": false
 },
 "nbformat": 4,
 "nbformat_minor": 4
}
