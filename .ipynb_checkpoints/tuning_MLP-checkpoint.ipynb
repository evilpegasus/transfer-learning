{
 "cells": [
  {
   "cell_type": "markdown",
   "id": "5d0e987c-ecd9-4d31-8598-af802e74bf85",
   "metadata": {},
   "source": [
    "# Fine tuning the MLP from fastsim to fullsim\n",
    "Run this after pretrain_MLP.ipynb"
   ]
  },
  {
   "cell_type": "code",
   "execution_count": 22,
   "id": "f2ea0cae-701e-4b60-9cbe-0a774472c7e0",
   "metadata": {},
   "outputs": [
    {
     "name": "stdout",
     "output_type": "stream",
     "text": [
      "[PhysicalDevice(name='/physical_device:GPU:0', device_type='GPU')]\n"
     ]
    }
   ],
   "source": [
    "import sys\n",
    "import os\n",
    "import glob\n",
    "os.environ[\"CUDA_VISIBLE_DEVICES\"] = \"1\"\n",
    "\n",
    "from tqdm import tqdm\n",
    "import h5py\n",
    "import numpy as np\n",
    "import pandas as pd\n",
    "import matplotlib.pyplot as plt\n",
    "from sklearn.preprocessing import StandardScaler\n",
    "\n",
    "import tensorflow as tf\n",
    "from tensorflow import keras\n",
    "from tensorflow.keras.models import Sequential\n",
    "from tensorflow.keras.layers import Dense\n",
    "from tensorflow.keras import initializers\n",
    "\n",
    "import wandb\n",
    "from wandb.keras import WandbCallback\n",
    "\n",
    "np.random.seed(8)\n",
    "tf.random.set_seed(8)\n",
    "\n",
    "physical_devices = tf.config.list_physical_devices('GPU')\n",
    "print(physical_devices)\n",
    "tf.config.experimental.set_memory_growth(physical_devices[0], True)"
   ]
  },
  {
   "cell_type": "code",
   "execution_count": 2,
   "id": "2de50f24-3b5a-4c73-b3c5-f5d1fdbad0af",
   "metadata": {},
   "outputs": [],
   "source": [
    "f_full_train = h5py.File(\"/global/ml4hep/spss/mfong/transfer_learning/train.h5\", 'r')\n",
    "f_full_test = h5py.File(\"/global/ml4hep/spss/mfong/transfer_learning/test.h5\", 'r')"
   ]
  },
  {
   "cell_type": "code",
   "execution_count": 9,
   "id": "d7f70538-2e5f-4a10-9310-74cab2527f90",
   "metadata": {},
   "outputs": [
    {
     "name": "stdout",
     "output_type": "stream",
     "text": [
      "Fullsim Train\n",
      "fjet_clus_eta (42233012, 200)\n",
      "fjet_clus_phi (42233012, 200)\n",
      "fjet_clus_pt (42233012, 200)\n",
      "Fullsim Test\n",
      "fjet_clus_eta (2484117, 200)\n",
      "fjet_clus_phi (2484117, 200)\n",
      "fjet_clus_pt (2484117, 200)\n"
     ]
    }
   ],
   "source": [
    "feature_keys = ['fjet_clus_eta', 'fjet_clus_phi', 'fjet_clus_pt']\n",
    "print(\"Fullsim Train\")\n",
    "for k in feature_keys:\n",
    "    print(k, f_full_train[k].shape)\n",
    "print(\"Fullsim Test\")\n",
    "for k in feature_keys:\n",
    "    print(k, f_full_test[k].shape)"
   ]
  },
  {
   "cell_type": "code",
   "execution_count": 14,
   "id": "641e5dc8-040d-4bb4-9da3-ab96cb1f7545",
   "metadata": {},
   "outputs": [
    {
     "data": {
      "text/plain": [
       "(42233012, 600)"
      ]
     },
     "execution_count": 14,
     "metadata": {},
     "output_type": "execute_result"
    }
   ],
   "source": [
    "num_samples = len(f_full_train[\"labels\"])\n",
    "x_train = np.concatenate([f_full_train[k][:num_samples] for k in feature_keys], axis=1)\n",
    "x_train.shape"
   ]
  },
  {
   "cell_type": "code",
   "execution_count": 15,
   "id": "0f234aa1-939a-49a1-b52b-01771dc66e56",
   "metadata": {},
   "outputs": [
    {
     "data": {
      "text/plain": [
       "(42233012,)"
      ]
     },
     "execution_count": 15,
     "metadata": {},
     "output_type": "execute_result"
    }
   ],
   "source": [
    "y_train = f_full_train[\"labels\"][:num_samples]\n",
    "y_train.shape"
   ]
  },
  {
   "cell_type": "code",
   "execution_count": 16,
   "id": "2e0f07b1-b03c-4b57-a623-ad0a15cb0482",
   "metadata": {},
   "outputs": [
    {
     "data": {
      "text/plain": [
       "(2484117, 600)"
      ]
     },
     "execution_count": 16,
     "metadata": {},
     "output_type": "execute_result"
    }
   ],
   "source": [
    "x_test = np.concatenate([f_full_test[k][:num_samples] for k in feature_keys], axis=1)\n",
    "x_test.shape"
   ]
  },
  {
   "cell_type": "code",
   "execution_count": 17,
   "id": "41365ffd-e5a6-430e-adb4-2588e02e0ee6",
   "metadata": {},
   "outputs": [
    {
     "data": {
      "text/plain": [
       "(2484117,)"
      ]
     },
     "execution_count": 17,
     "metadata": {},
     "output_type": "execute_result"
    }
   ],
   "source": [
    "y_test = f_full_test[\"labels\"][:num_samples]\n",
    "y_test.shape"
   ]
  },
  {
   "cell_type": "code",
   "execution_count": 18,
   "id": "29516897-e0e0-4455-8a86-0398efd1fe71",
   "metadata": {},
   "outputs": [],
   "source": [
    "scaler = StandardScaler()\n",
    "scaler.fit(x_train)\n",
    "\n",
    "x_train = scaler.transform(x_train, copy=False)\n",
    "x_test = scaler.transform(x_test, copy=False)"
   ]
  },
  {
   "cell_type": "code",
   "execution_count": 30,
   "id": "22217273-b633-48d6-88cd-a0d470f75ab4",
   "metadata": {},
   "outputs": [],
   "source": [
    "os.environ[\"WANDB_NOTEBOOK_NAME\"] = \"tuning_MLP.ipynb\""
   ]
  },
  {
   "cell_type": "code",
   "execution_count": null,
   "id": "7d7dfa54-b376-4481-8d12-742797797c05",
   "metadata": {},
   "outputs": [
    {
     "name": "stdout",
     "output_type": "stream",
     "text": [
      "Starting tuning with 0M rows\n"
     ]
    },
    {
     "name": "stderr",
     "output_type": "stream",
     "text": [
      "\u001b[34m\u001b[1mwandb\u001b[0m: Currently logged in as: \u001b[33mmingfong\u001b[0m. Use \u001b[1m`wandb login --relogin`\u001b[0m to force relogin\n"
     ]
    },
    {
     "data": {
      "text/html": [
       "wandb version 0.15.1 is available!  To upgrade, please run:\n",
       " $ pip install wandb --upgrade"
      ],
      "text/plain": [
       "<IPython.core.display.HTML object>"
      ]
     },
     "metadata": {},
     "output_type": "display_data"
    },
    {
     "data": {
      "text/html": [
       "Tracking run with wandb version 0.15.0"
      ],
      "text/plain": [
       "<IPython.core.display.HTML object>"
      ]
     },
     "metadata": {},
     "output_type": "display_data"
    },
    {
     "data": {
      "text/html": [
       "Run data is saved locally in <code>/global/home/users/mfong/git/transfer-learning/wandb/run-20230504_162439-wuhnsyry</code>"
      ],
      "text/plain": [
       "<IPython.core.display.HTML object>"
      ]
     },
     "metadata": {},
     "output_type": "display_data"
    },
    {
     "data": {
      "text/html": [
       "Syncing run <strong><a href='https://wandb.ai/mingfong/fullsim_MLP/runs/wuhnsyry' target=\"_blank\">fullsim_MLP_pretrain_0M_rows</a></strong> to <a href='https://wandb.ai/mingfong/fullsim_MLP' target=\"_blank\">Weights & Biases</a> (<a href='https://wandb.me/run' target=\"_blank\">docs</a>)<br/>"
      ],
      "text/plain": [
       "<IPython.core.display.HTML object>"
      ]
     },
     "metadata": {},
     "output_type": "display_data"
    },
    {
     "data": {
      "text/html": [
       " View project at <a href='https://wandb.ai/mingfong/fullsim_MLP' target=\"_blank\">https://wandb.ai/mingfong/fullsim_MLP</a>"
      ],
      "text/plain": [
       "<IPython.core.display.HTML object>"
      ]
     },
     "metadata": {},
     "output_type": "display_data"
    },
    {
     "data": {
      "text/html": [
       " View run at <a href='https://wandb.ai/mingfong/fullsim_MLP/runs/wuhnsyry' target=\"_blank\">https://wandb.ai/mingfong/fullsim_MLP/runs/wuhnsyry</a>"
      ],
      "text/plain": [
       "<IPython.core.display.HTML object>"
      ]
     },
     "metadata": {},
     "output_type": "display_data"
    },
    {
     "name": "stderr",
     "output_type": "stream",
     "text": [
      "2023-05-04 16:24:54.240678: I tensorflow/core/platform/cpu_feature_guard.cc:143] Your CPU supports instructions that this TensorFlow binary was not compiled to use: SSE4.1 SSE4.2 AVX AVX2 FMA\n",
      "2023-05-04 16:24:54.311381: I tensorflow/core/platform/profile_utils/cpu_utils.cc:102] CPU Frequency: 2994330000 Hz\n",
      "2023-05-04 16:24:54.313065: I tensorflow/compiler/xla/service/service.cc:168] XLA service 0x55e30d1e8710 initialized for platform Host (this does not guarantee that XLA will be used). Devices:\n",
      "2023-05-04 16:24:54.313115: I tensorflow/compiler/xla/service/service.cc:176]   StreamExecutor device (0): Host, Default Version\n",
      "2023-05-04 16:24:54.430480: I tensorflow/compiler/xla/service/service.cc:168] XLA service 0x55e30c4e70b0 initialized for platform CUDA (this does not guarantee that XLA will be used). Devices:\n",
      "2023-05-04 16:24:54.430722: I tensorflow/compiler/xla/service/service.cc:176]   StreamExecutor device (0): NVIDIA A40, Compute Capability 8.6\n",
      "2023-05-04 16:24:54.442361: I tensorflow/core/common_runtime/gpu/gpu_device.cc:1561] Found device 0 with properties: \n",
      "pciBusID: 0000:41:00.0 name: NVIDIA A40 computeCapability: 8.6\n",
      "coreClock: 1.74GHz coreCount: 84 deviceMemorySize: 44.56GiB deviceMemoryBandwidth: 648.29GiB/s\n",
      "2023-05-04 16:24:54.442443: I tensorflow/stream_executor/platform/default/dso_loader.cc:44] Successfully opened dynamic library libcudart.so.10.1\n",
      "2023-05-04 16:24:54.442476: I tensorflow/stream_executor/platform/default/dso_loader.cc:44] Successfully opened dynamic library libcublas.so.10\n",
      "2023-05-04 16:24:54.442503: I tensorflow/stream_executor/platform/default/dso_loader.cc:44] Successfully opened dynamic library libcufft.so.10\n",
      "2023-05-04 16:24:54.442530: I tensorflow/stream_executor/platform/default/dso_loader.cc:44] Successfully opened dynamic library libcurand.so.10\n",
      "2023-05-04 16:24:54.442555: I tensorflow/stream_executor/platform/default/dso_loader.cc:44] Successfully opened dynamic library libcusolver.so.10\n",
      "2023-05-04 16:24:54.442581: I tensorflow/stream_executor/platform/default/dso_loader.cc:44] Successfully opened dynamic library libcusparse.so.10\n",
      "2023-05-04 16:24:54.442608: I tensorflow/stream_executor/platform/default/dso_loader.cc:44] Successfully opened dynamic library libcudnn.so.7\n",
      "2023-05-04 16:24:54.443788: I tensorflow/core/common_runtime/gpu/gpu_device.cc:1703] Adding visible gpu devices: 0\n",
      "2023-05-04 16:24:54.443849: I tensorflow/stream_executor/platform/default/dso_loader.cc:44] Successfully opened dynamic library libcudart.so.10.1\n",
      "2023-05-04 16:24:54.445967: I tensorflow/core/common_runtime/gpu/gpu_device.cc:1102] Device interconnect StreamExecutor with strength 1 edge matrix:\n",
      "2023-05-04 16:24:54.445985: I tensorflow/core/common_runtime/gpu/gpu_device.cc:1108]      0 \n",
      "2023-05-04 16:24:54.445999: I tensorflow/core/common_runtime/gpu/gpu_device.cc:1121] 0:   N \n",
      "2023-05-04 16:24:54.447340: I tensorflow/core/common_runtime/gpu/gpu_device.cc:1247] Created TensorFlow device (/job:localhost/replica:0/task:0/device:GPU:0 with 37762 MB memory) -> physical GPU (device: 0, name: NVIDIA A40, pci bus id: 0000:41:00.0, compute capability: 8.6)\n"
     ]
    }
   ],
   "source": [
    "NUM_PRETRAIN_ROWS_LIST = [0, 1000000, 2000000, 4000000, 8000000, 16000000, 32000000]\n",
    "# wandb_run_id_list = [\"5ndumuik\", \"ovkhun2m\", \"cbwykdzs\", \"mfcusa0l\", \"kjyvjndx\", \"suz9cn8k\"]    # wandb id of pretraining runs\n",
    "config = {\n",
    "    \"batch_size\": 256,\n",
    "    \"epochs\": 400,\n",
    "}\n",
    "for num_pretrain_rows in NUM_PRETRAIN_ROWS_LIST:\n",
    "    print(f\"Starting tuning with {num_pretrain_rows} rows\")\n",
    "    config[\"num_pretrain_rows\"] = num_pretrain_rows\n",
    "    run = wandb.init(project=\"fullsim_MLP\", name=f\"fullsim_MLP_pretrain_{int(num_pretrain_rows / 1000000)}M_rows\", config=config, reinit=True)\n",
    "    \n",
    "    model = Sequential()\n",
    "    model.add(Dense(64, input_shape=(600,), activation='relu'))\n",
    "    model.add(Dense(8, activation='relu'))\n",
    "    model.add(Dense(1, activation='sigmoid'))\n",
    "    if num_pretrain_rows != 0:\n",
    "        model_pretrained.load_weights(f\"fastsim_MLP_{int(num_pretrain_rows/1000000)}M_rows.h5\")\n",
    "    model.compile(loss='binary_crossentropy', optimizer='adam', metrics=['accuracy'])\n",
    "    history = model.fit(\n",
    "        x_train,\n",
    "        y_train,\n",
    "        epochs=config[\"epochs\"],\n",
    "        batch_size=config[\"batch_size\"],\n",
    "        shuffle=True,\n",
    "        validation_data=(x_test, y_test),\n",
    "        callbacks=[wandb.keras.WandbCallback()]\n",
    "    )\n",
    "    \n",
    "    plt.figure()\n",
    "    plt.plot(history.history[\"accuracy\"], label=\"acc\")\n",
    "    plt.plot(history.history[\"val_accuracy\"], label=\"val_acc\")\n",
    "    plt.title(f\"Fullsim MLP (Pretained for {int(num_pretrain_rows / 1000000)}M Rows)\")\n",
    "    plt.ylabel(\"Accuracy\")\n",
    "    plt.xlabel(\"Epoch\")\n",
    "    plt.legend()\n",
    "    plt.savefig(f\"output/fullsim_MLP_pretrain_{int(num_pretrain_rows / 1000000)}M_rows_acc.png\")\n",
    "    \n",
    "    plt.figure()\n",
    "    plt.plot(history.history[\"loss\"], label=\"loss\")\n",
    "    plt.plot(history.history[\"val_loss\"], label=\"val_loss\")\n",
    "    plt.title(f\"Fullsim MLP (Pretrained for {int(num_pretrain_rows / 1000000)}M Rows)\")\n",
    "    plt.ylabel(\"Loss\")\n",
    "    plt.xlabel(\"Epoch\")\n",
    "    plt.legend()\n",
    "    plt.savefig(f\"output/fullsim_MLP_pretrain_{int(num_pretrain_rows / 1000000)}M_rows_loss.png\")\n",
    "    \n",
    "    \n",
    "    model.save_weights(f\"models/fullsim_MLP_pretrain_{int(num_pretrain_rows / 1000000)}M_rows.h5\")\n",
    "    wandb.finish()\n",
    "    "
   ]
  },
  {
   "cell_type": "code",
   "execution_count": null,
   "id": "ffced76e-9420-4717-8fd6-c186fd36b9c8",
   "metadata": {},
   "outputs": [],
   "source": []
  },
  {
   "cell_type": "code",
   "execution_count": null,
   "id": "9cb1341b-3fd7-4874-8f98-d7bb412d266b",
   "metadata": {},
   "outputs": [],
   "source": []
  },
  {
   "cell_type": "code",
   "execution_count": null,
   "id": "45fa9ef8-f925-41c3-8e81-c8d91062de4b",
   "metadata": {},
   "outputs": [],
   "source": []
  },
  {
   "cell_type": "code",
   "execution_count": null,
   "id": "77f4b389-272e-45fd-b3e1-39015a58aa48",
   "metadata": {},
   "outputs": [],
   "source": []
  },
  {
   "cell_type": "code",
   "execution_count": null,
   "id": "e4a56e79-0640-47ee-9cef-9144890f3551",
   "metadata": {},
   "outputs": [],
   "source": []
  }
 ],
 "metadata": {
  "kernelspec": {
   "display_name": "Python 3 (ipykernel)",
   "language": "python",
   "name": "python3"
  },
  "language_info": {
   "codemirror_mode": {
    "name": "ipython",
    "version": 3
   },
   "file_extension": ".py",
   "mimetype": "text/x-python",
   "name": "python",
   "nbconvert_exporter": "python",
   "pygments_lexer": "ipython3",
   "version": "3.8.5"
  }
 },
 "nbformat": 4,
 "nbformat_minor": 5
}
