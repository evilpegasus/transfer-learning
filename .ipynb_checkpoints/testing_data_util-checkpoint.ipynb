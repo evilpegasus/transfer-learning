{
 "cells": [
  {
   "cell_type": "code",
   "execution_count": 1,
   "id": "30a6c669-c429-45a0-9794-cff289a35c4b",
   "metadata": {},
   "outputs": [],
   "source": [
    "import sys\n",
    "import os\n",
    "os.environ[\"CUDA_VISIBLE_DEVICES\"] = \"1\"\n",
    "\n",
    "from typing import List\n",
    "import h5py\n",
    "from torch.utils.data import Dataset, DataLoader\n",
    "import numpy as np\n",
    "import preprocessing\n",
    "from tqdm import tqdm"
   ]
  },
  {
   "cell_type": "code",
   "execution_count": null,
   "id": "8ac5956f-bf95-4e18-8b53-cf1e0539d5f6",
   "metadata": {},
   "outputs": [
    {
     "name": "stderr",
     "output_type": "stream",
     "text": [
      "  0%|          | 0/16 [00:00<?, ?it/s]"
     ]
    },
    {
     "name": "stdout",
     "output_type": "stream",
     "text": [
      "Starting preprocessing on /global/ml4hep/spss/mfong/transfer_learning/delphes_train/train_10.h5\n"
     ]
    }
   ],
   "source": [
    "train_dir = \"/global/ml4hep/spss/mfong/transfer_learning/delphes_train/\"\n",
    "train_dir_preprocess = \"/clusterfs/ml4hep/mfong/delphes_train_preprocessed/\"\n",
    "train_filepaths = [train_dir + x for x in os.listdir(train_dir)]\n",
    "\n",
    "# preprocess and save everything\n",
    "def preprocess_data(train_filepaths: List[str], target_dir: str, force=False):\n",
    "    \"\"\"Preprocesses h5 data from train_filepaths using the preprocess.py script and stores it as h5 files in target_dir. Use absolute paths\"\"\"\n",
    "    target_dir_filepaths = [target_dir + x for x in os.listdir(target_dir)]\n",
    "    for filepath in tqdm(train_filepaths):\n",
    "        filename = filepath.split(\"/\")[-1]\n",
    "        print(f\"Starting preprocessing on {filepath}\")\n",
    "        target_filepath = f\"{target_dir}preprocessed_{filename}\"\n",
    "        # check if this file was already preprocessed\n",
    "        if not force and target_filepath in target_dir_filepaths:\n",
    "            print(f\"{target_dir}preprocessed_{filename} is already in target_dir, skipping this file\")\n",
    "            continue\n",
    "        with h5py.File(filepath, 'r') as file:\n",
    "            processed_data = preprocessing.constituent(file, 200)\n",
    "            labels = file[\"labels\"]\n",
    "        print(f\"Saving preprocessed data to {target_filepath}\")\n",
    "        with h5py.File(target_filepath, \"w\") as file:\n",
    "            dset = file.create_dataset(\"data\", processed_data.shape)\n",
    "            dset[:] = processed_data\n",
    "        with h5py.File(target_filepath, \"w\") as file:\n",
    "            labels_dset = file.create_dataset(\"labels\", labels.shape)\n",
    "            labels_dset[:] = labels\n",
    "\n",
    "\n",
    "target_dir = \"/clusterfs/ml4hep/mfong/delphes_train_preprocessed/\"\n",
    "preprocess_data(train_filepaths, target_dir, force=True)\n",
    "train_preprocess_file_names = os.listdir(train_dir_preprocess)"
   ]
  },
  {
   "cell_type": "code",
   "execution_count": 38,
   "id": "a5c282b3-0c3f-4d81-99ae-11c0903a6462",
   "metadata": {},
   "outputs": [
    {
     "data": {
      "text/plain": [
       "<HDF5 file \"preprocessed_train_10.h5\" (mode r+)>"
      ]
     },
     "execution_count": 38,
     "metadata": {},
     "output_type": "execute_result"
    }
   ],
   "source": [
    "f = h5py.File(train_dir_preprocess + \"preprocessed_train_10.h5\", \"w\")\n",
    "f"
   ]
  },
  {
   "cell_type": "code",
   "execution_count": 39,
   "id": "2ea19d54-266f-4103-9003-83abd649d363",
   "metadata": {},
   "outputs": [],
   "source": [
    "labels_dset = f.create_dataset(\"labels\", (5000000,))"
   ]
  },
  {
   "cell_type": "code",
   "execution_count": 40,
   "id": "9cb1365a-ca63-4ec4-be27-c52d74ef6ba5",
   "metadata": {},
   "outputs": [],
   "source": [
    "dset = f.create_dataset(\"data\", (5000000, 1400))"
   ]
  },
  {
   "cell_type": "code",
   "execution_count": 41,
   "id": "2aa86d19-8411-4989-a5b0-c665723b3bdf",
   "metadata": {},
   "outputs": [
    {
     "data": {
      "text/plain": [
       "<HDF5 dataset \"asdfasdf\": shape (5000000, 1400), type \"<f4\">"
      ]
     },
     "execution_count": 41,
     "metadata": {},
     "output_type": "execute_result"
    }
   ],
   "source": [
    "f.create_dataset(\"asdfasdf\", (5000000, 1400))"
   ]
  },
  {
   "cell_type": "code",
   "execution_count": 42,
   "id": "9c16311a-b9d3-4874-ab81-a3d396318fd5",
   "metadata": {},
   "outputs": [
    {
     "data": {
      "text/plain": [
       "<HDF5 dataset \"zzzzz\": shape (5000000, 1400), type \"<f4\">"
      ]
     },
     "execution_count": 42,
     "metadata": {},
     "output_type": "execute_result"
    }
   ],
   "source": [
    "f.create_dataset(\"zzzzz\", (5000000, 1400))"
   ]
  },
  {
   "cell_type": "code",
   "execution_count": 44,
   "id": "f999b92e-141e-4084-84a8-9283062c9f52",
   "metadata": {},
   "outputs": [
    {
     "data": {
      "text/plain": [
       "<HDF5 dataset \"data\": shape (5000000, 1400), type \"<f4\">"
      ]
     },
     "execution_count": 44,
     "metadata": {},
     "output_type": "execute_result"
    }
   ],
   "source": [
    "f[\"data\"]"
   ]
  },
  {
   "cell_type": "code",
   "execution_count": 45,
   "id": "06f4b59f-1fe9-451c-839b-132e4c7b98d2",
   "metadata": {},
   "outputs": [],
   "source": [
    "f.close()"
   ]
  },
  {
   "cell_type": "code",
   "execution_count": null,
   "id": "bc9e91b7-3883-455f-80c8-10092bd47ba0",
   "metadata": {},
   "outputs": [],
   "source": []
  },
  {
   "cell_type": "code",
   "execution_count": null,
   "id": "80fc6e3a-1876-4f31-bb0e-d3f0ab8b2517",
   "metadata": {},
   "outputs": [],
   "source": []
  },
  {
   "cell_type": "code",
   "execution_count": 149,
   "id": "7c8b21bc-1d6f-41fc-82ef-83ea9909d3a5",
   "metadata": {},
   "outputs": [],
   "source": [
    "class H5Dataset(Dataset):\n",
    "    def __init__(self, file_paths: List[str], transform=None):\n",
    "        self.file_paths = file_paths\n",
    "        self.transform = transform\n",
    "        self.sample_indices = []  # Store the indices of samples within each file\n",
    "        # self.FEATURE_KEYS = ['fjet_clus_eta', 'fjet_clus_phi', 'fjet_clus_pt', 'fjet_clus_E']\n",
    "        self.DATA_KEY = \"data\"\n",
    "        self.LABEL_KEY = \"labels\"\n",
    "        self.current_loaded_file_idx = None     # self.file_paths index that is currently loaded into memory and processed\n",
    "        self.current_data = None\n",
    "\n",
    "        for file_path_idx, file_path in enumerate(file_paths):\n",
    "            with h5py.File(file_path, 'r') as file:\n",
    "                num_samples = len(file[self.FEATURE_KEYS[0]])  # 'data' is the dataset name in your HDF5 file\n",
    "                indices = list(range(num_samples))\n",
    "                self.sample_indices.extend([(filepath_idx, idx) for idx in indices])\n",
    " \n",
    "    def __len__(self):\n",
    "        return len(self.sample_indices)\n",
    "\n",
    "    def __getitem__(self, idx: str):\n",
    "        file_path_idx, sample_idx = self.sample_indices[idx]\n",
    "        \n",
    "        if file_path_idx != self.current_loaded_file_idx\n",
    "        \n",
    "        file_path = self.file_paths[file_path_idx]\n",
    "        \n",
    "        # with h5py.File(file_path, 'r') as file:\n",
    "        #     # data = file['data'][sample_idx]  # Load a single sample\n",
    "        #     data = {k: v[sample_idx:sample_idx+1] for k, v in file.items() if k in self.FEATURE_KEYS}\n",
    "        #     label = file[self.LABEL_KEY][sample_idx]\n",
    "\n",
    "        if self.transform:\n",
    "            x = self.transform(data).reshape(-1)\n",
    "\n",
    "        return x, label"
   ]
  },
  {
   "cell_type": "code",
   "execution_count": 133,
   "id": "bae474dc-747c-4f08-9194-417f1530ba6d",
   "metadata": {},
   "outputs": [],
   "source": [
    "dataset = H5Dataset(train_preprocess_file_names[0:2], batch_size=256, transform=lambda x: preprocessing.constituent(x, 200))"
   ]
  },
  {
   "cell_type": "code",
   "execution_count": 134,
   "id": "e01d83be-a435-4621-b344-3517bd3989c1",
   "metadata": {},
   "outputs": [],
   "source": [
    "dataloader = DataLoader(dataset, batch_size=256, shuffle=False)"
   ]
  },
  {
   "cell_type": "code",
   "execution_count": 151,
   "id": "39eaa246-fe79-428f-a984-eebaf438a844",
   "metadata": {},
   "outputs": [
    {
     "data": {
      "text/plain": [
       "5000000"
      ]
     },
     "execution_count": 151,
     "metadata": {},
     "output_type": "execute_result"
    }
   ],
   "source": [
    "len(dataset)"
   ]
  },
  {
   "cell_type": "code",
   "execution_count": 139,
   "id": "c6b08590-1d4e-4119-b8bf-fb88947b674a",
   "metadata": {},
   "outputs": [
    {
     "name": "stderr",
     "output_type": "stream",
     "text": [
      "/global/home/users/mfong/git/transfer-learning/preprocessing.py:90: RuntimeWarning: divide by zero encountered in log\n",
      "  log_pt = np.log(pt)\n",
      "/global/home/users/mfong/git/transfer-learning/preprocessing.py:91: RuntimeWarning: divide by zero encountered in log\n",
      "  log_energy = np.log(energy)\n",
      "/global/home/users/mfong/git/transfer-learning/preprocessing.py:98: RuntimeWarning: divide by zero encountered in log\n",
      "  lognorm_pt = np.log(pt / sum_pt[:,np.newaxis])\n",
      "/global/home/users/mfong/git/transfer-learning/preprocessing.py:99: RuntimeWarning: divide by zero encountered in log\n",
      "  lognorm_energy = np.log(energy / sum_energy[:,np.newaxis])\n"
     ]
    },
    {
     "data": {
      "text/plain": [
       "(1400,)"
      ]
     },
     "execution_count": 139,
     "metadata": {},
     "output_type": "execute_result"
    }
   ],
   "source": [
    "dataset[0][0].shape"
   ]
  },
  {
   "cell_type": "code",
   "execution_count": 144,
   "id": "fc2c1f46-bf3c-4077-baca-06eb301def72",
   "metadata": {},
   "outputs": [
    {
     "name": "stderr",
     "output_type": "stream",
     "text": [
      "/global/home/users/mfong/git/transfer-learning/preprocessing.py:90: RuntimeWarning: divide by zero encountered in log\n",
      "  log_pt = np.log(pt)\n",
      "/global/home/users/mfong/git/transfer-learning/preprocessing.py:91: RuntimeWarning: divide by zero encountered in log\n",
      "  log_energy = np.log(energy)\n",
      "/global/home/users/mfong/git/transfer-learning/preprocessing.py:98: RuntimeWarning: divide by zero encountered in log\n",
      "  lognorm_pt = np.log(pt / sum_pt[:,np.newaxis])\n",
      "/global/home/users/mfong/git/transfer-learning/preprocessing.py:99: RuntimeWarning: divide by zero encountered in log\n",
      "  lognorm_energy = np.log(energy / sum_energy[:,np.newaxis])\n"
     ]
    }
   ],
   "source": [
    "x, y = next(iter(dataloader))"
   ]
  },
  {
   "cell_type": "code",
   "execution_count": null,
   "id": "3adc023e-85e6-4fd9-b638-0dd77d799318",
   "metadata": {},
   "outputs": [],
   "source": [
    "for x, y in dataloader:\n",
    "    print(x.shape)\n",
    "    print(y.shape)"
   ]
  },
  {
   "cell_type": "code",
   "execution_count": 141,
   "id": "cba6afb4-6a63-44dc-ba78-efc4a013833d",
   "metadata": {},
   "outputs": [
    {
     "data": {
      "text/plain": [
       "torch.Size([256, 1400])"
      ]
     },
     "execution_count": 141,
     "metadata": {},
     "output_type": "execute_result"
    }
   ],
   "source": [
    "x.shape"
   ]
  },
  {
   "cell_type": "code",
   "execution_count": 143,
   "id": "537970f4-de4f-4481-9eb6-007e4bfa7d6a",
   "metadata": {},
   "outputs": [
    {
     "data": {
      "text/plain": [
       "torch.Size([256])"
      ]
     },
     "execution_count": 143,
     "metadata": {},
     "output_type": "execute_result"
    }
   ],
   "source": [
    "y.shape"
   ]
  },
  {
   "cell_type": "code",
   "execution_count": 153,
   "id": "060b0f34-ab08-49a4-971a-eb9fcc5ec803",
   "metadata": {},
   "outputs": [
    {
     "name": "stderr",
     "output_type": "stream",
     "text": [
      "/global/home/users/mfong/git/transfer-learning/preprocessing.py:90: RuntimeWarning: divide by zero encountered in log\n",
      "  log_pt = np.log(pt)\n",
      "/global/home/users/mfong/git/transfer-learning/preprocessing.py:91: RuntimeWarning: divide by zero encountered in log\n",
      "  log_energy = np.log(energy)\n",
      "/global/home/users/mfong/git/transfer-learning/preprocessing.py:98: RuntimeWarning: divide by zero encountered in log\n",
      "  lognorm_pt = np.log(pt / sum_pt[:,np.newaxis])\n",
      "/global/home/users/mfong/git/transfer-learning/preprocessing.py:99: RuntimeWarning: divide by zero encountered in log\n",
      "  lognorm_energy = np.log(energy / sum_energy[:,np.newaxis])\n"
     ]
    }
   ],
   "source": [
    "with h5py.File(train_dir + train_file_names[0]) as file:\n",
    "    data = preprocessing.constituent(file, 200)"
   ]
  },
  {
   "cell_type": "code",
   "execution_count": 155,
   "id": "272839e8-84cb-4184-ace8-0bcf6bd6603d",
   "metadata": {},
   "outputs": [
    {
     "data": {
      "text/plain": [
       "(5000000, 200, 7)"
      ]
     },
     "execution_count": 155,
     "metadata": {},
     "output_type": "execute_result"
    }
   ],
   "source": [
    "data.shape.reshape()"
   ]
  }
 ],
 "metadata": {
  "kernelspec": {
   "display_name": "Python 3 (ipykernel)",
   "language": "python",
   "name": "python3"
  },
  "language_info": {
   "codemirror_mode": {
    "name": "ipython",
    "version": 3
   },
   "file_extension": ".py",
   "mimetype": "text/x-python",
   "name": "python",
   "nbconvert_exporter": "python",
   "pygments_lexer": "ipython3",
   "version": "3.8.5"
  }
 },
 "nbformat": 4,
 "nbformat_minor": 5
}
