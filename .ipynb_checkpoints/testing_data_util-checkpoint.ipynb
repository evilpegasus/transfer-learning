{
 "cells": [
  {
   "cell_type": "code",
   "execution_count": 1,
   "id": "30a6c669-c429-45a0-9794-cff289a35c4b",
   "metadata": {},
   "outputs": [],
   "source": [
    "import sys\n",
    "import os\n",
    "os.environ[\"CUDA_VISIBLE_DEVICES\"] = \"1\"\n",
    "\n",
    "from typing import List\n",
    "import h5py\n",
    "from torch.utils.data import Dataset, DataLoader\n",
    "import numpy as np\n",
    "import preprocessing\n",
    "from tqdm import tqdm"
   ]
  },
  {
   "cell_type": "code",
   "execution_count": 67,
   "id": "8ac5956f-bf95-4e18-8b53-cf1e0539d5f6",
   "metadata": {},
   "outputs": [],
   "source": [
    "train_dir = \"/global/ml4hep/spss/mfong/transfer_learning/delphes_train/\"\n",
    "train_dir_preprocess = \"/global/ml4hep/spss/mfong/transfer_learning/delphes_train_processed/\"\n",
    "# train_dir_preprocess = \"/clusterfs/ml4hep/mfong/delphes_train_preprocessed/\"\n",
    "train_filepaths = [train_dir + x for x in os.listdir(train_dir)]\n",
    "\n",
    "# preprocess and save everything\n",
    "def preprocess_data(train_filepaths: List[str], target_dir: str, force=False):\n",
    "    \"\"\"Preprocesses h5 data from train_filepaths using the preprocess.py script and stores it as h5 files in target_dir. Use absolute paths\"\"\"\n",
    "    target_dir_filepaths = [target_dir + x for x in os.listdir(target_dir)]\n",
    "    for filepath in tqdm(train_filepaths):\n",
    "        filename = filepath.split(\"/\")[-1]\n",
    "        print(f\"Starting preprocessing on {filepath}\")\n",
    "        target_filepath = f\"{target_dir}preprocessed_{filename}\"\n",
    "        # check if this file was already preprocessed\n",
    "        if not force and target_filepath in target_dir_filepaths:\n",
    "            print(f\"{target_filepath} is already in target_dir, skipping this file\")\n",
    "            continue\n",
    "        with h5py.File(filepath, 'r') as old_file, h5py.File(target_filepath, \"w\") as new_file:\n",
    "            processed_data = preprocessing.constituent(old_file, 200)\n",
    "            labels = old_file[\"labels\"]\n",
    "            print(f\"Saving preprocessed data to {target_filepath}\")\n",
    "            dset = new_file.create_dataset(\"data\", processed_data.shape)\n",
    "            dset[:] = processed_data\n",
    "            labels_dset = new_file.create_dataset(\"labels\", labels.shape)\n",
    "            labels_dset[:] = labels"
   ]
  },
  {
   "cell_type": "code",
   "execution_count": 71,
   "id": "49753ed9-ed57-4d2c-8973-7b892deb8b99",
   "metadata": {},
   "outputs": [
    {
     "name": "stderr",
     "output_type": "stream",
     "text": [
      "100%|██████████| 15/15 [00:00<00:00, 48657.82it/s]"
     ]
    },
    {
     "name": "stdout",
     "output_type": "stream",
     "text": [
      "Starting preprocessing on /global/ml4hep/spss/mfong/transfer_learning/delphes_train/train_10.h5\n",
      "/global/ml4hep/spss/mfong/transfer_learning/delphes_train_processed/preprocessed_train_10.h5 is already in target_dir, skipping this file\n",
      "Starting preprocessing on /global/ml4hep/spss/mfong/transfer_learning/delphes_train/train_5.h5\n",
      "/global/ml4hep/spss/mfong/transfer_learning/delphes_train_processed/preprocessed_train_5.h5 is already in target_dir, skipping this file\n",
      "Starting preprocessing on /global/ml4hep/spss/mfong/transfer_learning/delphes_train/train_0.h5\n",
      "/global/ml4hep/spss/mfong/transfer_learning/delphes_train_processed/preprocessed_train_0.h5 is already in target_dir, skipping this file\n",
      "Starting preprocessing on /global/ml4hep/spss/mfong/transfer_learning/delphes_train/train_8.h5\n",
      "/global/ml4hep/spss/mfong/transfer_learning/delphes_train_processed/preprocessed_train_8.h5 is already in target_dir, skipping this file\n",
      "Starting preprocessing on /global/ml4hep/spss/mfong/transfer_learning/delphes_train/train_14.h5\n",
      "/global/ml4hep/spss/mfong/transfer_learning/delphes_train_processed/preprocessed_train_14.h5 is already in target_dir, skipping this file\n",
      "Starting preprocessing on /global/ml4hep/spss/mfong/transfer_learning/delphes_train/train_4.h5\n",
      "/global/ml4hep/spss/mfong/transfer_learning/delphes_train_processed/preprocessed_train_4.h5 is already in target_dir, skipping this file\n",
      "Starting preprocessing on /global/ml4hep/spss/mfong/transfer_learning/delphes_train/train_1.h5\n",
      "/global/ml4hep/spss/mfong/transfer_learning/delphes_train_processed/preprocessed_train_1.h5 is already in target_dir, skipping this file\n",
      "Starting preprocessing on /global/ml4hep/spss/mfong/transfer_learning/delphes_train/train_6.h5\n",
      "/global/ml4hep/spss/mfong/transfer_learning/delphes_train_processed/preprocessed_train_6.h5 is already in target_dir, skipping this file\n",
      "Starting preprocessing on /global/ml4hep/spss/mfong/transfer_learning/delphes_train/train_12.h5\n",
      "/global/ml4hep/spss/mfong/transfer_learning/delphes_train_processed/preprocessed_train_12.h5 is already in target_dir, skipping this file\n",
      "Starting preprocessing on /global/ml4hep/spss/mfong/transfer_learning/delphes_train/train_7.h5\n",
      "/global/ml4hep/spss/mfong/transfer_learning/delphes_train_processed/preprocessed_train_7.h5 is already in target_dir, skipping this file\n",
      "Starting preprocessing on /global/ml4hep/spss/mfong/transfer_learning/delphes_train/train_9.h5\n",
      "/global/ml4hep/spss/mfong/transfer_learning/delphes_train_processed/preprocessed_train_9.h5 is already in target_dir, skipping this file\n",
      "Starting preprocessing on /global/ml4hep/spss/mfong/transfer_learning/delphes_train/train_2.h5\n",
      "/global/ml4hep/spss/mfong/transfer_learning/delphes_train_processed/preprocessed_train_2.h5 is already in target_dir, skipping this file\n",
      "Starting preprocessing on /global/ml4hep/spss/mfong/transfer_learning/delphes_train/train_13.h5\n",
      "/global/ml4hep/spss/mfong/transfer_learning/delphes_train_processed/preprocessed_train_13.h5 is already in target_dir, skipping this file\n",
      "Starting preprocessing on /global/ml4hep/spss/mfong/transfer_learning/delphes_train/train_11.h5\n",
      "/global/ml4hep/spss/mfong/transfer_learning/delphes_train_processed/preprocessed_train_11.h5 is already in target_dir, skipping this file\n",
      "Starting preprocessing on /global/ml4hep/spss/mfong/transfer_learning/delphes_train/train_3.h5\n",
      "/global/ml4hep/spss/mfong/transfer_learning/delphes_train_processed/preprocessed_train_3.h5 is already in target_dir, skipping this file\n"
     ]
    },
    {
     "name": "stderr",
     "output_type": "stream",
     "text": [
      "\n"
     ]
    }
   ],
   "source": [
    "preprocess_data(train_filepaths, train_dir_preprocess, force=False)\n",
    "train_preprocess_file_names = os.listdir(train_dir_preprocess)\n",
    "train_preprocess_filepaths = [train_dir_preprocess + name for name in train_preprocess_file_names]"
   ]
  },
  {
   "cell_type": "code",
   "execution_count": null,
   "id": "331cfcb7-7259-42e8-946f-e778f4b789cb",
   "metadata": {},
   "outputs": [],
   "source": []
  },
  {
   "cell_type": "code",
   "execution_count": null,
   "id": "51762e2c-165f-41de-acca-5339ec6767e2",
   "metadata": {},
   "outputs": [],
   "source": []
  },
  {
   "cell_type": "code",
   "execution_count": null,
   "id": "80fc6e3a-1876-4f31-bb0e-d3f0ab8b2517",
   "metadata": {},
   "outputs": [],
   "source": []
  },
  {
   "cell_type": "code",
   "execution_count": 51,
   "id": "7c8b21bc-1d6f-41fc-82ef-83ea9909d3a5",
   "metadata": {},
   "outputs": [],
   "source": [
    "class H5Dataset(Dataset):\n",
    "    def __init__(self, filepaths: List[str], transform=None):\n",
    "        self.filepaths = filepaths\n",
    "        self.transform = transform\n",
    "        self.sample_indices = []  # Store the indices of samples within each file\n",
    "        # self.FEATURE_KEYS = ['fjet_clus_eta', 'fjet_clus_phi', 'fjet_clus_pt', 'fjet_clus_E']\n",
    "        self.DATA_KEY = \"data\"\n",
    "        self.LABEL_KEY = \"labels\"\n",
    "        # self.current_loaded_file_idx = None     # self.filepaths index that is currently loaded into memory\n",
    "        # self.current_data = None\n",
    "\n",
    "        for filepath_idx, file_path in enumerate(filepaths):\n",
    "            with h5py.File(file_path, 'r') as file:\n",
    "                num_samples = len(file[self.LABEL_KEY])\n",
    "                indices = list(range(num_samples))\n",
    "                self.sample_indices.extend([(filepath_idx, idx) for idx in indices])\n",
    " \n",
    "    def __len__(self):\n",
    "        return len(self.sample_indices)\n",
    "\n",
    "    def __getitem__(self, idx):\n",
    "        filepath_idx, sample_idx = self.sample_indices[idx]              \n",
    "        filepath = self.filepaths[filepath_idx]\n",
    "\n",
    "        with h5py.File(filepath, 'r') as file:\n",
    "            data = file[self.DATA_KEY][sample_idx]  # Load a single sample\n",
    "            labels = file[self.LABEL_KEY][sample_idx]\n",
    "\n",
    "        if self.transform:\n",
    "            data = self.transform(data)\n",
    "            \n",
    "        return data, labels"
   ]
  },
  {
   "cell_type": "code",
   "execution_count": 52,
   "id": "bae474dc-747c-4f08-9194-417f1530ba6d",
   "metadata": {},
   "outputs": [],
   "source": [
    "dataset = H5Dataset(train_preprocess_filepaths, transform=None)"
   ]
  },
  {
   "cell_type": "code",
   "execution_count": 53,
   "id": "e01d83be-a435-4621-b344-3517bd3989c1",
   "metadata": {},
   "outputs": [],
   "source": [
    "dataloader = DataLoader(dataset, batch_size=256, shuffle=False)"
   ]
  },
  {
   "cell_type": "code",
   "execution_count": 54,
   "id": "39eaa246-fe79-428f-a984-eebaf438a844",
   "metadata": {},
   "outputs": [
    {
     "data": {
      "text/plain": [
       "15871110"
      ]
     },
     "execution_count": 54,
     "metadata": {},
     "output_type": "execute_result"
    }
   ],
   "source": [
    "len(dataset)"
   ]
  },
  {
   "cell_type": "code",
   "execution_count": 60,
   "id": "c6b08590-1d4e-4119-b8bf-fb88947b674a",
   "metadata": {},
   "outputs": [
    {
     "ename": "ValueError",
     "evalue": "too many values to unpack (expected 2)",
     "output_type": "error",
     "traceback": [
      "\u001b[0;31m---------------------------------------------------------------------------\u001b[0m",
      "\u001b[0;31mValueError\u001b[0m                                Traceback (most recent call last)",
      "Cell \u001b[0;32mIn[60], line 1\u001b[0m\n\u001b[0;32m----> 1\u001b[0m \u001b[43mdataset\u001b[49m\u001b[43m[\u001b[49m\u001b[38;5;241;43m0\u001b[39;49m\u001b[43m:\u001b[49m\u001b[38;5;241;43m5\u001b[39;49m\u001b[43m]\u001b[49m[\u001b[38;5;241m0\u001b[39m]\u001b[38;5;241m.\u001b[39mshape\n",
      "Cell \u001b[0;32mIn[51], line 22\u001b[0m, in \u001b[0;36mH5Dataset.__getitem__\u001b[0;34m(self, idx)\u001b[0m\n\u001b[1;32m     21\u001b[0m \u001b[38;5;28;01mdef\u001b[39;00m \u001b[38;5;21m__getitem__\u001b[39m(\u001b[38;5;28mself\u001b[39m, idx: \u001b[38;5;28mstr\u001b[39m):\n\u001b[0;32m---> 22\u001b[0m     filepath_idx, sample_idx \u001b[38;5;241m=\u001b[39m \u001b[38;5;28mself\u001b[39m\u001b[38;5;241m.\u001b[39msample_indices[idx]              \n\u001b[1;32m     23\u001b[0m     filepath \u001b[38;5;241m=\u001b[39m \u001b[38;5;28mself\u001b[39m\u001b[38;5;241m.\u001b[39mfilepaths[filepath_idx]\n\u001b[1;32m     25\u001b[0m     \u001b[38;5;28;01mwith\u001b[39;00m h5py\u001b[38;5;241m.\u001b[39mFile(filepath, \u001b[38;5;124m'\u001b[39m\u001b[38;5;124mr\u001b[39m\u001b[38;5;124m'\u001b[39m) \u001b[38;5;28;01mas\u001b[39;00m file:\n",
      "\u001b[0;31mValueError\u001b[0m: too many values to unpack (expected 2)"
     ]
    }
   ],
   "source": [
    "dataset[0:5][0].shape"
   ]
  },
  {
   "cell_type": "code",
   "execution_count": 61,
   "id": "fc2c1f46-bf3c-4077-baca-06eb301def72",
   "metadata": {},
   "outputs": [],
   "source": [
    "x, y = next(iter(dataloader))"
   ]
  },
  {
   "cell_type": "code",
   "execution_count": 66,
   "id": "3adc023e-85e6-4fd9-b638-0dd77d799318",
   "metadata": {},
   "outputs": [],
   "source": [
    "# for x, y in dataloader:\n",
    "#     print(x.shape)\n",
    "#     print(y.shape)"
   ]
  },
  {
   "cell_type": "code",
   "execution_count": 141,
   "id": "cba6afb4-6a63-44dc-ba78-efc4a013833d",
   "metadata": {},
   "outputs": [
    {
     "data": {
      "text/plain": [
       "torch.Size([256, 1400])"
      ]
     },
     "execution_count": 141,
     "metadata": {},
     "output_type": "execute_result"
    }
   ],
   "source": [
    "x.shape"
   ]
  },
  {
   "cell_type": "code",
   "execution_count": 143,
   "id": "537970f4-de4f-4481-9eb6-007e4bfa7d6a",
   "metadata": {},
   "outputs": [
    {
     "data": {
      "text/plain": [
       "torch.Size([256])"
      ]
     },
     "execution_count": 143,
     "metadata": {},
     "output_type": "execute_result"
    }
   ],
   "source": [
    "y.shape"
   ]
  },
  {
   "cell_type": "code",
   "execution_count": 153,
   "id": "060b0f34-ab08-49a4-971a-eb9fcc5ec803",
   "metadata": {},
   "outputs": [
    {
     "name": "stderr",
     "output_type": "stream",
     "text": [
      "/global/home/users/mfong/git/transfer-learning/preprocessing.py:90: RuntimeWarning: divide by zero encountered in log\n",
      "  log_pt = np.log(pt)\n",
      "/global/home/users/mfong/git/transfer-learning/preprocessing.py:91: RuntimeWarning: divide by zero encountered in log\n",
      "  log_energy = np.log(energy)\n",
      "/global/home/users/mfong/git/transfer-learning/preprocessing.py:98: RuntimeWarning: divide by zero encountered in log\n",
      "  lognorm_pt = np.log(pt / sum_pt[:,np.newaxis])\n",
      "/global/home/users/mfong/git/transfer-learning/preprocessing.py:99: RuntimeWarning: divide by zero encountered in log\n",
      "  lognorm_energy = np.log(energy / sum_energy[:,np.newaxis])\n"
     ]
    }
   ],
   "source": [
    "with h5py.File(train_dir + train_file_names[0]) as file:\n",
    "    data = preprocessing.constituent(file, 200)"
   ]
  }
 ],
 "metadata": {
  "kernelspec": {
   "display_name": "Python 3 (ipykernel)",
   "language": "python",
   "name": "python3"
  },
  "language_info": {
   "codemirror_mode": {
    "name": "ipython",
    "version": 3
   },
   "file_extension": ".py",
   "mimetype": "text/x-python",
   "name": "python",
   "nbconvert_exporter": "python",
   "pygments_lexer": "ipython3",
   "version": "3.8.5"
  }
 },
 "nbformat": 4,
 "nbformat_minor": 5
}
