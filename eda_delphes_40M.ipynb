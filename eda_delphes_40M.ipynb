{
 "cells": [
  {
   "cell_type": "markdown",
   "id": "e9a3c910-2077-4ca2-9d23-b7a65844e7bd",
   "metadata": {},
   "source": [
    "# EDA Plots for Delphes data 40M rows (newer set)"
   ]
  },
  {
   "cell_type": "code",
   "execution_count": 2,
   "id": "14f9ba61-7bcc-4489-acde-1f677cdc1f0b",
   "metadata": {},
   "outputs": [],
   "source": [
    "import numpy as np\n",
    "import matplotlib.pyplot as plt\n",
    "import pandas as pd\n",
    "import h5py\n",
    "import os"
   ]
  },
  {
   "cell_type": "code",
   "execution_count": 11,
   "id": "a7fe8b4a-f285-4b1a-8e47-710e8d85cdb1",
   "metadata": {},
   "outputs": [
    {
     "data": {
      "text/plain": [
       "['train_10.h5',\n",
       " 'train_5.h5',\n",
       " 'train_0.h5',\n",
       " 'train_8.h5',\n",
       " 'train_14.h5',\n",
       " 'train_4.h5',\n",
       " 'train_1.h5',\n",
       " 'train_6.h5',\n",
       " 'train_12.h5',\n",
       " 'train_7.h5',\n",
       " 'train_9.h5',\n",
       " 'train_2.h5',\n",
       " 'train_13.h5',\n",
       " 'train_11.h5',\n",
       " 'train_3.h5']"
      ]
     },
     "execution_count": 11,
     "metadata": {},
     "output_type": "execute_result"
    }
   ],
   "source": [
    "train_file_names = os.listdir(\"/global/ml4hep/spss/mfong/transfer_learning/delphes_train\")\n",
    "train_file_names"
   ]
  },
  {
   "cell_type": "code",
   "execution_count": 18,
   "id": "11b883f5-1851-4b5c-9875-9e896174ede4",
   "metadata": {},
   "outputs": [
    {
     "data": {
      "text/plain": [
       "70871110"
      ]
     },
     "execution_count": 18,
     "metadata": {},
     "output_type": "execute_result"
    }
   ],
   "source": [
    "feature_keys = ['fjet_clus_eta', 'fjet_clus_phi', 'fjet_clus_pt']\n",
    "\n",
    "num_samples = 0\n",
    "for train_file_name in train_file_names:\n",
    "    f = h5py.File(\"/global/ml4hep/spss/mfong/transfer_learning/delphes_train/\" + train_file_name, 'r')\n",
    "    num_samples += f[\"fjet_clus_eta\"].shape[0]\n",
    "num_samples"
   ]
  }
 ],
 "metadata": {
  "kernelspec": {
   "display_name": "Python 3 (ipykernel)",
   "language": "python",
   "name": "python3"
  },
  "language_info": {
   "codemirror_mode": {
    "name": "ipython",
    "version": 3
   },
   "file_extension": ".py",
   "mimetype": "text/x-python",
   "name": "python",
   "nbconvert_exporter": "python",
   "pygments_lexer": "ipython3",
   "version": "3.8.5"
  }
 },
 "nbformat": 4,
 "nbformat_minor": 5
}
