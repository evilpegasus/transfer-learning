{
 "cells": [
  {
   "cell_type": "code",
   "execution_count": 1,
   "metadata": {},
   "outputs": [],
   "source": [
    "import sys\n",
    "import os\n",
    "os.environ[\"CUDA_VISIBLE_DEVICES\"] = \"2\"\n",
    "\n",
    "import h5py\n",
    "import numpy as np\n",
    "# import jax\n",
    "# import jax.numpy as jnp\n",
    "# import haiku as hk\n",
    "import pandas as pd\n",
    "import matplotlib.pyplot as plt\n",
    "from sklearn.preprocessing import StandardScaler\n",
    "\n",
    "import tensorflow as tf\n",
    "from tensorflow import keras\n",
    "from tensorflow.keras.models import Sequential\n",
    "from tensorflow.keras.layers import Dense\n",
    "from tensorflow.keras import initializers\n",
    "\n",
    "np.random.seed(8)\n",
    "tf.random.set_seed(8)"
   ]
  },
  {
   "cell_type": "code",
   "execution_count": 2,
   "metadata": {},
   "outputs": [
    {
     "name": "stdout",
     "output_type": "stream",
     "text": [
      "[PhysicalDevice(name='/physical_device:GPU:0', device_type='GPU')]\n"
     ]
    }
   ],
   "source": [
    "physical_devices = tf.config.list_physical_devices('GPU')\n",
    "print(physical_devices)\n",
    "tf.config.experimental.set_memory_growth(physical_devices[0], True)"
   ]
  },
  {
   "cell_type": "code",
   "execution_count": 3,
   "metadata": {},
   "outputs": [],
   "source": [
    "f = h5py.File('/clusterfs/ml4hep/mfong/transfer_learning/delphes_train.h5', 'r')\n",
    "f2 = h5py.File('/clusterfs/ml4hep/mfong/transfer_learning/delphes_test.h5', 'r')"
   ]
  },
  {
   "cell_type": "code",
   "execution_count": 4,
   "metadata": {},
   "outputs": [
    {
     "name": "stdout",
     "output_type": "stream",
     "text": [
      "fjet_clus_E (4000068, 200)\n",
      "fjet_clus_eta (4000068, 200)\n",
      "fjet_clus_phi (4000068, 200)\n",
      "fjet_clus_pt (4000068, 200)\n",
      "fjet_eta (4000068,)\n",
      "fjet_m (4000068,)\n",
      "fjet_phi (4000068,)\n",
      "fjet_pt (4000068,)\n",
      "labels (4000068,)\n"
     ]
    }
   ],
   "source": [
    "feature_keys = ['fjet_clus_eta', 'fjet_clus_phi', 'fjet_clus_pt']\n",
    "for k in f.keys():\n",
    "    print(k, f[k].shape)"
   ]
  },
  {
   "cell_type": "code",
   "execution_count": 5,
   "metadata": {},
   "outputs": [
    {
     "data": {
      "text/plain": [
       "(4000068, 600)"
      ]
     },
     "execution_count": 5,
     "metadata": {},
     "output_type": "execute_result"
    }
   ],
   "source": [
    "x = np.concatenate([f[k] for k in feature_keys], axis=1)\n",
    "x.shape"
   ]
  },
  {
   "cell_type": "code",
   "execution_count": 6,
   "metadata": {},
   "outputs": [
    {
     "data": {
      "text/plain": [
       "(4000068,)"
      ]
     },
     "execution_count": 6,
     "metadata": {},
     "output_type": "execute_result"
    }
   ],
   "source": [
    "y = f[\"labels\"][:]\n",
    "y.shape"
   ]
  },
  {
   "cell_type": "code",
   "execution_count": 7,
   "metadata": {},
   "outputs": [],
   "source": [
    "num_samples = len(y)\n",
    "num_train_samples = int(0.8 * num_samples)\n",
    "x_train = x[:num_train_samples]\n",
    "y_train = y[:num_train_samples]\n",
    "\n",
    "x_test = x[num_train_samples:]\n",
    "y_test = y[num_train_samples:]"
   ]
  },
  {
   "cell_type": "code",
   "execution_count": 8,
   "metadata": {},
   "outputs": [],
   "source": [
    "scaler = StandardScaler()\n",
    "scaler.fit(x_train)\n",
    "\n",
    "x_train = scaler.transform(x_train)\n",
    "x_test = scaler.transform(x_test)"
   ]
  },
  {
   "cell_type": "markdown",
   "metadata": {},
   "source": [
    "## Fully Connected NN"
   ]
  },
  {
   "cell_type": "code",
   "execution_count": null,
   "metadata": {},
   "outputs": [],
   "source": [
    "model = Sequential()\n",
    "model.add(Dense(64, input_shape=(600,), activation='relu'))\n",
    "model.add(Dense(8, activation='relu'))\n",
    "model.add(Dense(1, activation='sigmoid'))"
   ]
  },
  {
   "cell_type": "code",
   "execution_count": 133,
   "metadata": {},
   "outputs": [],
   "source": [
    "model.compile(loss='binary_crossentropy', optimizer='adam', metrics=['accuracy'])"
   ]
  },
  {
   "cell_type": "code",
   "execution_count": null,
   "metadata": {
    "scrolled": true
   },
   "outputs": [
    {
     "name": "stdout",
     "output_type": "stream",
     "text": [
      "Epoch 1/1000\n",
      "12501/12501 [==============================] - 35s 3ms/step - loss: 0.4352 - accuracy: 0.7934 - val_loss: 0.4302 - val_accuracy: 0.7964\n",
      "Epoch 2/1000\n",
      "12501/12501 [==============================] - 35s 3ms/step - loss: 0.4263 - accuracy: 0.7983 - val_loss: 0.4243 - val_accuracy: 0.8000\n",
      "Epoch 3/1000\n",
      "12501/12501 [==============================] - 33s 3ms/step - loss: 0.4227 - accuracy: 0.8004 - val_loss: 0.4210 - val_accuracy: 0.8017\n",
      "Epoch 4/1000\n",
      "12501/12501 [==============================] - 36s 3ms/step - loss: 0.4203 - accuracy: 0.8019 - val_loss: 0.4194 - val_accuracy: 0.8028\n",
      "Epoch 5/1000\n",
      "12501/12501 [==============================] - 36s 3ms/step - loss: 0.4189 - accuracy: 0.8028 - val_loss: 0.4184 - val_accuracy: 0.8032\n",
      "Epoch 6/1000\n",
      "12501/12501 [==============================] - 36s 3ms/step - loss: 0.4179 - accuracy: 0.8035 - val_loss: 0.4185 - val_accuracy: 0.8030\n",
      "Epoch 7/1000\n",
      "12501/12501 [==============================] - 36s 3ms/step - loss: 0.4171 - accuracy: 0.8040 - val_loss: 0.4179 - val_accuracy: 0.8036\n",
      "Epoch 8/1000\n",
      "12501/12501 [==============================] - 36s 3ms/step - loss: 0.4165 - accuracy: 0.8041 - val_loss: 0.4166 - val_accuracy: 0.8046\n",
      "Epoch 9/1000\n",
      "12501/12501 [==============================] - 35s 3ms/step - loss: 0.4159 - accuracy: 0.8046 - val_loss: 0.4171 - val_accuracy: 0.8039\n",
      "Epoch 10/1000\n",
      "12501/12501 [==============================] - 35s 3ms/step - loss: 0.4155 - accuracy: 0.8048 - val_loss: 0.4165 - val_accuracy: 0.8044\n",
      "Epoch 11/1000\n",
      "12155/12501 [============================>.] - ETA: 0s - loss: 0.4151 - accuracy: 0.8050"
     ]
    }
   ],
   "source": [
    "history = model.fit(x_train, y_train, epochs=800, batch_size=256, shuffle=True, validation_data=(x_test, y_test))"
   ]
  },
  {
   "cell_type": "code",
   "execution_count": 12,
   "metadata": {},
   "outputs": [
    {
     "data": {
      "image/png": "[encoded data removed]",
      "text/plain": [
       "<Figure size 432x288 with 1 Axes>"
      ]
     },
     "metadata": {
      "needs_background": "light"
     },
     "output_type": "display_data"
    }
   ],
   "source": [
    "plt.plot(history.history[\"accuracy\"], label=\"acc\")\n",
    "plt.plot(history.history[\"val_accuracy\"], label=\"val_acc\")\n",
    "plt.legend();"
   ]
  },
  {
   "cell_type": "code",
   "execution_count": 13,
   "metadata": {},
   "outputs": [
    {
     "name": "stdout",
     "output_type": "stream",
     "text": [
      "25001/25001 [==============================] - 40s 2ms/step - loss: 0.3420 - accuracy: 0.8521\n",
      "Accuracy:  0.8521325588226318\n",
      "loss:  0.34203726053237915\n"
     ]
    }
   ],
   "source": [
    "loss, accuracy = model.evaluate(x_test, y_test)\n",
    "print(\"Accuracy: \", accuracy)\n",
    "print(\"loss: \", loss)"
   ]
  },
  {
   "cell_type": "code",
   "execution_count": null,
   "metadata": {},
   "outputs": [],
   "source": [
    "model.save_weights(\"fast_sim_MLP.h5\")"
   ]
  },
  {
   "cell_type": "markdown",
   "metadata": {},
   "source": [
    "# Full sim dataset"
   ]
  },
  {
   "cell_type": "code",
   "execution_count": 16,
   "metadata": {},
   "outputs": [],
   "source": [
    "f_full_train = h5py.File(\"/global/ml4hep/spss/mfong/transfer_learning/train.h5\", 'r')\n",
    "f_full_test = h5py.File(\"/global/ml4hep/spss/mfong/transfer_learning/test.h5\", 'r')"
   ]
  },
  {
   "cell_type": "code",
   "execution_count": 17,
   "metadata": {},
   "outputs": [
    {
     "data": {
      "text/plain": [
       "(4000068, 600)"
      ]
     },
     "execution_count": 17,
     "metadata": {},
     "output_type": "execute_result"
    }
   ],
   "source": [
    "x_full = np.concatenate([f_full_train[k][:num_samples] for k in feature_keys], axis=1)\n",
    "x_full.shape"
   ]
  },
  {
   "cell_type": "code",
   "execution_count": 18,
   "metadata": {},
   "outputs": [
    {
     "data": {
      "text/plain": [
       "(4000068,)"
      ]
     },
     "execution_count": 18,
     "metadata": {},
     "output_type": "execute_result"
    }
   ],
   "source": [
    "y_full = f_full_train[\"labels\"][:num_samples]\n",
    "y_full.shape"
   ]
  },
  {
   "cell_type": "code",
   "execution_count": 19,
   "metadata": {},
   "outputs": [],
   "source": [
    "x_full_train = x_full[:num_train_samples]\n",
    "y_full_train = y_full[:num_train_samples]\n",
    "\n",
    "x_full_test = x_full[num_train_samples:]\n",
    "y_full_test = y_full[num_train_samples:]"
   ]
  },
  {
   "cell_type": "code",
   "execution_count": 20,
   "metadata": {},
   "outputs": [],
   "source": [
    "scaler_full = StandardScaler()\n",
    "scaler_full.fit(x_full_train)\n",
    "\n",
    "x_full_train = scaler_full.transform(x_full_train)\n",
    "x_full_test = scaler_full.transform(x_full_test)"
   ]
  },
  {
   "cell_type": "markdown",
   "metadata": {},
   "source": [
    "## Fully Connected"
   ]
  },
  {
   "cell_type": "code",
   "execution_count": 21,
   "metadata": {},
   "outputs": [],
   "source": [
    "model_full = Sequential()\n",
    "model_full.add(Dense(64, input_shape=(600,), activation='relu'))\n",
    "model_full.add(Dense(8, activation='relu'))\n",
    "model_full.add(Dense(1, activation='sigmoid'))"
   ]
  },
  {
   "cell_type": "code",
   "execution_count": 22,
   "metadata": {},
   "outputs": [],
   "source": [
    "model_full.compile(loss='binary_crossentropy', optimizer='adam', metrics=['accuracy'])"
   ]
  },
  {
   "cell_type": "code",
   "execution_count": null,
   "metadata": {
    "scrolled": true
   },
   "outputs": [
    {
     "name": "stdout",
     "output_type": "stream",
     "text": [
      "Epoch 1/800\n",
      "12501/12501 [==============================] - 35s 3ms/step - loss: 0.5232 - accuracy: 0.7407 - val_loss: 0.5200 - val_accuracy: 0.7428\n",
      "Epoch 2/800\n",
      "12501/12501 [==============================] - 35s 3ms/step - loss: 0.5152 - accuracy: 0.7451 - val_loss: 0.5148 - val_accuracy: 0.7451\n",
      "Epoch 3/800\n",
      "12501/12501 [==============================] - 35s 3ms/step - loss: 0.5128 - accuracy: 0.7465 - val_loss: 0.5136 - val_accuracy: 0.7459\n",
      "Epoch 4/800\n",
      "12501/12501 [==============================] - 35s 3ms/step - loss: 0.5111 - accuracy: 0.7473 - val_loss: 0.5133 - val_accuracy: 0.7459\n",
      "Epoch 5/800\n",
      "12501/12501 [==============================] - 35s 3ms/step - loss: 0.5095 - accuracy: 0.7481 - val_loss: 0.5112 - val_accuracy: 0.7468\n",
      "Epoch 6/800\n",
      "12501/12501 [==============================] - 35s 3ms/step - loss: 0.5078 - accuracy: 0.7491 - val_loss: 0.5095 - val_accuracy: 0.7479\n",
      "Epoch 7/800\n",
      "12501/12501 [==============================] - 36s 3ms/step - loss: 0.5059 - accuracy: 0.7500 - val_loss: 0.5105 - val_accuracy: 0.7473\n",
      "Epoch 8/800\n",
      "12501/12501 [==============================] - 35s 3ms/step - loss: 0.5041 - accuracy: 0.7512 - val_loss: 0.5088 - val_accuracy: 0.7481\n",
      "Epoch 9/800\n",
      "12501/12501 [==============================] - 35s 3ms/step - loss: 0.5023 - accuracy: 0.7522 - val_loss: 0.5053 - val_accuracy: 0.7507\n",
      "Epoch 10/800\n",
      "12501/12501 [==============================] - 35s 3ms/step - loss: 0.5008 - accuracy: 0.7532 - val_loss: 0.5024 - val_accuracy: 0.7520\n",
      "Epoch 11/800\n",
      "12501/12501 [==============================] - 35s 3ms/step - loss: 0.4990 - accuracy: 0.7541 - val_loss: 0.5024 - val_accuracy: 0.7529\n",
      "Epoch 12/800\n",
      "12501/12501 [==============================] - 35s 3ms/step - loss: 0.4970 - accuracy: 0.7554 - val_loss: 0.5009 - val_accuracy: 0.7528\n",
      "Epoch 13/800\n",
      "12501/12501 [==============================] - 35s 3ms/step - loss: 0.4948 - accuracy: 0.7570 - val_loss: 0.4974 - val_accuracy: 0.7553\n",
      "Epoch 14/800\n",
      "12501/12501 [==============================] - 34s 3ms/step - loss: 0.4920 - accuracy: 0.7590 - val_loss: 0.4943 - val_accuracy: 0.7584\n",
      "Epoch 15/800\n",
      "12501/12501 [==============================] - 35s 3ms/step - loss: 0.4888 - accuracy: 0.7612 - val_loss: 0.4909 - val_accuracy: 0.7601\n",
      "Epoch 16/800\n",
      "12501/12501 [==============================] - 35s 3ms/step - loss: 0.4855 - accuracy: 0.7634 - val_loss: 0.4889 - val_accuracy: 0.7620\n",
      "Epoch 17/800\n",
      "12501/12501 [==============================] - 36s 3ms/step - loss: 0.4826 - accuracy: 0.7657 - val_loss: 0.4856 - val_accuracy: 0.7643\n",
      "Epoch 18/800\n",
      "12501/12501 [==============================] - 35s 3ms/step - loss: 0.4796 - accuracy: 0.7678 - val_loss: 0.4838 - val_accuracy: 0.7652\n",
      "Epoch 19/800\n",
      "12501/12501 [==============================] - 35s 3ms/step - loss: 0.4767 - accuracy: 0.7697 - val_loss: 0.4790 - val_accuracy: 0.7683\n",
      "Epoch 20/800\n",
      "12501/12501 [==============================] - 36s 3ms/step - loss: 0.4740 - accuracy: 0.7715 - val_loss: 0.4756 - val_accuracy: 0.7711\n",
      "Epoch 21/800\n",
      "12501/12501 [==============================] - 36s 3ms/step - loss: 0.4713 - accuracy: 0.7732 - val_loss: 0.4761 - val_accuracy: 0.7707\n",
      "Epoch 22/800\n",
      "12501/12501 [==============================] - 35s 3ms/step - loss: 0.4686 - accuracy: 0.7751 - val_loss: 0.4715 - val_accuracy: 0.7742\n",
      "Epoch 23/800\n",
      "12501/12501 [==============================] - 35s 3ms/step - loss: 0.4660 - accuracy: 0.7767 - val_loss: 0.4682 - val_accuracy: 0.7758\n",
      "Epoch 24/800\n",
      "12501/12501 [==============================] - 35s 3ms/step - loss: 0.4635 - accuracy: 0.7785 - val_loss: 0.4672 - val_accuracy: 0.7765\n",
      "Epoch 25/800\n",
      "12501/12501 [==============================] - 36s 3ms/step - loss: 0.4612 - accuracy: 0.7800 - val_loss: 0.4642 - val_accuracy: 0.7793\n",
      "Epoch 26/800\n",
      "12501/12501 [==============================] - 36s 3ms/step - loss: 0.4593 - accuracy: 0.7813 - val_loss: 0.4641 - val_accuracy: 0.7786\n",
      "Epoch 27/800\n",
      "12501/12501 [==============================] - 35s 3ms/step - loss: 0.4576 - accuracy: 0.7822 - val_loss: 0.4611 - val_accuracy: 0.7805\n",
      "Epoch 28/800\n",
      "12501/12501 [==============================] - 35s 3ms/step - loss: 0.4562 - accuracy: 0.7832 - val_loss: 0.4597 - val_accuracy: 0.7817\n",
      "Epoch 29/800\n",
      "12501/12501 [==============================] - 35s 3ms/step - loss: 0.4548 - accuracy: 0.7839 - val_loss: 0.4615 - val_accuracy: 0.7807\n",
      "Epoch 30/800\n",
      "12501/12501 [==============================] - 35s 3ms/step - loss: 0.4536 - accuracy: 0.7846 - val_loss: 0.4582 - val_accuracy: 0.7821\n",
      "Epoch 31/800\n",
      "12501/12501 [==============================] - 34s 3ms/step - loss: 0.4526 - accuracy: 0.7853 - val_loss: 0.4582 - val_accuracy: 0.7825\n",
      "Epoch 32/800\n",
      "12501/12501 [==============================] - 35s 3ms/step - loss: 0.4517 - accuracy: 0.7857 - val_loss: 0.4544 - val_accuracy: 0.7840\n",
      "Epoch 33/800\n",
      "12501/12501 [==============================] - 36s 3ms/step - loss: 0.4509 - accuracy: 0.7864 - val_loss: 0.4590 - val_accuracy: 0.7814\n",
      "Epoch 34/800\n",
      "12501/12501 [==============================] - 33s 3ms/step - loss: 0.4501 - accuracy: 0.7869 - val_loss: 0.4590 - val_accuracy: 0.7811\n",
      "Epoch 35/800\n",
      "12501/12501 [==============================] - 36s 3ms/step - loss: 0.4494 - accuracy: 0.7874 - val_loss: 0.4558 - val_accuracy: 0.7846\n",
      "Epoch 36/800\n",
      "12501/12501 [==============================] - 35s 3ms/step - loss: 0.4487 - accuracy: 0.7876 - val_loss: 0.4543 - val_accuracy: 0.7846\n",
      "Epoch 37/800\n",
      "12501/12501 [==============================] - 35s 3ms/step - loss: 0.4481 - accuracy: 0.7882 - val_loss: 0.4552 - val_accuracy: 0.7833\n",
      "Epoch 38/800\n",
      "12501/12501 [==============================] - 34s 3ms/step - loss: 0.4474 - accuracy: 0.7884 - val_loss: 0.4590 - val_accuracy: 0.7811\n",
      "Epoch 39/800\n",
      "12501/12501 [==============================] - 34s 3ms/step - loss: 0.4468 - accuracy: 0.7889 - val_loss: 0.4528 - val_accuracy: 0.7856\n",
      "Epoch 40/800\n",
      "12501/12501 [==============================] - 34s 3ms/step - loss: 0.4463 - accuracy: 0.7893 - val_loss: 0.4509 - val_accuracy: 0.7860\n",
      "Epoch 41/800\n",
      "12501/12501 [==============================] - 34s 3ms/step - loss: 0.4457 - accuracy: 0.7894 - val_loss: 0.4558 - val_accuracy: 0.7846\n",
      "Epoch 42/800\n",
      "12501/12501 [==============================] - 35s 3ms/step - loss: 0.4451 - accuracy: 0.7899 - val_loss: 0.4517 - val_accuracy: 0.7859\n",
      "Epoch 43/800\n",
      "12501/12501 [==============================] - 35s 3ms/step - loss: 0.4447 - accuracy: 0.7900 - val_loss: 0.4576 - val_accuracy: 0.7827\n",
      "Epoch 44/800\n",
      "12501/12501 [==============================] - 35s 3ms/step - loss: 0.4442 - accuracy: 0.7905 - val_loss: 0.4500 - val_accuracy: 0.7872\n",
      "Epoch 45/800\n",
      "12501/12501 [==============================] - 36s 3ms/step - loss: 0.4436 - accuracy: 0.7908 - val_loss: 0.4528 - val_accuracy: 0.7847\n",
      "Epoch 46/800\n",
      "11573/12501 [==========================>...] - ETA: 2s - loss: 0.4430 - accuracy: 0.7912"
     ]
    }
   ],
   "source": [
    "history_full = model_full.fit(x_full_train, y_full_train, epochs=800, batch_size=256, shuffle=True, validation_data=(x_full_test, y_full_test))"
   ]
  },
  {
   "cell_type": "code",
   "execution_count": null,
   "metadata": {},
   "outputs": [],
   "source": [
    "plt.plot(history_full.history[\"accuracy\"], label=\"acc\")\n",
    "plt.plot(history_full.history[\"val_accuracy\"], label=\"val_acc\")\n",
    "plt.title(\"Full Sim MLP\")\n",
    "plt.legend();"
   ]
  },
  {
   "cell_type": "code",
   "execution_count": null,
   "metadata": {},
   "outputs": [],
   "source": [
    "model_full.save_weights(\"full_sim_MLP.h5\")"
   ]
  },
  {
   "cell_type": "markdown",
   "metadata": {},
   "source": [
    "## Use pretrained weights on full sim"
   ]
  },
  {
   "cell_type": "code",
   "execution_count": null,
   "metadata": {},
   "outputs": [],
   "source": [
    "model_pretrained = Sequential()\n",
    "model_pretrained.add(Dense(64, input_shape=(600,), activation='relu'))\n",
    "model_pretrained.add(Dense(8, activation='relu'))\n",
    "model_pretrained.add(Dense(1, activation='sigmoid'))"
   ]
  },
  {
   "cell_type": "code",
   "execution_count": null,
   "metadata": {},
   "outputs": [],
   "source": [
    "model_pretrained.load_weights(\"fast_sim_MLP.h5\")"
   ]
  },
  {
   "cell_type": "code",
   "execution_count": null,
   "metadata": {},
   "outputs": [],
   "source": [
    "model_pretrained.compile(loss='binary_crossentropy', optimizer='adam', metrics=['accuracy'])"
   ]
  },
  {
   "cell_type": "code",
   "execution_count": null,
   "metadata": {
    "scrolled": true
   },
   "outputs": [],
   "source": [
    "history_pretrained = model_pretrained.fit(x_full_train, y_full_train, epochs=800, batch_size=256, shuffle=True, validation_data=(x_full_test, y_full_test))"
   ]
  },
  {
   "cell_type": "code",
   "execution_count": 1,
   "metadata": {},
   "outputs": [
    {
     "ename": "NameError",
     "evalue": "name 'plt' is not defined",
     "output_type": "error",
     "traceback": [
      "\u001b[0;31m---------------------------------------------------------------------------\u001b[0m",
      "\u001b[0;31mNameError\u001b[0m                                 Traceback (most recent call last)",
      "\u001b[0;32m<ipython-input-1-67fb165cec25>\u001b[0m in \u001b[0;36m<module>\u001b[0;34m\u001b[0m\n\u001b[0;32m----> 1\u001b[0;31m \u001b[0mplt\u001b[0m\u001b[0;34m.\u001b[0m\u001b[0mplot\u001b[0m\u001b[0;34m(\u001b[0m\u001b[0mhistory_pretrained\u001b[0m\u001b[0;34m.\u001b[0m\u001b[0mhistory\u001b[0m\u001b[0;34m[\u001b[0m\u001b[0;34m\"accuracy\"\u001b[0m\u001b[0;34m]\u001b[0m\u001b[0;34m,\u001b[0m \u001b[0mlabel\u001b[0m\u001b[0;34m=\u001b[0m\u001b[0;34m\"acc\"\u001b[0m\u001b[0;34m)\u001b[0m\u001b[0;34m\u001b[0m\u001b[0;34m\u001b[0m\u001b[0m\n\u001b[0m\u001b[1;32m      2\u001b[0m \u001b[0mplt\u001b[0m\u001b[0;34m.\u001b[0m\u001b[0mplot\u001b[0m\u001b[0;34m(\u001b[0m\u001b[0mhistory_pretrained\u001b[0m\u001b[0;34m.\u001b[0m\u001b[0mhistory\u001b[0m\u001b[0;34m[\u001b[0m\u001b[0;34m\"val_accuracy\"\u001b[0m\u001b[0;34m]\u001b[0m\u001b[0;34m,\u001b[0m \u001b[0mlabel\u001b[0m\u001b[0;34m=\u001b[0m\u001b[0;34m\"val_acc\"\u001b[0m\u001b[0;34m)\u001b[0m\u001b[0;34m\u001b[0m\u001b[0;34m\u001b[0m\u001b[0m\n\u001b[1;32m      3\u001b[0m \u001b[0mplt\u001b[0m\u001b[0;34m.\u001b[0m\u001b[0mtitle\u001b[0m\u001b[0;34m(\u001b[0m\u001b[0;34m\"Full Sim MLP Pretrained\"\u001b[0m\u001b[0;34m)\u001b[0m\u001b[0;34m\u001b[0m\u001b[0;34m\u001b[0m\u001b[0m\n\u001b[1;32m      4\u001b[0m \u001b[0mplt\u001b[0m\u001b[0;34m.\u001b[0m\u001b[0mlegend\u001b[0m\u001b[0;34m(\u001b[0m\u001b[0;34m)\u001b[0m\u001b[0;34m;\u001b[0m\u001b[0;34m\u001b[0m\u001b[0;34m\u001b[0m\u001b[0m\n",
      "\u001b[0;31mNameError\u001b[0m: name 'plt' is not defined"
     ]
    }
   ],
   "source": [
    "plt.plot(history_pretrained.history[\"accuracy\"], label=\"acc\")\n",
    "plt.plot(history_pretrained.history[\"val_accuracy\"], label=\"val_acc\")\n",
    "plt.title(\"Full Sim MLP Pretrained\")\n",
    "plt.legend();"
   ]
  },
  {
   "cell_type": "code",
   "execution_count": null,
   "metadata": {},
   "outputs": [],
   "source": [
    "plt.plot(history_pretrained.history[\"accuracy\"], label=\"pre trained acc\")\n",
    "plt.plot(history_pretrained.history[\"val_accuracy\"], label=\"pre trained val_acc\")\n",
    "\n",
    "plt.plot(history_full.history[\"accuracy\"], label=\"full acc\")\n",
    "plt.plot(history_full.history[\"val_accuracy\"], label=\"full val_acc\")\n",
    "\n",
    "plt.plot(history.history[\"accuracy\"], label=\"fast acc\")\n",
    "plt.plot(history.history[\"val_accuracy\"], label=\"fast val_acc\")\n",
    "plt.title(\"MLP Comparison\")\n",
    "plt.legend();"
   ]
  },
  {
   "cell_type": "code",
   "execution_count": null,
   "metadata": {},
   "outputs": [],
   "source": [
    "# TODO\n",
    "# pre train on full sim 4 mill - then take the next 4 mill train/validation\n",
    "\n",
    "# try cos(phi) / sin(phi)\n",
    "# try logE instead of E/pT, then standard scalar"
   ]
  },
  {
   "cell_type": "code",
   "execution_count": 117,
   "metadata": {},
   "outputs": [],
   "source": [
    "from sklearn.metrics import roc_curve\n",
    "from sklearn.metrics import auc"
   ]
  },
  {
   "cell_type": "code",
   "execution_count": 128,
   "metadata": {},
   "outputs": [
    {
     "name": "stdout",
     "output_type": "stream",
     "text": [
      "Fast sim\n",
      "Full sim\n",
      "Full sim pretrained\n"
     ]
    }
   ],
   "source": [
    "print(\"Fast sim\")\n",
    "fpr, tpr, thresholds = roc_curve(y_test, model.predict(x_test))\n",
    "print(\"Full sim\")\n",
    "fpr_full, tpr_full, thresholds_full = roc_curve(y_full_test, model_full.predict(x_full_test))\n",
    "print(\"Full sim pretrained\")\n",
    "fpr_pretrained, tpr_pretrained, thresholds_pretrained = roc_curve(y_full_test, model_pretrained.predict(x_full_test))"
   ]
  },
  {
   "cell_type": "code",
   "execution_count": 130,
   "metadata": {},
   "outputs": [
    {
     "data": {
      "image/png": "[encoded data removed]",
      "text/plain": [
       "<Figure size 432x288 with 1 Axes>"
      ]
     },
     "metadata": {
      "needs_background": "light"
     },
     "output_type": "display_data"
    }
   ],
   "source": [
    "plt.plot(fpr, tpr, label=\"Fastsim AUC={0:.5f}\".format(auc(fpr, tpr)))\n",
    "plt.plot(fpr_full, tpr_full, label=\"Fullsim AUC={0:.5f}\".format(auc(fpr_full, tpr_full)))\n",
    "plt.plot(fpr_pretrained, tpr_pretrained, label=\"Pretrained AUC={0:.5f}\".format(auc(fpr_pretrained, tpr_pretrained)))\n",
    "plt.title(\"ROC Curves\")\n",
    "plt.legend();"
   ]
  },
  {
   "cell_type": "code",
   "execution_count": null,
   "metadata": {},
   "outputs": [],
   "source": []
  }
 ],
 "metadata": {
  "kernelspec": {
   "display_name": "Python 3",
   "language": "python",
   "name": "python3"
  },
  "language_info": {
   "codemirror_mode": {
    "name": "ipython",
    "version": 3
   },
   "file_extension": ".py",
   "mimetype": "text/x-python",
   "name": "python",
   "nbconvert_exporter": "python",
   "pygments_lexer": "ipython3",
   "version": "3.8.5"
  }
 },
 "nbformat": 4,
 "nbformat_minor": 4
}
